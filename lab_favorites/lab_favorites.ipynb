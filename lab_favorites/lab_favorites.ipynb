{
 "cells": [
  {
   "attachments": {},
   "cell_type": "markdown",
   "execution_count": 0,
   "metadata": {},
   "outputs": [],
   "source": [
    "# Welcome to Lab: Favorites!\n",
    "\n",
    "In this lab, you will explore several favorites of DISCOVERY, including the favorite things of your TA, Karle, and Wade!  This will **help you prepare for the mosaic project that was introduced in lecture on Wednesday**.\n",
    "\n",
    "A few tips to remember:\n",
    "\n",
    "- **You are not alone on your journey in learning programming!**  You have your lab TA, your CAs, your lab group, and the professors (Prof. Wade and Prof. Karle), who are all here to help you out!\n",
    "- If you find yourself stuck for more than a few minutes, ask a neighbor or course staff for help!  When you are giving help to your neighbor, explain the **idea and approach** to the problem without sharing the answer itself so they can have the same **<i>ah-hah</i>** moment!\n",
    "- We are here to help you!  Don't feel embarrassed or shy to ask us for help!\n",
    "\n",
    "Let's get started!"
   ]
  },
  {
   "cell_type": "code",
   "execution_count": 0,
   "metadata": {},
   "outputs": [],
   "source": [
    "# Meet your CAs and TA if you haven't already!\n",
    "# ...first name is enough, we'll know who they are! :)\n",
    "ta_name = \"\"\n",
    "ca1_name = \"\"\n",
    "ca2_name = \"\"\n",
    "ca3_name = \"\"\n",
    "\n",
    "\n",
    "# Say hello to each other!\n",
    "# - Groups of 3 are ideal :)\n",
    "# - However, groups of 2 or 4 are fine too!\n",
    "#\n",
    "# Question of the Day (QOTD) to Ask Your Group: \"What is your favorite influencer?\"\n",
    "partner1_name = \"\"\n",
    "partner1_netid = \"\"\n",
    "partner1_favinfluencer = \"\"\n",
    "\n",
    "partner2_name = \"\"\n",
    "partner2_netid = \"\"\n",
    "partner2_favinfluencer = \"\"\n",
    "\n",
    "partner3_name = \"\"\n",
    "partner3_netid = \"\"\n",
    "partner3_favinfluencer= \"\""
   ]
  },
  {
   "cell_type": "markdown",
   "execution_count": 0,
   "metadata": {},
   "outputs": [],
   "source": [
    "<hr style=\"color: #DD3403;\">"
   ]
  },
  {
   "cell_type": "markdown",
   "execution_count": 0,
   "metadata": {},
   "outputs": [],
   "source": [
    "# Part 1: Karle's Game Day!\n",
    "\n",
    "One of Karle's favorite events is tailgating before Illini football games! The best part of tailgating is obviously the food and drinks 😉. Because Karle is an extrovert, she invites **many** people to her parties. For the upcoming games this fall, she needs to mix \"mocktails\" in gallons for all of her guests.  In this part of the lab, you will write a simulation to help simulate the possible drinks available at Karle's party.\n",
    "\n",
    "A \"mocktail\" has three ingredients:\n",
    "- A `mixer`, one of: `\"cranberry juice\"`, `\"lime juice\"`, `\"lemonade\"`, `\"kool-aid\"`, or `\"red bull\"` (gross!)\n",
    "- A `fruit`, one of: `\"watermelon\"`, `\"pineapple\"`, `\"lime\"`, `\"lemon\"`, or `\"cherry\"` (yum!)\n",
    "- A `core`, one of: `\"sparkling water\"`, `\"sprite\"`, and **add three other things** you should pick with your group to make five `\"core\"` component options!\n",
    "\n",
    "Create a DataFrame called `df` containing **10,000** simulations of possible \"mocktail\" combinations:"
   ]
  },
  {
   "cell_type": "code",
   "execution_count": 0,
   "metadata": {},
   "outputs": [],
   "source": [
    "# Write your simulation:\n",
    "..."
   ]
  },
  {
   "cell_type": "code",
   "execution_count": 0,
   "metadata": {},
   "outputs": [],
   "source": [
    "df"
   ]
  },
  {
   "cell_type": "markdown",
   "execution_count": 0,
   "metadata": {},
   "outputs": [],
   "source": [
    "### 🔬 Test Case Checkpoint 🔬"
   ]
  },
  {
   "cell_type": "code",
   "execution_count": 0,
   "metadata": {},
   "outputs": [],
   "source": [
    "## == CHECKPOINT TEST CASES: Karle's Game Day ==\n",
    "# - This read-only cell contains test cases for your previous cell.\n",
    "# - If this cell runs without any errors, you PASSED all test cases!\n",
    "# - If this cell results in any errors, check your previous cell, make changes, and RE-RUN your code and then this cell.\n",
    "mixers = [\"cranberry juice\", \"lime juice\", \"lemonade\", \"kool-aid\", \"red bull\"]\n",
    "fruits = [\"watermelon\", \"pineapple\", \"lime\", \"lemon\", \"cherry\"]\n",
    "cores = [\"sparkling water\", \"sprite\"]\n",
    "assert( 'df' in vars() ), \"Your simulation did not populate a DataFrame variable named `df`.\"\n",
    "assert( len(df) == 10000 ), \"The length of your `df` is not 10000, check the value in your for-loop declaration.\"\n",
    "assert( len(df.columns.to_list()) == 3 ), \"Your DataFrame should contain 3 columns!\"\n",
    "assert( 'mixer' in df ), \"Your DataFrame is missing a `mixer` column.\"\n",
    "assert( 'fruit' in df ), \"Your DataFrame is missing a `fruit` column.\"\n",
    "assert( 'core' in df ), \"Your DataFrame is missing a `core` column.\"\n",
    "for m in mixers:\n",
    "    assert ( m in list(df['mixer']) ), f\"Your DataFrame is missing the mixer {m}.\"\n",
    "for f in fruits:\n",
    "    assert ( f in list(df['fruit']) ), f\"Your DataFrame is missing the fruit {f}.\"\n",
    "for c in cores:\n",
    "    assert ( c in list(df['core']) ), f\"Your DataFrame is missing the core {c}.\"\n",
    "\n",
    "assert( len(set(df['core'])) == 5 ), \"Your DataFrame does not return five unique core components.\"\n",
    "\n",
    "## == SUCCESS MESSAGE ==\n",
    "# You will only see this message (with the emoji showing) if you passed all test cases:\n",
    "tada = \"\\N{PARTY POPPER}\"\n",
    "print(f\"{tada} All tests passed! {tada}\")"
   ]
  },
  {
   "cell_type": "markdown",
   "execution_count": 0,
   "metadata": {},
   "outputs": [],
   "source": [
    "## Estimated Probability of Red Bull!\n",
    "\n",
    "Many people feel the combination of energy drinks with other drinks is gross! Calculate the estimated probability that a randomly created drink has **red bull and sprite** or **red bull and sparkling water** in the variable `P_redBullCombo`. Use your simulation data to do this!"
   ]
  },
  {
   "cell_type": "code",
   "execution_count": 0,
   "metadata": {},
   "outputs": [],
   "source": [
    "P_redBullCombo = ...\n",
    "P_redBullCombo"
   ]
  },
  {
   "cell_type": "markdown",
   "execution_count": 0,
   "metadata": {},
   "outputs": [],
   "source": [
    "## Estimated Probability of a True Mocktail\n",
    "\n",
    "Karle is incredibly suspicious of the extra ingredients you picked for her, so we consider a \"true mocktail\" to be a drink made with a core of `\"sparkling water\"` or `\"sprite\"` only.  Calculate the estimated probability that a randomly created drink is a \"true mocktail\" the variable `P_trueMocktail`:\n"
   ]
  },
  {
   "cell_type": "code",
   "execution_count": 0,
   "metadata": {},
   "outputs": [],
   "source": [
    "P_trueMocktail = ...\n",
    "P_trueMocktail"
   ]
  },
  {
   "cell_type": "markdown",
   "execution_count": 0,
   "metadata": {},
   "outputs": [],
   "source": [
    "### 🔬 Test Case Checkpoint 🔬"
   ]
  },
  {
   "cell_type": "code",
   "execution_count": 0,
   "metadata": {},
   "outputs": [],
   "source": [
    "## == CHECKPOINT TEST CASES: Mocktail Probabilities ==\n",
    "# - This read-only cell contains test cases for your previous cell.\n",
    "# - If this cell runs without any errors, you PASSED all test cases!\n",
    "# - If this cell results in any errors, check your previous cell, make changes, and RE-RUN your code and then this cell.\n",
    "assert( 0.07 <= P_redBullCombo and 0.095 >= P_redBullCombo ), \"You've calculated `P_redBullCombo` incorrectly.\"\n",
    "assert( 0.38 <= P_trueMocktail and 0.42 >= P_trueMocktail ), \"You've calculated `P_trueMocktail` incorrectly.\"\n",
    "'''\n",
    "NOTE: \n",
    "These boundary values were obtained by running 10,000 correct simulations and finding the max, min probability of ALL those runs. \n",
    "There is still a chance, albeit *extremely* low, that a student fails this test case with correct code. \n",
    "If the value is suspiciously close, try running all cells again. \n",
    "'''\n",
    "\n",
    "## == SUCCESS MESSAGE ==\n",
    "# You will only see this message (with the emoji showing) if you passed all test cases:\n",
    "tada = \"\\N{PARTY POPPER}\"\n",
    "print(f\"{tada} All tests passed! {tada}\")"
   ]
  },
  {
   "cell_type": "markdown",
   "execution_count": 0,
   "metadata": {},
   "outputs": [],
   "source": [
    "### Analysis: Using Simulations for Estimated Probabilities\n",
    "\n",
    "**Q1: Is the probability you calculated of a \"true mocktail\" the exact probability of a \"true mocktail\" or is it an estimate?**"
   ]
  },
  {
   "cell_type": "markdown",
   "execution_count": 0,
   "metadata": {},
   "outputs": [],
   "source": [
    "*(✏️ Edit this cell to replace this text with your answer. ✏️)*"
   ]
  },
  {
   "cell_type": "markdown",
   "execution_count": 0,
   "metadata": {},
   "outputs": [],
   "source": [
    "<hr style=\"color: #DD3403;\">"
   ]
  },
  {
   "cell_type": "markdown",
   "execution_count": 0,
   "metadata": {},
   "outputs": [],
   "source": [
    "# Part 2: Using Images - Getting Ready for Project #1\n",
    "\n",
    "Up until now, we have used **organized, well-structured data** in DISCOVERY.  However, data can be found everywhere and, in this lab, we'll begin to explore the data that does come to us in a CSV!\n",
    "\n",
    "Specifically, let's look at an **image**!  A computer represents an image as a 2D grid of **pixels** where each pixel is a single color.  Each dot on your computer's screen a pixel, so here's a **really small** image that is 3 pixels by 3 pixels: ![sample image](./notebook-images/sample.png)\n",
    "\n",
    "Here is the that same 3x3 image, **zoomed in at 50x**:\n",
    "\n",
    "![Color](./notebook-images/sample-50x.png)\n",
    "\n",
    "\n",
    "## Using the DISCOVERY Library\n",
    "\n",
    "We will need to use Python to help us process large images, but we will use the example 3x3 image to understand how to work with images!  For this lab, we have provided the function for you to load images as a DataFrame.\n",
    "\n",
    "- Use `import DISCOVERY` to import the DISCOVERY library\n",
    "- Use `DISCOVERY.df_image(\"sample.png\")` to load the image and return the data in the form of a DataFrame\n",
    "- Save your image DataFrame you've loaded as `df_pixels`\n",
    "\n"
   ]
  },
  {
   "cell_type": "code",
   "execution_count": 0,
   "metadata": {},
   "outputs": [],
   "source": [
    "# Load the image into a DataFrame `df_pixels`:\n",
    "...\n",
    "df_pixels = ..."
   ]
  },
  {
   "cell_type": "markdown",
   "execution_count": 0,
   "metadata": {},
   "outputs": [],
   "source": [
    "### 🔬 Test Case Checkpoint 🔬"
   ]
  },
  {
   "cell_type": "code",
   "execution_count": 0,
   "metadata": {},
   "outputs": [],
   "source": [
    "## == CHECKPOINT TEST CASES: Using Images ==\n",
    "# - This read-only cell contains test cases for your previous cell.\n",
    "# - If this cell runs without any errors, you PASSED all test cases!\n",
    "# - If this cell results in any errors, check your previous cell, make changes, and RE-RUN your code and then this cell.\n",
    "assert( len(df_pixels) == 9 ), \"The length of your `df_pixels` should be 9 - there's 9 pixels in the sample.png!\"\n",
    "assert( len(df_pixels.columns.to_list() ) == 5 ), \"There should be five columns in your `df_pixels`.\"\n",
    "for col in ['x', 'y', 'r', 'g', 'b']:\n",
    "    assert ( col in df_pixels ), f\"Your `df_pixels` is missing the {col} column. Make sure you're using the `DISCOVERY.df_image()` function!\"\n",
    "\n",
    "## == SUCCESS MESSAGE ==\n",
    "# You will only see this message (with the emoji showing) if you passed all test cases:\n",
    "tada = \"\\N{PARTY POPPER}\"\n",
    "print(f\"{tada} All tests passed! {tada}\")"
   ]
  },
  {
   "cell_type": "markdown",
   "execution_count": 0,
   "metadata": {},
   "outputs": [],
   "source": [
    "## Understanding the DataFrame\n",
    "\n",
    "In your DataFrame above, every pixel has five values:\n",
    "- An `x` value, for the **x** (horizontal) position, starting with `0` in the top-left\n",
    "- A `y` value, for the **y** (vertical) position, starting with `0` in the top-left\n",
    "- An `r` value, for the amount of **red** color in the image (`0` means no red, `255` means 100% red)\n",
    "- A `g` value, for the amount of **green** color in the image (`0` - `255`)\n",
    "- A `b` value, for the amount of **blue** color in the image (`0` - `255`)\n",
    "\n",
    "In the image above, the top-left cell is blue.  Let's see what that looks like in data:\n"
   ]
  },
  {
   "cell_type": "code",
   "execution_count": 0,
   "metadata": {},
   "outputs": [],
   "source": [
    "df_pixels[ (df_pixels.x == 0) & (df_pixels.y == 0) ]"
   ]
  },
  {
   "cell_type": "markdown",
   "execution_count": 0,
   "metadata": {},
   "outputs": [],
   "source": [
    "...the color value for `(x = 0, y = 0)` is all blue (`b = 255`) with no other colors added.  Moving to the right to `x == 1`:"
   ]
  },
  {
   "cell_type": "code",
   "execution_count": 0,
   "metadata": {},
   "outputs": [],
   "source": [
    "df_pixels[ (df_pixels.x == 1) & (df_pixels.y == 0) ]"
   ]
  },
  {
   "cell_type": "markdown",
   "execution_count": 0,
   "metadata": {},
   "outputs": [],
   "source": [
    "...the color value for `(x = 1, y = 0)` is all the colors (`r`, `g` and `b` are all `255`).  Since computers create colors with light (\"additive colors\"), the combination of all the colors makes a white color."
   ]
  },
  {
   "cell_type": "markdown",
   "execution_count": 0,
   "metadata": {},
   "outputs": [],
   "source": [
    "## Finding all the white pixels\n",
    "\n",
    "Just above this section, you learned how a white pixel is represented in data.  Create a new DataFrame, `df_white`, that contains all of the white pixels in the sample image:"
   ]
  },
  {
   "cell_type": "code",
   "execution_count": 0,
   "metadata": {},
   "outputs": [],
   "source": [
    "..."
   ]
  },
  {
   "cell_type": "markdown",
   "execution_count": 0,
   "metadata": {},
   "outputs": [],
   "source": [
    "## Finding all the \"primarily red\" pixels\n",
    "\n",
    "Find all the pixels that are \"primarily red\", where a \"primarily red\" pixel has more red than green **AND** more red than blue.  Store all the \"primarily red\" pixels in the DataFrame `df_red`."
   ]
  },
  {
   "cell_type": "code",
   "execution_count": 0,
   "metadata": {},
   "outputs": [],
   "source": [
    "..."
   ]
  },
  {
   "cell_type": "markdown",
   "execution_count": 0,
   "metadata": {},
   "outputs": [],
   "source": [
    "### 🔬 Test Case Checkpoint 🔬"
   ]
  },
  {
   "cell_type": "code",
   "execution_count": 0,
   "metadata": {},
   "outputs": [],
   "source": [
    "## == CHECKPOINT TEST CASES: Finding Pixels ==\n",
    "# - This read-only cell contains test cases for your previous cell.\n",
    "# - If this cell runs without any errors, you PASSED all test cases!\n",
    "# - If this cell results in any errors, check your previous cell, make changes, and RE-RUN your code and then this cell.\n",
    "assert( 'df_white' in vars() ), \"Make sure your DataFrame of white pixels is named `df_white`.\"\n",
    "assert( 'df_red' in vars() ), \"Make sure your DataFrame of red pixels is named `df_red`.\"\n",
    "assert( len(df_white) == 3 ), \"Your `df_white` does not contain all three white pixels in the sample image.\"\n",
    "assert( (df_white['r'] == 255).all() and (df_white['g'] == 255).all() and (df_white['b'] == 255).all() ), \"Your `df_white` contains non-white pixels.\"\n",
    "assert( len(df_red) == 2 ), \"Your `df_red` does not contain the two 'primarily red' pixels in the sample image.\"\n",
    "assert( set(df_red['x'] + df_red['y']) == {2, 3} ), \"Your `df_red` does not contain the two 'primarily red' pixels in the sample image.\"\n",
    "\n",
    "## == SUCCESS MESSAGE ==\n",
    "# You will only see this message (with the emoji showing) if you passed all test cases:\n",
    "tada = \"\\N{PARTY POPPER}\"\n",
    "print(f\"{tada} All tests passed! {tada}\")"
   ]
  },
  {
   "cell_type": "markdown",
   "execution_count": 0,
   "metadata": {},
   "outputs": [],
   "source": [
    "### Analysis: A Certain Area of Pixels\n",
    "\n",
    "Looking at pixels of a certain color is interesting, but something else we can analyze with this DataFrame is a certain area of pixels!\n",
    "\n",
    "**Q2: If we wanted to analyze a DataFrame containing only the pixels 2x2 grid of pixels -- such as the bottom-right corner of the sample image --  how would you create a subset of the rows in your above DataFrame to only contain those 2x2 pixels?**"
   ]
  },
  {
   "cell_type": "markdown",
   "execution_count": 0,
   "metadata": {},
   "outputs": [],
   "source": [
    "*(✏️ Edit this cell to replace this text with your answer. ✏️)*"
   ]
  },
  {
   "cell_type": "markdown",
   "execution_count": 0,
   "metadata": {},
   "outputs": [],
   "source": [
    "<hr style=\"color: #DD3403;\">"
   ]
  },
  {
   "cell_type": "markdown",
   "execution_count": 0,
   "metadata": {},
   "outputs": [],
   "source": [
    "# Part 3: Your Lab-Specific Image with your TAs and CAs\n",
    "\n",
    "Before your section, your TA -- with the help of the CAs -- picked an image for you to do analysis on!\n",
    "\n",
    "- Navigate to the image and save the image to your computer.\n",
    "- Place the image in the same folder as this lab (`lab_favorites`).\n",
    "- Load the image into a DataFrame `df`."
   ]
  },
  {
   "cell_type": "code",
   "execution_count": 0,
   "metadata": {},
   "outputs": [],
   "source": [
    "# Load the image your TA chose for you into a DataFrame:\n",
    "df_lab_image = ...\n",
    "df_lab_image"
   ]
  },
  {
   "cell_type": "markdown",
   "execution_count": 0,
   "metadata": {},
   "outputs": [],
   "source": [
    "## Primary \"Primary Color\"\n",
    "\n",
    "Using the idea of \"primary red\" pixels, we will extend the idea to \"primary red\", \"primary green\", or \"primary blue\".  In the following three sections, find the **percentage of pixels** that are primarily red, green, and blue, storing in the **decimal variables** `percent_r`, `percent_g`, and `percent_b`:"
   ]
  },
  {
   "cell_type": "code",
   "execution_count": 0,
   "metadata": {},
   "outputs": [],
   "source": [
    "# Find the percentage of primarily red pixels:\n",
    "percent_r = ...\n",
    "percent_r"
   ]
  },
  {
   "cell_type": "code",
   "execution_count": 0,
   "metadata": {},
   "outputs": [],
   "source": [
    "# Find the percentage of primarily green pixels:\n",
    "percent_g = ...\n",
    "percent_g"
   ]
  },
  {
   "cell_type": "code",
   "execution_count": 0,
   "metadata": {},
   "outputs": [],
   "source": [
    "# Find the percentage of primarily blue pixels:\n",
    "percent_b = ...\n",
    "percent_b"
   ]
  },
  {
   "cell_type": "markdown",
   "execution_count": 0,
   "metadata": {},
   "outputs": [],
   "source": [
    "### 🔬 Test Case Checkpoint 🔬"
   ]
  },
  {
   "cell_type": "code",
   "execution_count": 0,
   "metadata": {},
   "outputs": [],
   "source": [
    "## == CHECKPOINT TEST CASES: Finding Percentages ==\n",
    "# - This read-only cell contains test cases for your previous cell.\n",
    "# - If this cell runs without any errors, you PASSED all test cases!\n",
    "# - If this cell results in any errors, check your previous cell, make changes, and RE-RUN your code and then this cell.\n",
    "assert( isinstance(percent_r, float) and isinstance(percent_g, float) and isinstance(percent_b, float) ), \"Your percentages of r, g, b pixels should be decimal (float) variables.\"\n",
    "assert( percent_r >= 0 and percent_r <= 1 ), \"The percentage of red pixels must be between 0% and 100%.\"\n",
    "assert( percent_g >= 0 and percent_g <= 1 ), \"The percentage of green pixels must be between 0% and 100%.\"\n",
    "assert( percent_b >= 0 and percent_b <= 1 ), \"The percentage of blue pixels must be between 0% and 100%.\"\n",
    "total = percent_r + percent_g + percent_b\n",
    "assert( total >= 0 and total <= 1 ), \"The total of your percentages should be between 0 and 1, not exceeding 100%!\"\n",
    "\n",
    "## == SUCCESS MESSAGE ==\n",
    "# You will only see this message (with the emoji showing) if you passed all test cases:\n",
    "tada = \"\\N{PARTY POPPER}\"\n",
    "print(f\"{tada} All tests passed! {tada}\")"
   ]
  },
  {
   "cell_type": "markdown",
   "execution_count": 0,
   "metadata": {},
   "outputs": [],
   "source": [
    "## Average Color\n",
    "\n",
    "Finally, find the average color of the entire image.  The average color will have three components: the average red, the average green, and the average blue."
   ]
  },
  {
   "cell_type": "code",
   "execution_count": 0,
   "metadata": {},
   "outputs": [],
   "source": [
    "# Find the average red:\n",
    "avg_red = ...\n",
    "avg_red"
   ]
  },
  {
   "cell_type": "code",
   "execution_count": 0,
   "metadata": {},
   "outputs": [],
   "source": [
    "# Find the average green:\n",
    "avg_green = ...\n",
    "avg_green"
   ]
  },
  {
   "cell_type": "code",
   "execution_count": 0,
   "metadata": {},
   "outputs": [],
   "source": [
    "# Find the average blue:\n",
    "avg_blue = ...\n",
    "avg_blue"
   ]
  },
  {
   "cell_type": "markdown",
   "execution_count": 0,
   "metadata": {},
   "outputs": [],
   "source": [
    "### 🔬 Test Case Checkpoint 🔬"
   ]
  },
  {
   "cell_type": "code",
   "execution_count": 0,
   "metadata": {},
   "outputs": [],
   "source": [
    "## == CHECKPOINT TEST CASES: Finding Averages ==\n",
    "# - This read-only cell contains test cases for your previous cell.\n",
    "# - If this cell runs without any errors, you PASSED all test cases!\n",
    "# - If this cell results in any errors, check your previous cell, make changes, and RE-RUN your code and then this cell.\n",
    "assert( isinstance(avg_red, float) and isinstance(avg_green, float) and isinstance(avg_blue, float) ), \"Your average pixel color values should be decimal (float) variables.\"\n",
    "assert( avg_red >= 0 and avg_red <= 255 ), \"The average red value must be between 0 and 255.\"\n",
    "assert( avg_green >= 0 and avg_green <= 255 ), \"The average green value must be between 0 and 255.\"\n",
    "assert( avg_blue >= 0 and avg_blue <= 255 ), \"The average blue value must be between 0 and 255.\"\n",
    "\n",
    "## == SUCCESS MESSAGE ==\n",
    "# You will only see this message (with the emoji showing) if you passed all test cases:\n",
    "tada = \"\\N{PARTY POPPER}\"\n",
    "print(f\"{tada} All tests passed! {tada}\")"
   ]
  },
  {
   "cell_type": "markdown",
   "execution_count": 0,
   "metadata": {},
   "outputs": [],
   "source": [
    "## See the Average Color\n",
    "\n",
    "Colors are presented in code as a tuple, `rgb(1, 2, 3)`.  Run the following code to see the average color represented as a tuple, and to see a Google search where you can view it yourself!"
   ]
  },
  {
   "cell_type": "code",
   "execution_count": 0,
   "metadata": {},
   "outputs": [],
   "source": [
    "color = f\"rgb({round(avg_red)}, {round(avg_green)}, {round(avg_blue)})\"\n",
    "\n",
    "print(f\"Average color: {color}\")\n",
    "color = color.replace(\" \", \"\")\n",
    "print(f\"See it on Google: https://www.google.com/search?q={color}&\")"
   ]
  },
  {
   "cell_type": "markdown",
   "execution_count": 0,
   "metadata": {},
   "outputs": [],
   "source": [
    "### Analysis: Average Color\n",
    "\n",
    "**Q3: Is the average color just found the most commonly occurring color?  If not, what does the \"average color\" tell us?**"
   ]
  },
  {
   "cell_type": "markdown",
   "execution_count": 0,
   "metadata": {},
   "outputs": [],
   "source": [
    "*(✏️ Edit this cell to replace this text with your answer. ✏️)*"
   ]
  },
  {
   "cell_type": "markdown",
   "execution_count": 0,
   "metadata": {},
   "outputs": [],
   "source": [
    "**Q4: Is you added 100 to every `b` value, but kept the other values the same, how to you think the image would change when it's viewed as an image?**"
   ]
  },
  {
   "cell_type": "markdown",
   "execution_count": 0,
   "metadata": {},
   "outputs": [],
   "source": [
    "*(✏️ Edit this cell to replace this text with your answer. ✏️)*"
   ]
  },
  {
   "cell_type": "markdown",
   "execution_count": 0,
   "metadata": {},
   "outputs": [],
   "source": [
    "<hr style=\"color: #DD3403;\">"
   ]
  },
  {
   "cell_type": "markdown",
   "execution_count": 0,
   "metadata": {},
   "outputs": [],
   "source": [
    "# Submission\n",
    "\n",
    "You're almost done!  All you need to do is to commit your lab to GitHub:\n",
    "\n",
    "1.  ⚠️ **Make certain to save your work.** ⚠️ To do this, go to **File => Save All**\n",
    "\n",
    "2.  After you have saved, exit this notebook and follow the Canvas instructions to commit this lab to your Git repository!\n",
    "\n",
    "3. Your TA will grade your submission and provide you feedback after the lab is due. :)"
   ]
  }
 ],
 "metadata": {
  "kernelspec": {
   "display_name": "Python 3",
   "language": "python",
   "name": "python3"
  },
  "language_info": {
   "codemirror_mode": {
    "name": "ipython",
    "version": 3
   },
   "file_extension": ".py",
   "mimetype": "text/x-python",
   "name": "python",
   "nbconvert_exporter": "python",
   "pygments_lexer": "ipython3",
   "version": "3.10.5"
  },
  "vscode": {
   "interpreter": {
    "hash": "f48b0ea9e8281b29b1f9b6045fc5406bb9891af892053a27454c097f6ae51d2c"
   }
  }
 },
 "nbformat": 4,
 "nbformat_minor": 2
}
