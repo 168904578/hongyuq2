{
 "cells": [
  {
   "cell_type": "markdown",
   "execution_count": 0,
   "metadata": {
    "id": "RtmrHpmXM3EJ"
   },
   "outputs": [],
   "source": [
    "# Welcome to Lab: Justice ⚖️\n",
    "\n",
    "We plan on continuing to explore simulation in Python this week. However, this time, we're going to simulate some **real-world events** that have actually happened in the past.  The goal is for you to see how we can use data science to think about issues of **equity** and **social justice**.  As usual, in addition to coding, we want you to get practice having **discussions about the data science** you're doing and think about how data science can be a useful tool that can help you in your future job and as a citizen.\n",
    "\n",
    "**IMPORTANT NOTE**: In this lab, it's *very* important that you read through the text carefully. Understanding the context is crucial for success in `lab_justice` :)\n",
    "\n",
    "A few tips to remember:\n",
    "\n",
    "- **You are not alone on your journey in learning programming!**  You have your lab Teaching Assistant, your CAs, your lab group, and the professors (Prof. Wade and Prof. Karle), who are all here to help you out!\n",
    "- If you find yourself stuck for more than a few minutes, ask a neighbor or course staff for help!  When you are giving help to your neighbor, explain the **idea and approach** to the problem without sharing the answer itself so they can have the same **<i>ah-hah</i>** moment!\n",
    "- We are here to help you!  Don't feel embarrassed or shy to ask us for help!\n",
    "\n",
    "Let's get started!"
   ]
  },
  {
   "cell_type": "code",
   "execution_count": 0,
   "metadata": {
    "id": "GQEycpmqM3EM"
   },
   "outputs": [],
   "source": [
    "# Meet your CAs and TA if you haven't already!\n",
    "# First name is enough, we'll know who they are! :)\n",
    "ta_name = \"\"\n",
    "ca1_name = \"\"\n",
    "ca2_name = \"\"\n",
    "ca3_name = \"\"\n",
    "\n",
    "\n",
    "# Working with your group will be particularly important for discussion purposes in this week's lab!\n",
    "#\n",
    "# QOTD to Ask Your Group: \"What is your comfort food?\"\n",
    "partner1_name = \"\"\n",
    "partner1_netid = \"\"\n",
    "partner1_comfortfood = \"\"\n",
    "\n",
    "partner2_name = \"\"\n",
    "partner2_netid = \"\"\n",
    "partner2_comfortfood = \"\"\n",
    "\n",
    "partner3_name = \"\"\n",
    "partner3_netid = \"\"\n",
    "partner3_comfortfood = \"\""
   ]
  },
  {
   "cell_type": "markdown",
   "execution_count": 0,
   "metadata": {
    "id": "AG_zd7LRM3EO"
   },
   "outputs": [],
   "source": [
    "<hr style=\"color: #DD3403;\">"
   ]
  },
  {
   "cell_type": "markdown",
   "execution_count": 0,
   "metadata": {
    "id": "toLrY9lrM3EP"
   },
   "outputs": [],
   "source": [
    "# Part 1: Jury Selection + Simulation\n",
    "\n",
    "The 6th Amendment to the U.S. Constitution provides the right to an **“impartial jury”** in criminal prosecutions, but what exactly does this mean? The Supreme Court has said that juries must be drawn from a representative cross-section of the community. In other words, juries should be **randomly selected** from the eligible population. However, there are many instances in history where it doesn’t seem like this was the case.\n",
    "\n",
    "Take for example, the case of Berghuis v. Smith.  In 1993, Smith (a Black man) was convicted of 2nd-degree murder by an **all-white** jury and sentenced to life in prison. The jury was selected from a panel of about 100 randomly selected people. Only 3 of them were Black and none of those 3 made it into the final 37 considered for Smith’s trial. The county population was approximately 8 percent Black at the time of the trial.  Remember, jury panels are supposed to be selected at random from the eligible population.\n",
    "\n",
    "### Analysis: Your Initial Thoughts\n",
    "**Group Discussion: Because 8% of the eligible population was Black, 3 Black people on a panel of 100 might seem low.  Does this difference (8% vs. 3%) seem big to you? Do you think this could be due to chance?**\n",
    "\n",
    "**Q1: Write a few sentences summarizing what your group members said during your discussion.  Did people think this difference could have been due to chance or not?**\n"
   ]
  },
  {
   "cell_type": "markdown",
   "execution_count": 0,
   "metadata": {
    "id": "Ywh0uefRM3EP"
   },
   "outputs": [],
   "source": [
    "*(✏️ Edit this cell to replace this text with your answer. ✏️)*"
   ]
  },
  {
   "cell_type": "markdown",
   "execution_count": 0,
   "metadata": {
    "id": "AmUxXWQ2M3EQ"
   },
   "outputs": [],
   "source": [
    "This case was appealed and sent to the Supreme Court.  Some people claimed that the overall percentage disparity (between 8% and 3%) was small and reflected no attempt to include or exclude \"a specified number of Black people from the jury.\" They claimed this \"small\" difference could simply be due to chance.  Critics and Smith claimed that the system of jury selection caused the lack of fair and reasonable representation of Black people on the jury.\n",
    "\n",
    "## Puzzle 1.1: Writing a Function\n",
    "\n",
    "Let’s do a simulation in Python to understand what’s going on.  We will eventually write a simulation to show the expected distribution.  \n",
    "\n",
    "Remember, from the case: we're trying to see if the difference between 8% and 3% is small and reflects no attempt to include or exclude \"a specified number of Black people.\"  In other words, we want to **write a function** to **randomly sample 100 people from a population that is 8% Black**. The function should `return` the **number of Black people in the simulated jury**.  We can do this multiple times and see how rare it is to get 3 or fewer Black people in the jury.\n",
    "\n",
    "First, using the cell below, import any necessary Python libraries. To write this simulation, `pandas` and `random` might be useful..."
   ]
  },
  {
   "cell_type": "code",
   "execution_count": 0,
   "metadata": {
    "id": "UQsorTwCM3EQ"
   },
   "outputs": [],
   "source": [
    "..."
   ]
  },
  {
   "cell_type": "markdown",
   "execution_count": 0,
   "metadata": {
    "id": "qo9fSxcVM3ER"
   },
   "outputs": [],
   "source": [
    "Then, in the following cell, define our simulation function. Remember, the function should **randomly sample 100 people from a population that is 8% Black**. The function should `return` the **number of Black people in the simulated jury**."
   ]
  },
  {
   "cell_type": "code",
   "execution_count": 0,
   "metadata": {
    "id": "RbZKnhgsM3ES"
   },
   "outputs": [],
   "source": [
    "def simulateJuryPanel():\n",
    "  ..."
   ]
  },
  {
   "cell_type": "markdown",
   "execution_count": 0,
   "metadata": {
    "id": "rBu_W0B0M3ES"
   },
   "outputs": [],
   "source": [
    "### 🔬 Test Case Checkpoint 🔬"
   ]
  },
  {
   "cell_type": "code",
   "execution_count": 0,
   "metadata": {
    "id": "Gyem_OoxM3ET",
    "outputId": "3f0ebb83-5a55-4844-f4bb-0107539f0084"
   },
   "outputs": [],
   "source": [
    "## == TEST CASES for Puzzle 1.1 ==\n",
    "# - This read-only cell contains test cases for your previous cells.\n",
    "# - If this cell runs without any error our output, you PASSED all test cases!\n",
    "# - If this cell results in any errors, check you previous cell, make changes, and RE-RUN your code and then this cell.\n",
    "assert callable(simulateJuryPanel), \"You should have defined `simulateJuryPanel` as a function above.\"\n",
    "assert isinstance(simulateJuryPanel(), int), \"Your simulateJuryPanel() function should return an integer that represents the number of Black people on a jury from a population that is 8% Black.\"\n",
    "test_juries = [simulateJuryPanel() for i in range(20)]\n",
    "for jury in test_juries:\n",
    "    assert(0 <= jury <= 100), \"Your simulateJuryPanel() should only return integers between 0 and 100.\"\n",
    "assert abs((sum(test_juries) / 20) - 8) <= 3, \"Your calculations in simulateJuryPanel() are incorrect.\"\n",
    "def check(list):\n",
    "    return(all(i==list[0] for i in list))\n",
    "assert(check(test_juries) == False), \"Your simulation is returning the same number in every iteration. This is incorrect since we are randomly sampling from a population that is 8% Black.\"\n",
    "\n",
    "## == SUCCESS MESSAGE ==\n",
    "# You will only see this message (with the emoji showing) if you passed all test cases:\n",
    "tada = \"\\N{PARTY POPPER}\"\n",
    "print(f\"{tada} All tests passed! {tada}\")"
   ]
  },
  {
   "cell_type": "markdown",
   "execution_count": 0,
   "metadata": {
    "id": "XVZhtRvHM3EU"
   },
   "outputs": [],
   "source": [
    "## Puzzle 1.2: Storing Simulation Results\n",
    "\n",
    "Now that we have a working `simulateJuryPanel()` function, let's do a simulation and store the results in a DataFrame for analysis. Let’s start by doing this simulation **1000 times**. Simulate choosing **1000 jury panels** by calling `simulateJuryPanel()` each time and store the number of Black people selected in every panel. Store these results in a DataFrame named `df`.\n",
    "\n",
    "The variable or column in the DataFrame should be named `panel`."
   ]
  },
  {
   "cell_type": "code",
   "execution_count": 0,
   "metadata": {
    "id": "B8BFousCM3EV",
    "outputId": "9b637e2e-5086-4896-a053-46835d335e5b"
   },
   "outputs": [],
   "source": [
    "..."
   ]
  },
  {
   "cell_type": "markdown",
   "execution_count": 0,
   "metadata": {
    "id": "CIU-Nuy4M3EW"
   },
   "outputs": [],
   "source": [
    "### 🔬 Test Case Checkpoint 🔬"
   ]
  },
  {
   "cell_type": "code",
   "execution_count": 0,
   "metadata": {
    "id": "xzf_YlC7M3EW",
    "outputId": "bb3cb181-1805-4dbc-ab8e-89d27446882d"
   },
   "outputs": [],
   "source": [
    "## == TEST CASES for Puzzle 1.2 ==\n",
    "# - This read-only cell contains test cases for your previous cell.\n",
    "# - If this cell runs with the success message as your output, you PASSED all test cases!\n",
    "# - If this cell results in any errors, check your previous cell, make changes, & RE-RUN your code & then this cell.\n",
    "assert('df' in vars()), \"Make sure your DataFrame is named `df`.\"\n",
    "assert('panel' in df.columns.to_list()), \"Make sure your simulations are stored in a column named `panel`.\"\n",
    "assert(len(df) == 1000), \"Your DataFrame is the wrong length. Perhaps you did not simulate 200 times?\"\n",
    "assert(df['panel'].mean() < 10), \"Your simulation isn't accurately simulating a randomly selected jury panel. You just created a function for this!\"\n",
    "assert(df['panel'].mean() > 5), \"Your simulation isn't accurately simulating a randomly selected jury panel. You just created a function for this!\"\n",
    "\n",
    "## == SUCCESS MESSAGE ==\n",
    "# You'll only see this message (With the emoji showing) if you passed all test cases:\n",
    "tada = \"\\N{PARTY POPPER}\"\n",
    "print(f\"{tada} All tests passed! {tada}\")"
   ]
  },
  {
   "cell_type": "markdown",
   "execution_count": 0,
   "metadata": {
    "id": "BPf1OUanM3EW"
   },
   "outputs": [],
   "source": [
    "## Puzzle 1.3: Visualization\n",
    "\n",
    "Now, let's visualize the results of our simulation.  Since the number of Black jurors that are selected as part of the panel is a discrete variable that represents a category of results, it is best visualized with a **frequency bar chart** (histograms are best for continuous data).\n",
    "\n",
    "Follow our DISCOVERY Guide: \"Creating a Frequency Bar Chart from a DataFrame\" to create a frequency bar chart.\n",
    "- [DISCOVERY Guide: Creating a Frequency Bar Chart from a DataFrame](https://discovery.cs.illinois.edu/guides/Data-Visualization/value-counts-bar-chart/)\n",
    "\n",
    "Create your frequency bar chart below:"
   ]
  },
  {
   "cell_type": "code",
   "execution_count": 0,
   "metadata": {
    "id": "eoGEFVV9M3EX",
    "outputId": "facc28b1-d490-4097-83b9-3d1c58662bae"
   },
   "outputs": [],
   "source": [
    "..."
   ]
  },
  {
   "cell_type": "markdown",
   "execution_count": 0,
   "metadata": {
    "id": "GoTur8qwM3EX"
   },
   "outputs": [],
   "source": [
    "### Analysis: Simulating Juries\n",
    "\n",
    "**Group Discussion: Interpret the results of your frequency bar chart**\n",
    "\n",
    "**Q2: Write down the most interesting takeaway from your group discussion.**"
   ]
  },
  {
   "cell_type": "markdown",
   "execution_count": 0,
   "metadata": {
    "id": "4afTiPAxM3EX"
   },
   "outputs": [],
   "source": [
    "*(✏️ Edit this cell to replace this text with your answer. ✏️)*"
   ]
  },
  {
   "cell_type": "markdown",
   "execution_count": 0,
   "metadata": {
    "id": "VdFBpZQOM3EX"
   },
   "outputs": [],
   "source": [
    "## Puzzle 1.4: Observed and Expected Value\n",
    "\n",
    "### Analysis: Expected Value\n",
    "**Q3: Considering our population metrics, what was the expected value for the number of Black people in the jury?**  "
   ]
  },
  {
   "cell_type": "markdown",
   "execution_count": 0,
   "metadata": {
    "id": "YgsJfcFtM3EX"
   },
   "outputs": [],
   "source": [
    "*(✏️ Edit this cell to replace this text with your answer. ✏️)*"
   ]
  },
  {
   "cell_type": "markdown",
   "execution_count": 0,
   "metadata": {
    "id": "bk-zfAegM3EX"
   },
   "outputs": [],
   "source": [
    "Using our simulation, we will observe and note any differences between the actual mean number of Black people in the juries and our expected value.\n",
    "\n",
    "Using the cell below, calculate the `mean` number of Black people in a jury from our `df` that you created from the simulation. Store your result in the variable `mean`."
   ]
  },
  {
   "cell_type": "code",
   "execution_count": 0,
   "metadata": {
    "id": "hCDQl8u2M3EY",
    "outputId": "7ff4e6f6-27ea-46b3-f8e0-263e6c9f2b70"
   },
   "outputs": [],
   "source": [
    "mean = ...\n",
    "mean"
   ]
  },
  {
   "cell_type": "markdown",
   "execution_count": 0,
   "metadata": {
    "id": "g-GUTLOVM3EY"
   },
   "outputs": [],
   "source": [
    "### 🔬 Test Case Checkpoint 🔬"
   ]
  },
  {
   "cell_type": "code",
   "execution_count": 0,
   "metadata": {
    "id": "d1kKlsqSM3EY",
    "outputId": "8f0810ec-5983-4c2e-d9a3-ebad2310c141"
   },
   "outputs": [],
   "source": [
    "## == TEST CASES for Puzzle 1.4 ==\n",
    "# - This read-only cell contains test cases for your previous cell.\n",
    "# - If this cell runs with the success message as your output, you PASSED all test cases!\n",
    "# - If this cell results in any errors, check your previous cell, make changes, & RE-RUN your code & then this cell.\n",
    "assert('mean' in vars()), \"You should store your calculated result for the mean in a variable named `mean`.\"\n",
    "assert(mean < 10), \"You didn't calculate the mean correctly!\"\n",
    "assert(mean > 5), \"You didn't calculate the mean correctly!\"\n",
    "\n",
    "## == SUCCESS MESSAGE ==\n",
    "# You'll only see this message (With the emoji showing) if you passed all test cases:\n",
    "tada = \"\\N{PARTY POPPER}\"\n",
    "print(f\"{tada} All tests passed! {tada}\")"
   ]
  },
  {
   "cell_type": "markdown",
   "execution_count": 0,
   "metadata": {
    "id": "_jhtdTWPM3Ea"
   },
   "outputs": [],
   "source": [
    "## Puzzle 1.5: Probability\n",
    "\n",
    "Now that we've done simulation and some analysis, let's **estimate the probability** that we'll get **3 or less** Black members of the jury using `df`.  Store your results in a variable named `probability`. You may want to think back to conditionals - that'll help here."
   ]
  },
  {
   "cell_type": "code",
   "execution_count": 0,
   "metadata": {
    "id": "5WeGNjjKM3Ea",
    "outputId": "0753787c-b521-459d-dfda-f0b6789ac919"
   },
   "outputs": [],
   "source": [
    "probability = ...\n",
    "probability"
   ]
  },
  {
   "cell_type": "markdown",
   "execution_count": 0,
   "metadata": {
    "id": "ih_NaZYJM3Ea"
   },
   "outputs": [],
   "source": [
    "### 🔬 Test Case Checkpoint 🔬"
   ]
  },
  {
   "cell_type": "code",
   "execution_count": 0,
   "metadata": {
    "id": "dgwRew-CM3Eb",
    "outputId": "a88e3e99-c8b7-480d-fcd0-d4824a7bb2b8"
   },
   "outputs": [],
   "source": [
    "## == TEST CASES for Puzzle 1.5 ==\n",
    "# - This read-only cell contains test cases for your previous cell.\n",
    "# - If this cell runs with the success message as your output, you PASSED all test cases!\n",
    "# - If this cell results in any errors, check your previous cell, make changes, & RE-RUN your code & then this cell.\n",
    "assert('probability' in vars()), \"Your probability should be stored in a variable named `probability`.\"\n",
    "assert(probability < 0.05), \"You didn't calculate the probability correctly!\"\n",
    "assert(probability > 0), \"You didn't calculate the probability correctly!\"\n",
    "\n",
    "## == SUCCESS MESSAGE ==\n",
    "# You'll only see this message (With the emoji showing) if you passed all test cases:\n",
    "tada = \"\\N{PARTY POPPER}\"\n",
    "print(f\"{tada} All tests passed! {tada}\")"
   ]
  },
  {
   "cell_type": "markdown",
   "execution_count": 0,
   "metadata": {
    "id": "Nwrk5kYqM3Ei"
   },
   "outputs": [],
   "source": [
    "### Analysis: Final Jury Reflections\n",
    "\n",
    "**Q4: Answer to the following:**\n",
    "\n",
    "- (a) What does this probability mean?\n",
    "- (b) Given this probability, do you think the outcome that was observed in our case was due to chance or not?"
   ]
  },
  {
   "cell_type": "markdown",
   "execution_count": 0,
   "metadata": {
    "id": "niCvACIWM3Ei"
   },
   "outputs": [],
   "source": [
    "*(✏️ Edit this cell to replace this text with your answer. ✏️)*"
   ]
  },
  {
   "cell_type": "markdown",
   "execution_count": 0,
   "metadata": {
    "id": "6whJxyadM3Ej"
   },
   "outputs": [],
   "source": [
    "<hr style=\"color: #DD3403;\">"
   ]
  },
  {
   "cell_type": "markdown",
   "execution_count": 0,
   "metadata": {
    "id": "El9_H3biM3Ej"
   },
   "outputs": [],
   "source": [
    "# Part 2: Names and Resumes\n",
    "\n",
    "Our next problem comes from a study looking at the correlation between names and the job hiring process.  You can read the full study here if you’d like:\n",
    ">[https://www.nber.org/system/files/working_papers/w9873/w9873.pdf](https://www.nber.org/system/files/working_papers/w9873/w9873.pdf)\n",
    "\n",
    "Here’s a summary of some findings from their study:\n",
    "- The researchers sent out a total of **4,890 resumes** to postings in Chicago and Boston.\n",
    "- The resumes that they sent were **identical**, except they changed the **names and email addresses** to have either a \"white sounding\" name or a \"black sounding\" name, according to the study.  \n",
    "- There were an equal number of resumes with \"white sounding\" and \"black sounding\" names sent out (2,445 each).\n",
    "- The resumes with \"white sounding\" names were called back for an interview **10.06%** of the time while the \"black sounding\" names were called back for an interview **6.87%** of the time.\n",
    "\n",
    "### Analysis: Initial Thoughts\n",
    "\n",
    "**Q5 (Group Discussion): Before we start coding, let’s think about this. Consider the results from the study above. Do you think this is a significant difference? Why do you think this happened? Why or why not is this problematic?**"
   ]
  },
  {
   "cell_type": "markdown",
   "execution_count": 0,
   "metadata": {
    "id": "_K2DUgywM3Ej"
   },
   "outputs": [],
   "source": [
    "*(✏️ Edit this cell to replace this text with your answer to the question above. ✏️)*"
   ]
  },
  {
   "cell_type": "markdown",
   "execution_count": 0,
   "metadata": {
    "id": "a_EASOSQM3Ej"
   },
   "outputs": [],
   "source": [
    "**Assuming** that **any given resume** has about an **8.47% chance** of getting a callback **(the average callback rate observed across all resumes)**, let’s simulate this study.\n",
    "\n",
    "Since the content of the resumes are identical, we should expect to get an **equal number of callbacks** for both types of names.  In other words, picking the callbacks should be like **random sampling**.\n",
    "\n",
    "We've simulated the data in `resumes.csv` and wrote part of a simulation function to randomly sample 8.47% of the **4,890** resumes 10,000 times. You will load in the data and complete the simulation below."
   ]
  },
  {
   "cell_type": "markdown",
   "execution_count": 0,
   "metadata": {
    "id": "T03egh-vM3Ej"
   },
   "outputs": [],
   "source": [
    "## Puzzle 2.1: Load in the Data\n",
    "\n",
    "In the same folder as this lab, you have a **dataset of resumes** named `resumes.csv` that contains **4,890 rows** - the **same number** of resumes used in the study.\n",
    "\n",
    "Half are 0s (representing resumes with \"white sounding\" names) and the other half are 1s (representing resumes with \"black sounding\" names).\n",
    "\n",
    "Using `pd.read_csv`, load this data into a DataFrame named `df_resumes`:"
   ]
  },
  {
   "cell_type": "code",
   "execution_count": 0,
   "metadata": {
    "colab": {
     "base_uri": "https://localhost:8080/",
     "height": 423
    },
    "id": "tKO8M1gJM3Ek",
    "outputId": "c218e7c0-e914-418f-e5db-2de57d8abcd0"
   },
   "outputs": [],
   "source": [
    "df_resumes = ...\n",
    "df_resumes"
   ]
  },
  {
   "cell_type": "markdown",
   "execution_count": 0,
   "metadata": {
    "id": "ZdSo9h4DM3Ek"
   },
   "outputs": [],
   "source": [
    "### 🔬 Test Case Checkpoint 🔬"
   ]
  },
  {
   "cell_type": "code",
   "execution_count": 0,
   "metadata": {
    "id": "OccnCDZ0M3Ek",
    "outputId": "c7eaa45d-1b67-4734-8ea7-5a1964cf9070"
   },
   "outputs": [],
   "source": [
    "## == TEST CASES for Puzzle 2.1 ==\n",
    "# - This read-only cell contains test cases for your previous cell.\n",
    "# - If this cell runs with the success message as your output, you PASSED all test cases!\n",
    "# - If this cell results in any errors, check your previous cell, make changes, & RE-RUN your code & then this cell.\n",
    "assert('df_resumes' in vars()), \"Your DataFrame of resumes should be named `df3`.\"\n",
    "assert((len(df_resumes) == 4890) & ('Resumes' in df_resumes.columns.to_list())), \"This isn't the dataset we are looking for. Make sure you are loading the resumes.csv file.\"\n",
    "\n",
    "## == SUCCESS MESSAGE ==\n",
    "# You'll only see this message (With the emoji showing) if you passed all test cases:\n",
    "tada = \"\\N{PARTY POPPER}\"\n",
    "print(f\"{tada} All tests passed! {tada}\")"
   ]
  },
  {
   "cell_type": "markdown",
   "execution_count": 0,
   "metadata": {
    "id": "KSbabRwZM3Ek"
   },
   "outputs": [],
   "source": [
    "## Puzzle 2.2: Sampling the DataFrame for 8.47% of the Resumes\n",
    "\n",
    "Create a new DataFrame called `df_sample` that contains a random sample of 8.47% of all resumes in `df_resumes`.  This sample represents all of the resumes that received a call back if the resumes **were truly randomly selected without bias**:"
   ]
  },
  {
   "cell_type": "code",
   "execution_count": 0,
   "metadata": {
    "colab": {
     "base_uri": "https://localhost:8080/"
    },
    "id": "AiunT_u7M3Ek",
    "outputId": "40d2f748-277f-41cb-b163-700923300007"
   },
   "outputs": [],
   "source": [
    "df_sample = ...\n",
    "df_sample"
   ]
  },
  {
   "cell_type": "markdown",
   "execution_count": 0,
   "metadata": {
    "id": "sb-CKdOLM3El"
   },
   "outputs": [],
   "source": [
    "### 🔬 Test Case Checkpoint 🔬"
   ]
  },
  {
   "cell_type": "code",
   "execution_count": 0,
   "metadata": {
    "id": "xxPW2RhxM3El",
    "outputId": "f0548db0-6904-4ac6-ac87-a8377911c7df"
   },
   "outputs": [],
   "source": [
    "## == TEST CASES for Puzzle 2.2 ==\n",
    "# - This read-only cell contains test cases for your previous cell.\n",
    "# - If this cell runs with the success message as your output, you PASSED all test cases!\n",
    "# - If this cell results in any errors, check your previous cell, make changes, & RE-RUN your code & then this cell.\n",
    "assert (\"df_sample\" in vars())\n",
    "assert (abs(len(df_resumes) * 0.0847 - len(df_sample)) <= 1)\n",
    "\n",
    "## == SUCCESS MESSAGE ==\n",
    "# You'll only see this message (With the emoji showing) if you passed all test cases:\n",
    "tada = \"\\N{PARTY POPPER}\"\n",
    "print(f\"{tada} All tests passed! {tada}\")"
   ]
  },
  {
   "cell_type": "markdown",
   "execution_count": 0,
   "metadata": {
    "id": "PVXaok8EM3El"
   },
   "outputs": [],
   "source": [
    "## Storing the `callbacks_white_sounding` and `callbacks_black_sounding` Names\n",
    "\n",
    "Using your `df_sample` (the sample of all people who received callbacks), calculate two values in the next two cells:\n",
    "\n",
    "- `callbacks_black_sounding`, the number of callbacks received for by people with Black-sounding names\n",
    "- `callbacks_white_sounding`, the number of callbacks received for by people with white-sounding names"
   ]
  },
  {
   "cell_type": "code",
   "execution_count": 0,
   "metadata": {
    "colab": {
     "base_uri": "https://localhost:8080/",
     "height": 423
    },
    "id": "7DkQk4JLM3El",
    "outputId": "f5e4923d-1f11-4abb-c017-7dfc756a3448"
   },
   "outputs": [],
   "source": [
    "callbacks_black_sounding = ...\n",
    "callbacks_black_sounding"
   ]
  },
  {
   "cell_type": "code",
   "execution_count": 0,
   "metadata": {},
   "outputs": [],
   "source": [
    "callbacks_white_sounding = ...\n",
    "callbacks_white_sounding"
   ]
  },
  {
   "cell_type": "markdown",
   "execution_count": 0,
   "metadata": {
    "id": "kNn1m4VVKvge"
   },
   "outputs": [],
   "source": [
    "## Puzzle 2.3: Build a Simulation\n",
    "\n",
    "Using your code from Puzzle 2.2 as the real-world events, write a simulation that simulates randomly selecting a sample of 8.47% of the resumes and recording how many `callbacks_black_sounding` and `callbacks_white_sounding` names you got each semester.\n",
    "\n",
    "In recording each observation, you only need to record the `callbacks_black_sounding` and `callbacks_white_sounding` variables.  Ex, your dictionary `d` will be:\n",
    "\n",
    "> ```py\n",
    "> d = { \"callbacks_black_sounding\": callbacks_black_sounding, \"callbacks_white_sounding\": callbacks_white_sounding }\n",
    "> ```\n",
    "\n",
    "Store the result of 1,000 simulations in the variable `df_simulation`:"
   ]
  },
  {
   "cell_type": "code",
   "execution_count": 0,
   "metadata": {},
   "outputs": [],
   "source": [
    "# Complete a simulation 1,000 times:\n",
    "..."
   ]
  },
  {
   "cell_type": "code",
   "execution_count": 0,
   "metadata": {},
   "outputs": [],
   "source": [
    "# Display the result of the simulation:\n",
    "df_simulation"
   ]
  },
  {
   "cell_type": "markdown",
   "execution_count": 0,
   "metadata": {},
   "outputs": [],
   "source": [
    "### 🔬 Test Case Checkpoint 🔬"
   ]
  },
  {
   "cell_type": "code",
   "execution_count": 0,
   "metadata": {},
   "outputs": [],
   "source": [
    "## == TEST CASES for Puzzle 2.3 ==\n",
    "# - This read-only cell contains test cases for your previous cell.\n",
    "# - If this cell runs with the success message as your output, you PASSED all test cases!\n",
    "# - If this cell results in any errors, check your previous cell, make changes, & RE-RUN your code & then this cell.\n",
    "\n",
    "assert(\"df_simulation\" in vars())\n",
    "assert(\"callbacks_black_sounding\" in df_simulation)\n",
    "assert(\"callbacks_white_sounding\" in df_simulation)\n",
    "\n",
    "assert( len(df_simulation[ df_simulation[\"callbacks_white_sounding\"] > df_simulation[\"callbacks_black_sounding\"] ]) > 0 )\n",
    "assert( len(df_simulation[ df_simulation[\"callbacks_white_sounding\"] < df_simulation[\"callbacks_black_sounding\"] ]) > 0 )\n",
    "\n",
    "assert( df_simulation[\"callbacks_white_sounding\"].sum() > 190000 )\n",
    "assert( df_simulation[\"callbacks_black_sounding\"].sum() > 190000 )\n",
    "\n",
    "assert( df_simulation[\"callbacks_white_sounding\"].sum() < 230000 )\n",
    "assert( df_simulation[\"callbacks_black_sounding\"].sum() < 230000 )\n",
    "\n",
    "## == SUCCESS MESSAGE ==\n",
    "# You'll only see this message (With the emoji showing) if you passed all test cases:\n",
    "tada = \"\\N{PARTY POPPER}\"\n",
    "print(f\"{tada} All tests passed! {tada}\")"
   ]
  },
  {
   "cell_type": "markdown",
   "execution_count": 0,
   "metadata": {},
   "outputs": [],
   "source": [
    "## Puzzle 2.4: Calculate the Size of the Difference Between Groups\n",
    "\n",
    "Add a new column to your simulation DataFrame called `callbacks_difference` that is the difference in number of callbacks between the two grounds in your simulation.  Each row is the expected difference in the number of callbacks if resumes were randomly selected without bias.\n"
   ]
  },
  {
   "cell_type": "code",
   "execution_count": 0,
   "metadata": {
    "colab": {
     "base_uri": "https://localhost:8080/"
    },
    "id": "1sW6wcENLKhG",
    "outputId": "7bdfc0ad-1eef-40f3-e08e-868db3151205"
   },
   "outputs": [],
   "source": [
    "# Add the new column \"callbacks_difference\":\n",
    "df_simulation[\"callbacks_difference\"] = ...\n",
    "df_simulation"
   ]
  },
  {
   "cell_type": "markdown",
   "execution_count": 0,
   "metadata": {
    "id": "H-6tDMgdNsOE"
   },
   "outputs": [],
   "source": [
    "### 🔬 Test Case Checkpoint 🔬"
   ]
  },
  {
   "cell_type": "code",
   "execution_count": 0,
   "metadata": {
    "id": "zvoFFRj4Nkrf",
    "outputId": "f0548db0-6904-4ac6-ac87-a8377911c7df"
   },
   "outputs": [],
   "source": [
    "## == TEST CASES for Puzzle 2.4 ==\n",
    "# - This read-only cell contains test cases for your previous cell.\n",
    "# - If this cell runs with the success message as your output, you PASSED all test cases!\n",
    "# - If this cell results in any errors, check your previous cell, make changes, & RE-RUN your code & then this cell.\n",
    "assert(\"callbacks_difference\" in df_simulation)\n",
    "assert( (abs(df_simulation[\"callbacks_black_sounding\"] - df_simulation[\"callbacks_white_sounding\"]) - df_simulation[\"callbacks_difference\"]).sum() == 0 )\n",
    "assert(df_simulation[\"callbacks_difference\"].mean() < 40)\n",
    "\n",
    "## == SUCCESS MESSAGE ==\n",
    "# You'll only see this message (With the emoji showing) if you passed all test cases:\n",
    "tada = \"\\N{PARTY POPPER}\"\n",
    "print(f\"{tada} All tests passed! {tada}\")"
   ]
  },
  {
   "cell_type": "markdown",
   "execution_count": 0,
   "metadata": {},
   "outputs": [],
   "source": [
    "## Puzzle 2.5: Finding the Samples with a Larger Impact\n",
    "\n",
    "In the study presented, the Black-sounding names were called back only 6.87% of the time and the white-sounding names were called back 10.02% of the time.  Of all the 4,890 resumes, the Black-sounding names were called back 168 times and the white-sounding names were called back 245 times -- or a **difference of 77 callbacks**.\n",
    "\n",
    "Using your `df_simulation` DataFrame, select all of the rows with **77 or more** in the column `callbacks_difference`:"
   ]
  },
  {
   "cell_type": "code",
   "execution_count": 0,
   "metadata": {},
   "outputs": [],
   "source": [
    "..."
   ]
  },
  {
   "cell_type": "markdown",
   "execution_count": 0,
   "metadata": {},
   "outputs": [],
   "source": [
    "## Analysis"
   ]
  },
  {
   "cell_type": "markdown",
   "execution_count": 0,
   "metadata": {
    "id": "m0ExJPeJMw7v"
   },
   "outputs": [],
   "source": [
    "**Q6: Answer to the following:**\n",
    "\n",
    "- (a) In your simulation, how many times did a random selection of resumes results the **same or larger difference in callbacks**?  *(See your work in Puzzle 2.5)*\n",
    "- (b) Given this result, do you think the outcome that was observed in our case was due to chance?"
   ]
  },
  {
   "cell_type": "markdown",
   "execution_count": 0,
   "metadata": {
    "id": "NtdlWLvsM1Xz"
   },
   "outputs": [],
   "source": [
    "*(✏️ Edit this cell to replace this text with your answer. ✏️)*"
   ]
  },
  {
   "cell_type": "markdown",
   "execution_count": 0,
   "metadata": {
    "id": "lPh-AqwgOix2"
   },
   "outputs": [],
   "source": [
    "**Q7**: As a Data Scientist, it is important to explore other explanations for extreme results when doing analysis on observational studies. In the article, Chapter 5.1 does this with a discussion on confounding variables. Briefly suggest 3 possible confounding variables that were not taken account in the study:"
   ]
  },
  {
   "cell_type": "markdown",
   "execution_count": 0,
   "metadata": {},
   "outputs": [],
   "source": [
    "*(✏️ Edit this cell to replace this text with your answer. ✏️)*"
   ]
  },
  {
   "cell_type": "markdown",
   "execution_count": 0,
   "metadata": {
    "id": "yWprgFKpM3En"
   },
   "outputs": [],
   "source": [
    "<hr style=\"color: #DD3403;\">"
   ]
  },
  {
   "cell_type": "markdown",
   "execution_count": 0,
   "metadata": {
    "id": "rNsyBSo0M3En"
   },
   "outputs": [],
   "source": [
    "# Part 3: Beyond DISCOVERY\n",
    "\n",
    "**Q8: Think about your takeaways from doing these simulations in this lab.  Choose 1 of the following prompts to write a *paragraph style* response explaining what the simulation showed in either Part 1 or Part 2.**\n",
    "\n",
    "**Option 1**: Part 1 - Pretend that you are a data scientist working with a newspaper and you have been asked to analyse the incident of the Smith Trial. Report the problem, describing the procedure that you used to analyse the problem, the results of your procedure reporting the exact numbers that you found and finally, explain what those numbers mean in the scope of the experiment .\n",
    "\n",
    "**Option 2**: Part 2 - Pretend that you are a data scientist collaborating with social workers in the experiment described in part II. Report the problem, describing the procedure that you used to analyse the problem, the results of your procedure reporting the exact numbers that you found and finally, explain what those numbers mean in the scope of the experiment .\n",
    "\n",
    "\n",
    "Remember, you only need to do **either** Option 1 or Option 2 (not both)!"
   ]
  },
  {
   "cell_type": "markdown",
   "execution_count": 0,
   "metadata": {
    "id": "Ka-I_2qeM3En"
   },
   "outputs": [],
   "source": [
    "*(✏️ Edit this cell to replace this text with your answer. ✏️)*"
   ]
  },
  {
   "cell_type": "markdown",
   "execution_count": 0,
   "metadata": {
    "id": "XU7R7xrUM3Eo"
   },
   "outputs": [],
   "source": [
    "<hr style=\"color: #DD3403;\">"
   ]
  },
  {
   "cell_type": "markdown",
   "execution_count": 0,
   "metadata": {
    "id": "fByEnlLrM3Eo"
   },
   "outputs": [],
   "source": [
    "## Submission\n",
    "\n",
    "You're almost done!  All you need to do is to commit your lab to GitHub:\n",
    "\n",
    "1.  ⚠️ **Make sure to save your work.** ⚠️ To do this, go to **File => Save All**\n",
    "\n",
    "2.  After you have saved, exit this notebook & follow the Canvas instructions to commit this lab to your Git repository!\n",
    "\n",
    "3. Your TA will grade your submission & provide you feedback after the lab is due. :)"
   ]
  }
 ],
 "metadata": {
  "colab": {
   "provenance": []
  },
  "kernelspec": {
   "display_name": "Python 3",
   "language": "python",
   "name": "python3"
  },
  "language_info": {
   "codemirror_mode": {
    "name": "ipython",
    "version": 3
   },
   "file_extension": ".py",
   "mimetype": "text/x-python",
   "name": "python",
   "nbconvert_exporter": "python",
   "pygments_lexer": "ipython3",
   "version": "3.10.5"
  }
 },
 "nbformat": 4,
 "nbformat_minor": 0
}
