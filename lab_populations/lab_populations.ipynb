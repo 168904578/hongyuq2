{
 "cells": [
  {
   "cell_type": "markdown",
   "execution_count": 0,
   "metadata": {},
   "outputs": [],
   "source": [
    "# Welcome to lab_populations! 👥🌎🌍🌏👥\n",
    "\n",
    "In lecture, you have been learning about both sampling and inference. This is the idea that we can calculate statistics from a random sample of the population and use those statistics to estimate what we would get if we asked every single person in the population a question. \n",
    "\n",
    "The goal of this lab is to gain a more intuitive understanding of what inference is. We will explore sampling from a population and the meaning behind confidence intervals, error, and the Central Limit Theorem (CLT).\n",
    "\n",
    "<hr>\n",
    "\n",
    "A few tips to remember:\n",
    "\n",
    "- **You are not alone on your journey in learning programming!**  You have your lab TA, the CAs, your lab group, and the professors (Prof. Wade and Prof. Karle), who are all here to help you out!\n",
    "- If you find yourself stuck for more than a few minutes, ask a neighbor or course staff for help!  When you are giving help to your neighbor, explain the **idea and approach** to the problem without sharing the answer itself so they can have the same **<i>ah-hah</i>** moment!\n",
    "- We are here to help you!  Don't feel embarrassed or shy to ask us for help!\n",
    "\n",
    "Let's get started!"
   ]
  },
  {
   "cell_type": "code",
   "execution_count": 0,
   "metadata": {},
   "outputs": [],
   "source": [
    "# Meet your CAs and TA if you haven't already!\n",
    "# First name is enough, we'll know who they are! :)\n",
    "ta_name = \"\"\n",
    "ca1_name = \"\"\n",
    "ca2_name = \"\"\n",
    "ca3_name = \"\"\n",
    "\n",
    "# Work with your group again this week! \n",
    "# QOTD to Ask Your Group: \"Have you ever seen a solar eclipse?  Partial or full?  How was it?\"\n",
    "partner1_name = \"\"\n",
    "partner1_netid = \"\"\n",
    "partner1_eclipse = \"\"\n",
    "\n",
    "partner2_name = \"\"\n",
    "partner2_netid = \"\"\n",
    "partner2_eclipse = \"\"\n",
    "\n",
    "partner3_name = \"\"\n",
    "partner3_netid = \"\"\n",
    "partner3_eclipse = \"\""
   ]
  },
  {
   "cell_type": "markdown",
   "execution_count": 0,
   "metadata": {},
   "outputs": [],
   "source": [
    "<hr style=\"color: #DD3403;\">"
   ]
  },
  {
   "cell_type": "markdown",
   "execution_count": 0,
   "metadata": {},
   "outputs": [],
   "source": [
    "## Part 1: Sampling the Population\n",
    "\n",
    "The `DISCOVERY_populations` library is included with this lab and contains a **very large** population (over 100,000 students) of current and former University of Illinois students.  We have simulated over 100,000 people for answers to three questions:\n",
    "\n",
    "1. Do you support the Kingfisher as the new Illinois mascot?\n",
    "2. Do you follow @datascienceduo on Instagram?\n",
    "3. Are you a Data Science major?\n",
    "\n",
    "Right now, **we do NOT know the answers for the entire population and there is NO WAY to ask everyone**. Instead, we can only ask a sample of students and get answers for that sample. Run the following code to import the `DISCOVERY_populations` library and retrieve the sample:"
   ]
  },
  {
   "cell_type": "code",
   "execution_count": 0,
   "metadata": {},
   "outputs": [],
   "source": [
    "import DISCOVERY_populations\n",
    "sample = DISCOVERY_populations.getSample()\n",
    "sample.head()"
   ]
  },
  {
   "cell_type": "markdown",
   "execution_count": 0,
   "metadata": {},
   "outputs": [],
   "source": [
    "### Puzzle 1.1: Statistics about the Sample\n",
    "\n",
    "You have received a **random sample** from the population and it looks like it has three columns: `DSmajor`, `FollowsDuo`, and `ProKingfisher`. Using the `len` function, create a variable `n` that stores the number of people in your sample:"
   ]
  },
  {
   "cell_type": "code",
   "execution_count": 0,
   "metadata": {},
   "outputs": [],
   "source": [
    "n = ...\n",
    "n"
   ]
  },
  {
   "cell_type": "markdown",
   "execution_count": 0,
   "metadata": {},
   "outputs": [],
   "source": [
    "We'll first focus on people who follow @datascienceduo -- the people who follow the DUO are coded with a `1` in the sample and the people who do not follow the DUO are coded with a `0`.  \n",
    "\n",
    "In your sample, how many people follow the DUO?"
   ]
  },
  {
   "cell_type": "code",
   "execution_count": 0,
   "metadata": {},
   "outputs": [],
   "source": [
    "followers = ...\n",
    "followers"
   ]
  },
  {
   "cell_type": "code",
   "execution_count": 0,
   "metadata": {},
   "outputs": [],
   "source": [
    "## == CHECKPOINT TEST CASES ==\n",
    "# - This read-only cell contains test cases for your previous cell.\n",
    "# - If this cell runs without any errors, you PASSED all test cases!\n",
    "# - If this cell results in any errors, check your previous cell, make changes, and RE-RUN your code and then this cell.\n",
    "assert(\"sample\" in vars()), \"Check to make sure you have the variable `sample`.\"\n",
    "assert(len(sample) == n), \"Check to make sure `n` stores the number of observations in your sample.\"\n",
    "assert(followers == sum(sample.FollowsDuo)), \"Check to make sure `followers` stores the number of people following @datascienceduo.\"\n",
    "\n",
    "## == SUCCESS MESSAGE ==\n",
    "# You will only see this message (with the emoji showing) if you passed all test cases:\n",
    "tada = \"\\N{PARTY POPPER}\"\n",
    "print(f\"{tada} All tests passed! {tada}\")"
   ]
  },
  {
   "cell_type": "markdown",
   "execution_count": 0,
   "metadata": {},
   "outputs": [],
   "source": [
    "### Puzzle 1.2: Finding the 95% Confidence Interval for the Percentage of DUO followers\n",
    "\n",
    "We want to estimate what percentage of the population follows @datascienceduo. To do that, we need to use the confidence interval formula you learned in lecture. \n",
    "\n",
    "$$ CI = {Sample \\space Percent} \\pm {Margin \\space of \\space Error}$$\n",
    "$$ {Margin \\space of \\space Error} = {z} \\times {Sample \\space Standard \\space Error} $$\n",
    "\n",
    "Let's work on finding all three of the components we need: `samplePercent`, `marginOfError`, `z`, and `sampleSE`. For this entire puzzle, make sure your percentages (samplePercent and sampleSE) are in percent form and not decimal form. In other words, they should be numbers between 0% and 100%.\n",
    "\n",
    "\n",
    "#### Puzzle 1.2(a): Finding `samplePercent`\n",
    "\n",
    " Using the `FollowsDuo` column, store the **percentage of the sample that follow the DUO** in the variable `samplePercent`:\n",
    " \n",
    " *Note: Since the `FollowsDuo` column is encoded so that a `0` is a non-follower and a `1` is a follower, the mean of the column will be a proportion (decimal), but we want to find a **percentage** so make sure to convert your answer to be between 0 and 100 percent.*"
   ]
  },
  {
   "cell_type": "code",
   "execution_count": 0,
   "metadata": {},
   "outputs": [],
   "source": [
    "samplePercent = ...\n",
    "samplePercent"
   ]
  },
  {
   "cell_type": "code",
   "execution_count": 0,
   "metadata": {},
   "outputs": [],
   "source": [
    "## == CHECKPOINT TEST CASES ==\n",
    "# - This read-only cell contains test cases for your previous cell.\n",
    "# - If this cell runs without any errors, you PASSED all test cases!\n",
    "# - If this cell results in any errors, check your previous cell, make changes, and RE-RUN your code and then this cell.\n",
    "import math\n",
    "F = sample.FollowsDuo\n",
    "assert(math.isclose(samplePercent, F.sum()/n*100)), \"Check your `samplePercent`.\"\n",
    "\n",
    "## == SUCCESS MESSAGE ==\n",
    "# You will only see this message (with the emoji showing) if you passed all test cases:\n",
    "tada = \"\\N{PARTY POPPER}\"\n",
    "print(f\"{tada} All tests passed! {tada}\")"
   ]
  },
  {
   "cell_type": "markdown",
   "execution_count": 0,
   "metadata": {},
   "outputs": [],
   "source": [
    "#### Puzzle 1.2(b): Finding `z`\n",
    "\n",
    "We want to find the range where we are 95% sure that the true percentage of people who follow the DUO is within that range. Find the z-score we need to use to create a 95% CI:\n",
    "\n",
    "*Hint: Because the sample size is greater than 30 and the sample was randomly selected from the population, we can use the standard normal curve to find the z-score when creating our 95% CI.*"
   ]
  },
  {
   "cell_type": "code",
   "execution_count": 0,
   "metadata": {},
   "outputs": [],
   "source": [
    "z = ...\n",
    "z"
   ]
  },
  {
   "cell_type": "code",
   "execution_count": 0,
   "metadata": {},
   "outputs": [],
   "source": [
    "## == CHECKPOINT TEST CASES ==\n",
    "# - This read-only cell contains test cases for your previous cell.\n",
    "# - If this cell runs without any errors, you PASSED all test cases!\n",
    "# - If this cell results in any errors, check your previous cell, make changes, and RE-RUN your code and then this cell.\n",
    "assert(math.isclose(abs(z) + abs(z)**abs(z), 5.69931068079139)), \"Check your `z`.\"\n",
    "\n",
    "## == SUCCESS MESSAGE ==\n",
    "# You will only see this message (with the emoji showing) if you passed all test cases:\n",
    "tada = \"\\N{PARTY POPPER}\"\n",
    "print(f\"{tada} All tests passed! {tada}\")\n"
   ]
  },
  {
   "cell_type": "markdown",
   "execution_count": 0,
   "metadata": {},
   "outputs": [],
   "source": [
    "#### Puzzle 1.2(c): Finding `sampleSE`\n",
    "\n",
    "Finally, we need to find the standard error of the sample as a **percentage**.\n",
    "\n",
    "Remember: $SE_{\\%} = \\frac{SD}{\\sqrt{n}} * 100\\%$, where $SE$ is standard error, $SD$ is standard deviation, and $n$ is the sample size. "
   ]
  },
  {
   "cell_type": "code",
   "execution_count": 0,
   "metadata": {},
   "outputs": [],
   "source": [
    "sampleSE = ...\n",
    "sampleSE"
   ]
  },
  {
   "cell_type": "code",
   "execution_count": 0,
   "metadata": {},
   "outputs": [],
   "source": [
    "## == CHECKPOINT TEST CASES ==\n",
    "# - This read-only cell contains test cases for your previous cell.\n",
    "# - If this cell runs without any errors, you PASSED all test cases!\n",
    "# - If this cell results in any errors, check your previous cell, make changes, and RE-RUN your code and then this cell.\n",
    "assert(math.isclose(sampleSE, (n / F.var())**-0.5 * 100)), \"Check your `sampleSE`.\"\n",
    "\n",
    "## == SUCCESS MESSAGE ==\n",
    "# You will only see this message (with the emoji showing) if you passed all test cases:\n",
    "tada = \"\\N{PARTY POPPER}\"\n",
    "print(f\"{tada} All tests passed! {tada}\")"
   ]
  },
  {
   "cell_type": "markdown",
   "execution_count": 0,
   "metadata": {},
   "outputs": [],
   "source": [
    "#### Puzzle 1.2(d): Finding `marginOfError`\n",
    "\n",
    "Finally, we need to find the margin of error.\n"
   ]
  },
  {
   "cell_type": "code",
   "execution_count": 0,
   "metadata": {},
   "outputs": [],
   "source": [
    "marginOfError = ...\n",
    "marginOfError"
   ]
  },
  {
   "cell_type": "code",
   "execution_count": 0,
   "metadata": {},
   "outputs": [],
   "source": [
    "## == CHECKPOINT TEST CASES ==\n",
    "# - This read-only cell contains test cases for your previous cell.\n",
    "# - If this cell runs without any errors, you PASSED all test cases!\n",
    "# - If this cell results in any errors, check your previous cell, make changes, and RE-RUN your code and then this cell.\n",
    "assert(math.isclose(marginOfError, 13.392533362539476)), \"Check your `marginOfError`.\"\n",
    "\n",
    "## == SUCCESS MESSAGE ==\n",
    "# You will only see this message (with the emoji showing) if you passed all test cases:\n",
    "tada = \"\\N{PARTY POPPER}\"\n",
    "print(f\"{tada} All tests passed! {tada}\")"
   ]
  },
  {
   "cell_type": "markdown",
   "execution_count": 0,
   "metadata": {},
   "outputs": [],
   "source": [
    "### Puzzle 1.3: Finding the Confidence Interval\n",
    "\n",
    "The formula for the confidence interval has both a \"lower bound\" (when you subtract the margin of error from the sample average) and an \"upper bound\" (when you add the margin of error to the sample average). Recall the formula you learned in lecture:\n",
    "\n",
    "$$ CI = {Sample \\space Percent} \\pm ({z} \\times {Sample \\space Standard \\space Error})$$\n",
    "$$ aka $$\n",
    "$$ CI = {Sample \\space Percent} \\pm {Margin \\space of \\space Error}$$\n",
    "\n",
    "\n",
    "Using the variables you just calculated in the previous section, find the `lower_bound_CI` and `upper_bound_CI` of your confidence interval:"
   ]
  },
  {
   "cell_type": "code",
   "execution_count": 0,
   "metadata": {},
   "outputs": [],
   "source": [
    "lower_bound_CI = ...\n",
    "lower_bound_CI"
   ]
  },
  {
   "cell_type": "code",
   "execution_count": 0,
   "metadata": {},
   "outputs": [],
   "source": [
    "upper_bound_CI = ...\n",
    "upper_bound_CI"
   ]
  },
  {
   "cell_type": "markdown",
   "execution_count": 0,
   "metadata": {},
   "outputs": [],
   "source": [
    "Putting it all together, run the following code that will write out your full confidence interval interpretation:"
   ]
  },
  {
   "cell_type": "code",
   "execution_count": 0,
   "metadata": {},
   "outputs": [],
   "source": [
    "print(f\"Based on the sample, we are 95% confident that the true percentage of followers of @datascienceduo in the full population is between:\\n   {round(lower_bound_CI, 2)}% - {round(upper_bound_CI, 2)}%\")"
   ]
  },
  {
   "cell_type": "markdown",
   "execution_count": 0,
   "metadata": {},
   "outputs": [],
   "source": [
    "### Reflections"
   ]
  },
  {
   "cell_type": "markdown",
   "execution_count": 0,
   "metadata": {},
   "outputs": [],
   "source": [
    "**Q1**: Talk to your group members and share your confidence intervals.\n",
    "- (a): What is the confidence interval of another group member's sample?\n",
    "- (b): Is it the same or different?\n",
    "- (c): Why is it okay that it's the same or different?"
   ]
  },
  {
   "cell_type": "markdown",
   "execution_count": 0,
   "metadata": {},
   "outputs": [],
   "source": [
    "*(✏️ Edit this cell to replace this text with your answers. ✏️)*"
   ]
  },
  {
   "cell_type": "markdown",
   "execution_count": 0,
   "metadata": {},
   "outputs": [],
   "source": [
    "**Q2**: What is the margin of error (the numeric value) of your confidence interval?  *You may need to do a bit of calculation.*"
   ]
  },
  {
   "cell_type": "markdown",
   "execution_count": 0,
   "metadata": {},
   "outputs": [],
   "source": [
    "*(✏️ Edit this cell to replace this text with your answers. ✏️)*"
   ]
  },
  {
   "cell_type": "markdown",
   "execution_count": 0,
   "metadata": {},
   "outputs": [],
   "source": [
    "**Q3**: Given your confidence interval you calculated, what statement can you make about if at least 50% of the population follow @datascienceduo?"
   ]
  },
  {
   "cell_type": "markdown",
   "execution_count": 0,
   "metadata": {},
   "outputs": [],
   "source": [
    "*(✏️ Edit this cell to replace this text with your answers. ✏️)*"
   ]
  },
  {
   "cell_type": "markdown",
   "execution_count": 0,
   "metadata": {},
   "outputs": [],
   "source": [
    "### Population Analysis"
   ]
  },
  {
   "cell_type": "markdown",
   "execution_count": 0,
   "metadata": {},
   "outputs": [],
   "source": [
    "**Q4**: Suppose the entire population is exactly 1,000,000 people.\n",
    "\n",
    "Professor Karle and Wade wants a good minimum estimate of the **minimum number of people** who are likely following the DUO.  If you want to be **95% certain** in your answer you're giving to the professors, what is the minimum number of people you would claim to be following the DUO?\n",
    "\n",
    "\n",
    "First, explain in at least one sentence how you will calculate this result (with words, not code).  Then, calculate it and include your answer in the Python cell below."
   ]
  },
  {
   "cell_type": "markdown",
   "execution_count": 0,
   "metadata": {},
   "outputs": [],
   "source": [
    "*(✏️ Edit this cell to replace this text with your answers. ✏️)*"
   ]
  },
  {
   "cell_type": "code",
   "execution_count": 0,
   "metadata": {},
   "outputs": [],
   "source": [
    "# 95% confident that AT LEAST this many people are following the DUO in a population of 1,000,000:\n",
    "..."
   ]
  },
  {
   "cell_type": "markdown",
   "execution_count": 0,
   "metadata": {},
   "outputs": [],
   "source": [
    "<hr style=\"color: #DD3403;\">"
   ]
  },
  {
   "cell_type": "markdown",
   "execution_count": 0,
   "metadata": {},
   "outputs": [],
   "source": [
    "## Part 2: Towards a Smaller Margin of Error"
   ]
  },
  {
   "cell_type": "markdown",
   "execution_count": 0,
   "metadata": {},
   "outputs": [],
   "source": [
    "The number of followers of @datascienceduo is fun, but the large margin of error you had is a little alarming.  For really important issues, we want a smaller margin of error in our sample."
   ]
  },
  {
   "cell_type": "markdown",
   "execution_count": 0,
   "metadata": {},
   "outputs": [],
   "source": [
    "**Q5**: What are at least **TWO** things we can do as a data scientist to reduce the margin of error?"
   ]
  },
  {
   "cell_type": "markdown",
   "execution_count": 0,
   "metadata": {},
   "outputs": [],
   "source": [
    "*(✏️ Edit this cell to replace this text with your answers. ✏️)*"
   ]
  },
  {
   "cell_type": "markdown",
   "execution_count": 0,
   "metadata": {},
   "outputs": [],
   "source": [
    "### Part 2.1: An Expensive Sample\n",
    "\n",
    "The issue of making the UIUC mascot the Kingfisher is a big one, so we'll want to make sure we get an accurate representation of the UIUC population. Taking a large sample requires surveying more people and getting more responses, which is almost always more expensive.  In the `DISCOVERY_populations` library you imported in Part 1, we have a second function: `getExpensiveSample()`.\n",
    "\n",
    "The following code gets a larger and more expensive sample and stores it in `sample2`:"
   ]
  },
  {
   "cell_type": "code",
   "execution_count": 0,
   "metadata": {},
   "outputs": [],
   "source": [
    "sample2 = DISCOVERY_populations.getExpensiveSample()\n",
    "sample2"
   ]
  },
  {
   "cell_type": "markdown",
   "execution_count": 0,
   "metadata": {},
   "outputs": [],
   "source": [
    "### Part 2.2: Finding the Confidence Interval for Kingfisher Support\n",
    "\n",
    "Find the lower and upper bounds for the 99% CI for the support of the Kingfisher mascot, storing them in `kingfisher_CI_lower` and `kingfisher_CI_upper`.  We provided individual cells for each stage of the computation, and you should make sure your answer is reasonable at each step. We also want your answers as percentages between 0 and 100 percent.\n",
    "\n",
    "Make sure you're using `sample2` since you have the better, more expensive sample now! :)"
   ]
  },
  {
   "cell_type": "code",
   "execution_count": 0,
   "metadata": {},
   "outputs": [],
   "source": [
    "# Step 1: Find the samplePercent:\n",
    "..."
   ]
  },
  {
   "cell_type": "code",
   "execution_count": 0,
   "metadata": {},
   "outputs": [],
   "source": [
    "# Step 2: Find the z-score for the 95% CI:\n",
    "..."
   ]
  },
  {
   "cell_type": "code",
   "execution_count": 0,
   "metadata": {},
   "outputs": [],
   "source": [
    "# Step 3: Find the sampleSE:\n",
    "..."
   ]
  },
  {
   "cell_type": "code",
   "execution_count": 0,
   "metadata": {},
   "outputs": [],
   "source": [
    "# Step 4: Find the margin of error:\n",
    "..."
   ]
  },
  {
   "cell_type": "code",
   "execution_count": 0,
   "metadata": {},
   "outputs": [],
   "source": [
    "# Find the lower bound of the CI:\n",
    "kingfisher_CI_lower = ...\n",
    "kingfisher_CI_lower"
   ]
  },
  {
   "cell_type": "code",
   "execution_count": 0,
   "metadata": {},
   "outputs": [],
   "source": [
    "# Find the upper bound of the CI:\n",
    "kingfisher_CI_upper = ...\n",
    "kingfisher_CI_upper"
   ]
  },
  {
   "cell_type": "code",
   "execution_count": 0,
   "metadata": {},
   "outputs": [],
   "source": [
    "## == CHECKPOINT TEST CASES ==\n",
    "# - This read-only cell contains test cases for your previous cell.\n",
    "# - If this cell runs without any errors, you PASSED all test cases!\n",
    "# - If this cell results in any errors, check your previous cell, make changes, and RE-RUN your code and then this cell.\n",
    "import math\n",
    "from scipy.stats import norm\n",
    "\n",
    "F = sample2.ProKingfisher\n",
    "N = norm(F.mean(), F.std() / (len(F)**0.5))\n",
    "low, high = N.interval(0.99)\n",
    "assert( math.isclose(z, 2.5758293035489004) ), \"Check your Z-score for a 99% CI\"\n",
    "assert(kingfisher_CI_upper > kingfisher_CI_lower), \"The upper bound must be larger than the lower bound.\"\n",
    "assert( math.isclose(kingfisher_CI_lower, low * 100) ), \"Check your `kingfisher_CI_lower` calculation.\"\n",
    "assert( math.isclose(kingfisher_CI_upper, high * 100) ), \"Check your `kingfisher_CI_upper` calculation.\"\n",
    "\n",
    "## == SUCCESS MESSAGE ==\n",
    "# You will only see this message (with the emoji showing) if you passed all test cases:\n",
    "tada = \"\\N{PARTY POPPER}\"\n",
    "print(f\"{tada} All tests passed! {tada}\")"
   ]
  },
  {
   "cell_type": "markdown",
   "execution_count": 0,
   "metadata": {},
   "outputs": [],
   "source": [
    "### Part 2.3: Reflections"
   ]
  },
  {
   "cell_type": "markdown",
   "execution_count": 0,
   "metadata": {},
   "outputs": [],
   "source": [
    "**Q6**: Write out the interpretation of your confidence interval in a complete sentence."
   ]
  },
  {
   "cell_type": "markdown",
   "execution_count": 0,
   "metadata": {},
   "outputs": [],
   "source": [
    "*(✏️ Edit this cell to replace this text with your answers. ✏️)*"
   ]
  },
  {
   "cell_type": "markdown",
   "execution_count": 0,
   "metadata": {},
   "outputs": [],
   "source": [
    "**Q7**: If the whole population voted on if the next mascot should be the Kingfisher, how confident are you that the resolution will pass (that is, receive at least 50% of the vote)? Explain in at least one complete sentence how the data analysis you did backs up your confidence."
   ]
  },
  {
   "cell_type": "markdown",
   "execution_count": 0,
   "metadata": {},
   "outputs": [],
   "source": [
    "*(✏️ Edit this cell to replace this text with your answers. ✏️)*"
   ]
  },
  {
   "cell_type": "markdown",
   "execution_count": 0,
   "metadata": {},
   "outputs": [],
   "source": [
    "**Q8**: Is the confidence interval of your larger (and more expensive) sample larger (wider) or smaller (narrower) than the first sample?  Why or why not?  Explain in at least one complete sentence."
   ]
  },
  {
   "cell_type": "markdown",
   "execution_count": 0,
   "metadata": {},
   "outputs": [],
   "source": [
    "*(✏️ Edit this cell to replace this text with your answers. ✏️)*"
   ]
  },
  {
   "cell_type": "markdown",
   "execution_count": 0,
   "metadata": {},
   "outputs": [],
   "source": [
    "<hr style=\"color: #DD3403;\">"
   ]
  },
  {
   "cell_type": "markdown",
   "execution_count": 0,
   "metadata": {},
   "outputs": [],
   "source": [
    "## Part 3: The Election is Here!\n",
    "\n",
    "The polling is complete and the election day is here!  Run the following code to find your election-day results:"
   ]
  },
  {
   "cell_type": "code",
   "execution_count": 0,
   "metadata": {},
   "outputs": [],
   "source": [
    "DISCOVERY_populations.electionDay()"
   ]
  },
  {
   "cell_type": "markdown",
   "execution_count": 0,
   "metadata": {},
   "outputs": [],
   "source": [
    "**Q9**: In at least one complete sentence, explain if your analysis of the samples accurately predicted the outcomes."
   ]
  },
  {
   "cell_type": "markdown",
   "execution_count": 0,
   "metadata": {},
   "outputs": [],
   "source": [
    "*(✏️ Edit this cell to replace this text with your answers. ✏️)*"
   ]
  },
  {
   "cell_type": "markdown",
   "execution_count": 0,
   "metadata": {},
   "outputs": [],
   "source": [
    "<hr style=\"color: #DD3403;\">"
   ]
  },
  {
   "cell_type": "markdown",
   "execution_count": 0,
   "metadata": {},
   "outputs": [],
   "source": [
    "# Submission\n",
    "\n",
    "You're almost done!  All you need to do is to commit your lab to GitHub:\n",
    "\n",
    "1.  ⚠️ **Make certain to save your work.** ⚠️ To do this, go to **File => Save All**\n",
    "\n",
    "2.  After you have saved, exit this notebook and follow the Canvas instructions to commit this lab to your Git repository!\n",
    "\n",
    "3. Your TA will grade your submission and provide you feedback after the lab is due. :)"
   ]
  }
 ],
 "metadata": {
  "kernelspec": {
   "display_name": "Python 3",
   "language": "python",
   "name": "python3"
  },
  "language_info": {
   "codemirror_mode": {
    "name": "ipython",
    "version": 3
   },
   "file_extension": ".py",
   "mimetype": "text/x-python",
   "name": "python",
   "nbconvert_exporter": "python",
   "pygments_lexer": "ipython3",
   "version": "3.10.5"
  }
 },
 "nbformat": 4,
 "nbformat_minor": 2
}
