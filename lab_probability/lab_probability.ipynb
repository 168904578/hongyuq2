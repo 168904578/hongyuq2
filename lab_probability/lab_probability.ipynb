{
 "cells": [
  {
   "attachments": {},
   "cell_type": "markdown",
   "metadata": {},
   "source": [
    "# Welcome to Lab: Probability 🎂\n",
    "\n",
    "### Happy Birthday!\n",
    "\n",
    "Just kidding, it's *(probably, with P=0.9973)* not your birthday, but it might be someone's birthday in your lab! :) \n",
    "\n",
    "In this lab, we will be completing some classic probability questions surrounding birthdays!  To make things sane and simple, we will make two simplifying assumptions:\n",
    "\n",
    "- For this lab, we assume that each year is **365 days** (ignore leap years)\n",
    "- We also assume that everyone has an **equal chance** of a birthday each day *(not actually true in real life)*\n",
    "\n",
    "\n",
    "A few tips to remember:\n",
    "\n",
    "- **You are not alone on your journey in learning programming!**  You have your lab Teaching Assistant, your Course Aides, your lab group, and the professors (Prof. Wade and Prof. Karle), who are all here to help you out!\n",
    "- If you find yourself stuck for more than a few minutes, ask a neighbor or course staff for help!  When you are giving help to your neighbor, explain the **idea and approach** to the problem without sharing the answer itself so they can have the same **<i>ah-hah</i>** moment!\n",
    "- We are here to help you!  Don't feel embarrassed or shy to ask us for help!\n",
    "\n",
    "Let's get started!"
   ]
  },
  {
   "cell_type": "code",
   "execution_count": 3,
   "metadata": {},
   "outputs": [],
   "source": [
    "# Meet your CAs and TA if you haven't already!\n",
    "# ...first name is enough, we'll know who they are! :)\n",
    "ta_name = \"Jake\"\n",
    "ca1_name = \"Jessica\"\n",
    "ca2_name = \"Mia\"\n",
    "ca3_name = \"\"\n",
    "\n",
    "\n",
    "# Say hello to each other!\n",
    "# - Groups of 3 are ideal :)\n",
    "# - However, groups of 2 or 4 are fine too!\n",
    "#\n",
    "# QOTD to Ask Your Group: \"What's your favorite candy?\"\n",
    "partner1_name = \"Siyu Wu\"\n",
    "partner1_netid = \"siyuw6\"\n",
    "partner1_favcandy = \"reese's\"\n",
    "\n",
    "partner2_name = \"Haibo Che\"\n",
    "partner2_netid = \"haiboc2\"\n",
    "partner2_favcandy = \"snickers\"\n",
    "\n",
    "partner3_name = \"\"\n",
    "partner3_netid = \"\"\n",
    "partner3_favcandy = \"\""
   ]
  },
  {
   "cell_type": "markdown",
   "metadata": {},
   "source": [
    "<hr style=\"color: #DD3403;\">"
   ]
  },
  {
   "attachments": {},
   "cell_type": "markdown",
   "metadata": {},
   "source": [
    "# Part 1: Your Birthday\n",
    "\n",
    "The **birthday problem** is a classic statistical problem that asks: *How likely is it for at least two people in a room of **n** people to share a birthday?*  In other words, what's the chance that there's **at least one match of birthdays** in a room with **n** people? We'll eventually answer this question in this lab.\n",
    "\n",
    "To begin, let's consider **your birthday**.  This is a related, but very different question: \n",
    "\n",
    "> *How likely is it for at least one person in a room to have the same birthday as **me**?*"
   ]
  },
  {
   "attachments": {},
   "cell_type": "markdown",
   "metadata": {},
   "source": [
    "### Puzzle 1.1: Sharing a Birthday\n",
    "\n",
    "We should first answer: if you are in a room with **one other person**, what is the probability you both have the same birthday? (*Of course, you know your own birthday!*) \n",
    "\n",
    "Using **mathematics and probability** (not any special Python functions), replace the ... with your answer in the following puzzles!\n",
    "\n",
    "First, find the probability that you share the same birthday with **one other person**, storing your numerical answer in `p_one_person_my_birthday`!\n",
    "\n",
    "*Hint:* How many days of the year make it possible for someone to share **your birthday**?"
   ]
  },
  {
   "cell_type": "code",
   "execution_count": 4,
   "metadata": {
    "nbgrader": {
     "grade": false,
     "grade_id": "cell-16021a893dda10f8",
     "locked": false,
     "schema_version": 3,
     "solution": true,
     "task": false
    }
   },
   "outputs": [
    {
     "data": {
      "text/plain": [
       "0.0027397260273972603"
      ]
     },
     "execution_count": 4,
     "metadata": {},
     "output_type": "execute_result"
    }
   ],
   "source": [
    "p_one_person_my_birthday = 1/365\n",
    "p_one_person_my_birthday"
   ]
  },
  {
   "attachments": {},
   "cell_type": "markdown",
   "metadata": {},
   "source": [
    "Now, if you are in a room with **two other people**, what is the probability that **at least one of them** has the same birthday as you?\n",
    "\n",
    "Remember:\n",
    "- **$P(\\text{at least one}) = 1 - P(\\text{none})$**\n",
    "- If someone **does not** share your birthday, that means their birthday is on one of the **other 364 days** of the year. \n",
    "- Two people independently have the **same probability** of not sharing a birthday with you, but you would need to **multiply** those probabilities together.\n",
    "- Store your numerical answer in `p_two_others_my_birthday`!"
   ]
  },
  {
   "cell_type": "code",
   "execution_count": 5,
   "metadata": {
    "nbgrader": {
     "grade": false,
     "grade_id": "cell-d776448804b67dfc",
     "locked": false,
     "schema_version": 3,
     "solution": true,
     "task": false
    }
   },
   "outputs": [
    {
     "data": {
      "text/plain": [
       "0.005471945956089352"
      ]
     },
     "execution_count": 5,
     "metadata": {},
     "output_type": "execute_result"
    }
   ],
   "source": [
    "p_two_others_my_birthday = 1-(364/365)**2\n",
    "p_two_others_my_birthday"
   ]
  },
  {
   "attachments": {},
   "cell_type": "markdown",
   "metadata": {},
   "source": [
    "Finally, if you are in a room with **three other people**, what is the probability that **at least one of them** has the same birthday as you?\n",
    "\n",
    "Store your numerical answer in `p_three_others_my_birthday`. \n",
    "\n",
    "Look back to how you calculated `p_two_others_my_birthday` if you're stuck - the calculations involved should be quite similar! \n"
   ]
  },
  {
   "cell_type": "code",
   "execution_count": 6,
   "metadata": {
    "nbgrader": {
     "grade": false,
     "grade_id": "cell-9b6271534fe56ab1",
     "locked": false,
     "schema_version": 3,
     "solution": true,
     "task": false
    }
   },
   "outputs": [
    {
     "data": {
      "text/plain": [
       "0.008196680350730179"
      ]
     },
     "execution_count": 6,
     "metadata": {},
     "output_type": "execute_result"
    }
   ],
   "source": [
    "p_three_others_my_birthday = 1-(364/365)**3\n",
    "p_three_others_my_birthday"
   ]
  },
  {
   "cell_type": "markdown",
   "metadata": {},
   "source": [
    "### 🔬 Test Case Checkpoint 🔬"
   ]
  },
  {
   "cell_type": "code",
   "execution_count": 7,
   "metadata": {
    "nbgrader": {
     "grade": true,
     "grade_id": "cell-2213109ad4022435",
     "locked": true,
     "points": 0,
     "schema_version": 3,
     "solution": false,
     "task": false
    }
   },
   "outputs": [
    {
     "name": "stdout",
     "output_type": "stream",
     "text": [
      "🎉 All tests passed! 🎉\n"
     ]
    }
   ],
   "source": [
    "## == TEST CASES for Puzzle 1.1 ==\n",
    "# - This read-only cell contains test cases for your previous cells.\n",
    "# - If this cell runs without any error our output, you PASSED all test cases!\n",
    "# - If this cell results in any errors, check you previous cell, make changes, and RE-RUN your code and then this cell.\n",
    "import math \n",
    "assert( math.isclose(p_one_person_my_birthday, 0.0027397260273972603) ), \"The probability for one birthday doesn't seem right.\"\n",
    "assert( math.isclose(p_two_others_my_birthday, 0.005471945956089352) ), \"The probability for two birthdays doesn't seem right.\"\n",
    "assert( math.isclose(p_three_others_my_birthday, 0.008196680350730179) ), \"The probability for three birthdays doesn't seem right.\"\n",
    "\n",
    "## == SUCCESS MESSAGE ==\n",
    "# You will only see this message (with the emoji showing) if you passed all test cases:\n",
    "tada = \"\\N{PARTY POPPER}\"\n",
    "print(f\"{tada} All tests passed! {tada}\")"
   ]
  },
  {
   "attachments": {},
   "cell_type": "markdown",
   "metadata": {},
   "source": [
    "### Puzzle 1.2: Sharing My Birthday with `n` Other People\n",
    "\n",
    "You may have noticed a pattern beginning to form. When we add more people ($n$) to a room, the probability that **at least one** of them shares a birthday with yours **compounds** (that is, the $P(\\text{none})$ in our $P(\\text{at least one})$ is multiplied by itself).\n",
    "\n",
    "Suppose we have a room with **`n` other people**.  \n",
    "\n",
    "Complete the function `p_my_birthday(n)`, where `n` is the parameter, that **returns the numerical probability** that **at least one person** has the same birthday as you.  All you have to do is replace the ... with the probability written in terms of `n`.\n",
    "\n",
    "**Note:** A function is a useful way to **reuse code** and use different inputs to get different outputs, similar to a math function except for code! :) Below, we set up most of the code to **define** the function `p_my_birthday` with the parameter `n` as the input (i.e. how many other people there are in the room with you). The output of the function should be the calculated probability of observing **at least one** match with you in a room with `n` other people.\n"
   ]
  },
  {
   "cell_type": "code",
   "execution_count": 8,
   "metadata": {
    "nbgrader": {
     "grade": false,
     "grade_id": "cell-9fcc75505fada2fa",
     "locked": false,
     "schema_version": 3,
     "solution": true,
     "task": false
    }
   },
   "outputs": [],
   "source": [
    "# Defining the function\n",
    "def p_my_birthday(n):\n",
    "    return 1-(364/365)**n"
   ]
  },
  {
   "attachments": {},
   "cell_type": "markdown",
   "metadata": {},
   "source": [
    "### Running Your Function\n",
    "\n",
    "Here are a few inputs to test our function.  Make sure the answers are what you expect. \n",
    "\n",
    "You **do not change to do anything** for this cell, **just run it**!"
   ]
  },
  {
   "cell_type": "code",
   "execution_count": 14,
   "metadata": {},
   "outputs": [
    {
     "name": "stdout",
     "output_type": "stream",
     "text": [
      "A room with one other person: 0.002739726027397249\n",
      "A room with two other people: 0.005471945956089352\n",
      "A room with three other people: 0.008196680350730179\n",
      "A room with 100 other people: 0.23993292618409912\n",
      "A room with 1000 other people: 0.9356543499651447\n",
      "A room with 10000 other people: 0.9999999999987833\n",
      "A room with 10000 other people: 0.12818174266886284\n"
     ]
    }
   ],
   "source": [
    "print('A room with one other person:', p_my_birthday(1))\n",
    "print('A room with two other people:', p_my_birthday(2))\n",
    "print('A room with three other people:', p_my_birthday(3))\n",
    "print('A room with 100 other people:', p_my_birthday(100))\n",
    "print('A room with 1000 other people:', p_my_birthday(1000))\n",
    "print('A room with 10000 other people:', p_my_birthday(10000))\n",
    "print('A room with 10000 other people:', p_my_birthday(50))"
   ]
  },
  {
   "cell_type": "markdown",
   "metadata": {},
   "source": [
    "### 🔬 Test Case Checkpoint 🔬"
   ]
  },
  {
   "cell_type": "code",
   "execution_count": 15,
   "metadata": {
    "nbgrader": {
     "grade": true,
     "grade_id": "cell-f1a2b09260950b38",
     "locked": true,
     "points": 0,
     "schema_version": 3,
     "solution": false,
     "task": false
    }
   },
   "outputs": [
    {
     "name": "stdout",
     "output_type": "stream",
     "text": [
      "🎉 All tests passed! 🎉\n"
     ]
    }
   ],
   "source": [
    "## == TEST CASES for Puzzle 1.2 ==\n",
    "# - This read-only cell contains test cases for your previous cells.\n",
    "# - If this cell runs without any error our output, you PASSED all test cases!\n",
    "# - If this cell results in any errors, check you previous cell, make changes, and RE-RUN your code and then this cell.\n",
    "\n",
    "assert( math.isclose(p_my_birthday(1), 0.002739726027397249) ), \"The probability for your function with n = 1 doesn't seem right.\"\n",
    "assert( math.isclose(p_my_birthday(2), 0.005471945956089352) ), \"The probability for your function with n = 2 doesn't seem right.\"\n",
    "assert( math.isclose(p_my_birthday(3), 0.008196680350730179) ), \"The probability for your function with n = 3 doesn't seem right.\"\n",
    "assert( math.isclose(p_my_birthday(100), 0.23993292618409912) ), \"The probability for your function with n = 100 doesn't seem right.\"\n",
    "assert( math.isclose(p_my_birthday(1000), 0.9356543499651447) ), \"The probability for your function with n = 1000 doesn't seem right.\"\n",
    "\n",
    "## == SUCCESS MESSAGE ==\n",
    "# You will only see this message (with the emoji showing) if you passed all test cases:\n",
    "tada = \"\\N{PARTY POPPER}\"\n",
    "print(f\"{tada} All tests passed! {tada}\")"
   ]
  },
  {
   "attachments": {},
   "cell_type": "markdown",
   "metadata": {},
   "source": [
    "### Plotting Your Function\n",
    "\n",
    "The following code below uses your `p_my_birthday` function to **generate a plot** showing the probability of you having the same birthday as someone else **increasing** as the number of people (n) in the room grows.\n",
    "\n",
    "This code is **complete**, but notice how it is **very close** to the simulation code you've seen in lecture:\n",
    "- Both code for simulation and the code below starts with an empty list (`data = []`)\n",
    "- Both code for simulation and the code below runs a defined number of times (`for i in range(2000):`)\n",
    "- Instead of simulating real-world variables, we record the data for every value of `i`.\n",
    "- The rest is the same! :)\n",
    "\n",
    "**Do not change** anything in the following two cells, just **run them and observe**. "
   ]
  },
  {
   "cell_type": "code",
   "execution_count": 11,
   "metadata": {},
   "outputs": [],
   "source": [
    "# Record the data in a DataFrame:\n",
    "import pandas as pd\n",
    "data = []\n",
    "for i in range(2000):\n",
    "    d = { 'Other People': i, 'P(at least one person shares MY birthday)': p_my_birthday(i) }\n",
    "    data.append(d)\n",
    "\n",
    "df = pd.DataFrame(data)"
   ]
  },
  {
   "cell_type": "code",
   "execution_count": 12,
   "metadata": {},
   "outputs": [
    {
     "data": {
      "image/png": "[encoded data removed]",
      "text/plain": [
       "<Figure size 640x480 with 1 Axes>"
      ]
     },
     "metadata": {},
     "output_type": "display_data"
    }
   ],
   "source": [
    "# Plot our DataFrame:\n",
    "plot = df.plot.line(y='P(at least one person shares MY birthday)', x='Other People', grid=True)"
   ]
  },
  {
   "attachments": {},
   "cell_type": "markdown",
   "metadata": {},
   "source": [
    "### Analysis: Birthday Probabilities\n",
    "\n",
    "**Q1: Between the following two events, which event is more likely to occur:**\n",
    "1. someone in your lab shares *your* birthday **OR**\n",
    "2. that there's at least one shared birthday between *anyone* in your lab?\n",
    "\n",
    "**In your answer, explain why the selection you made is more likely to occur than the other event.**"
   ]
  },
  {
   "cell_type": "markdown",
   "metadata": {},
   "source": [
    "*(it depends on the lab size, assumes that there are 50 people in the kab, the prob of someone in your lab share your birthday is about 0.128 as showed in puzzle1.2, the prb taht there's at least one share birthday is also about 0.12, so I think the prob is similar. )*"
   ]
  },
  {
   "cell_type": "markdown",
   "metadata": {},
   "source": [
    "<hr style=\"color: #DD3403;\">"
   ]
  },
  {
   "attachments": {},
   "cell_type": "markdown",
   "metadata": {},
   "source": [
    "# Part 2: The Classic Birthday Problem\n",
    "\n",
    "Now that we've warmed up by considering **your birthday**, we can go back to the original **birthday problem** we did in lecture. \n",
    "\n",
    "To restate, the **birthday problem** is a classic problem that asks:\n",
    "> *How likely is it for at least one person to share a birthday with another person in a room?*\n",
    "\n",
    "**NOTE**: Since we're no longer using **your** birthday, all birthdays here are now **random**."
   ]
  },
  {
   "attachments": {},
   "cell_type": "markdown",
   "metadata": {},
   "source": [
    "### Puzzle 2.1: Birthday Sharing at a Small Party\n",
    "\n",
    "Let's first walk  through scenarios of people sharing birthdays at super small parties of one, two, or three people. \n",
    "\n",
    "\n",
    "#### **A One-Person Party** (n=1)\n",
    "\n",
    "Suppose there is just one person in a room. Not really a party, but the probability that they **share a birthday** with someone else is... well... 0%. :(\n",
    "\n",
    "$P(\\text{shared birthday with 1 person}) = 0$\n",
    "\n",
    "\n",
    "#### **A Two-Person Party** (n=2)\n",
    "\n",
    "Now, let's add one more person to the party. \n",
    "\n",
    "The probability of **two people in a room** sharing the same birthday is non-zero! \n",
    "\n",
    "This is the probability of the **second person** having **exactly the same birthday** as the first, which is 1 out of 365!\n",
    "\n",
    "$P(\\text{shared birthday with 2 people}) = \\frac{1}{365}$\n",
    "\n",
    "\n",
    "#### **A Three-Person Party** (n=3)\n",
    "\n",
    "Now it gets interesting! Adding one more person to the party, we now have three total in attendance. \n",
    "\n",
    "In a three person party, what is the **probability** that there is **at least one** match of birthdays?\n",
    "\n",
    "Remember:\n",
    "- **$P(\\text{at least one}) = 1 - P(\\text{none})$**\n",
    "- We aren't only considering **your** birthday, but now **any** birthday in the room of three. \n",
    "- For **none of the birthdays** to match, the second person would need to have a birthday on one of the other **364 days**, but the third person would need to have a birthday that **isn't shared** with the unique **first OR second person's birthday**. How many days does that leave? \n",
    "\n",
    "\n",
    "Using these hints, find the probability that at least two people share a birthday in a party of three, storing your numerical answer in `p_three_person_party`:"
   ]
  },
  {
   "cell_type": "markdown",
   "metadata": {},
   "source": [
    "### Puzzle 2.1: Birthday Sharing at a Small Party\n",
    "\n",
    "Let's first walk  through scenarios of people sharing birthdays at super small parties of one, two, or three people. \n",
    "\n",
    "\n",
    "#### **A One-Person Party** (n=1)\n",
    "\n",
    "Suppose there is just one person in a room. Not really a party, but the probability that they **share a birthday** with someone else is... well... 0%. :(\n",
    "\n",
    "$P(\\text{shared birthday with 1 person}) = 0$\n",
    "\n",
    "\n",
    "#### **A Two-Person Party** (n=2)\n",
    "\n",
    "Now, let's add one more person to the party. \n",
    "\n",
    "The probability of **two people in a room** sharing the same birthday is non-zero! \n",
    "\n",
    "This is the probability of the **second person** having **exactly the same birthday** as the first, which is 1 out of 365!\n",
    "\n",
    "$P(\\text{shared birthday with 2 people}) = \\frac{1}{365}$\n",
    "\n",
    "\n",
    "#### **A Three-Person Party** (n=3)\n",
    "\n",
    "Now it gets interesting! Adding one more person to the party, we now have three total in attendance. \n",
    "\n",
    "In a three person party, what is the **probability** that there is **at least one** match of birthdays?\n",
    "\n",
    "Remember:\n",
    "- **$P(\\text{at least one}) = 1 - P(\\text{none})$**\n",
    "- We aren't only considering **your** birthday, but now **any** birthday in the room of three. \n",
    "- For **none of the birthdays** to match, the second person would need to have a birthday on one of the other **364 days**, but the third person would need to have a birthday that **isn't shared** with the unique **first OR second person's birthday**. How many days does that leave? \n",
    "\n",
    "\n",
    "Using these hints, find the probability that at least two people share a birthday in a party of three, storing your numerical answer in `p_three_person_party`:"
   ]
  },
  {
   "cell_type": "code",
   "execution_count": 18,
   "metadata": {
    "nbgrader": {
     "grade": false,
     "grade_id": "cell-9db7fd67d49459bd",
     "locked": false,
     "schema_version": 3,
     "solution": true,
     "task": false
    }
   },
   "outputs": [
    {
     "data": {
      "text/plain": [
       "0.008204165884781345"
      ]
     },
     "execution_count": 18,
     "metadata": {},
     "output_type": "execute_result"
    }
   ],
   "source": [
    "p_three_person_party = 1-(364/365)*(363/365)\n",
    "p_three_person_party"
   ]
  },
  {
   "cell_type": "markdown",
   "metadata": {},
   "source": [
    "### 🔬 Test Case Checkpoint 🔬"
   ]
  },
  {
   "cell_type": "code",
   "execution_count": 19,
   "metadata": {
    "nbgrader": {
     "grade": true,
     "grade_id": "cell-3aa5b5a4afef9fbc",
     "locked": true,
     "points": 0,
     "schema_version": 3,
     "solution": false,
     "task": false
    }
   },
   "outputs": [
    {
     "name": "stdout",
     "output_type": "stream",
     "text": [
      "🎉 All tests passed! 🎉\n"
     ]
    }
   ],
   "source": [
    "## == TEST CASES for Puzzle 2.1 ==\n",
    "# - This read-only cell contains test cases for your previous cell.\n",
    "# - If this cell runs without any error our output, you PASSED all test cases!\n",
    "# - If this cell results in any errors, check you previous cell, make changes, and RE-RUN your code and then this cell.\n",
    "import math\n",
    "assert( math.isclose(p_three_person_party, 0.008204165884781345) ), \"The probability doesn't seem right.\"\n",
    "\n",
    "## == SUCCESS MESSAGE ==\n",
    "# You will only see this message (with the emoji showing) if you passed all test cases:\n",
    "tada = \"\\N{PARTY POPPER}\"\n",
    "print(f\"{tada} All tests passed! {tada}\")"
   ]
  },
  {
   "attachments": {},
   "cell_type": "markdown",
   "metadata": {},
   "source": [
    "### Puzzle 2.2: A Four-Person Party\n",
    "\n",
    "Using what you've learned, let's increase our party size to four.\n",
    "\n",
    "In a four person party, what is the probability that there is **at least one match** of birthdays?\n",
    "\n",
    "Use the following cell to find the numerical answer, storing it in the variable `p_four_person_party`:"
   ]
  },
  {
   "cell_type": "code",
   "execution_count": 20,
   "metadata": {
    "nbgrader": {
     "grade": false,
     "grade_id": "cell-1a5b32da97b97164",
     "locked": false,
     "schema_version": 3,
     "solution": true,
     "task": false
    }
   },
   "outputs": [
    {
     "data": {
      "text/plain": [
       "0.016355912466550215"
      ]
     },
     "execution_count": 20,
     "metadata": {},
     "output_type": "execute_result"
    }
   ],
   "source": [
    "p_four_person_party = 1-(364/365)*(363/365)*(362/365)\n",
    "p_four_person_party"
   ]
  },
  {
   "cell_type": "markdown",
   "metadata": {},
   "source": [
    "### 🔬 Test Case Checkpoint 🔬"
   ]
  },
  {
   "cell_type": "code",
   "execution_count": 21,
   "metadata": {
    "nbgrader": {
     "grade": true,
     "grade_id": "cell-571231fcdfa9de08",
     "locked": true,
     "points": 1,
     "schema_version": 3,
     "solution": false,
     "task": false
    }
   },
   "outputs": [
    {
     "name": "stdout",
     "output_type": "stream",
     "text": [
      "🎉 All tests passed! 🎉\n"
     ]
    }
   ],
   "source": [
    "## == TEST CASES for Puzzle 2.2 ==\n",
    "# - This read-only cell contains test cases for your previous cell.\n",
    "# - If this cell runs without any error our output, you PASSED all test cases!\n",
    "# - If this cell results in any errors, check you previous cell, make changes, and RE-RUN your code and then this cell.\n",
    "import math\n",
    "assert( math.isclose(p_four_person_party, 0.016355912466550215) ), \"The probability doesn't seem right.\"\n",
    "\n",
    "## == SUCCESS MESSAGE ==\n",
    "# You will only see this message (with the emoji showing) if you passed all test cases:\n",
    "tada = \"\\N{PARTY POPPER}\"\n",
    "print(f\"{tada} All tests passed! {tada}\")"
   ]
  },
  {
   "attachments": {},
   "cell_type": "markdown",
   "metadata": {},
   "source": [
    "### Example: Sharing a Birthday at an `n`-Person Party\n",
    "\n",
    "For your convenience, we've created a function called `P_shared_birthday` that returns the **probability** that there is **at least one** match of birthdays among `n` people. This function just computes the Birthday Problem we did in lecture a couple weeks ago!\n",
    "\n",
    "Alongside the function itself, we have also provided **print statements** that will output the **probabilities** of **at least one** match of birthdays among varying `n` people. \n",
    "\n",
    "**Do not modify** this function, just **run the cell** below and confirm the **outputs make sense**:"
   ]
  },
  {
   "cell_type": "code",
   "execution_count": 22,
   "metadata": {
    "nbgrader": {
     "grade": false,
     "grade_id": "cell-8826e853f191d14f",
     "locked": false,
     "schema_version": 3,
     "solution": true,
     "task": false
    }
   },
   "outputs": [
    {
     "name": "stdout",
     "output_type": "stream",
     "text": [
      "A room with just you: 0\n",
      "A room with two people: 0.002739726027397249\n",
      "A room with three people: 0.008204165884781456\n",
      "A room with four people: 0.016355912466550326\n",
      "A room with 40 other people: 0.891231809817949\n",
      "A room with 80 other people: 0.9999143319493135\n",
      "A room with 400 other people: 1.0\n"
     ]
    }
   ],
   "source": [
    "def P_shared_birthday(n):\n",
    "    p_none = 1\n",
    "    for i in range(1, n):\n",
    "        p_none = p_none * (365 - i) / 365\n",
    "    return 1 - p_none\n",
    "\n",
    "# A few test outputs...\n",
    "print('A room with just you:',  P_shared_birthday(1))\n",
    "print('A room with two people:',  P_shared_birthday(2))\n",
    "print('A room with three people:',  P_shared_birthday(3))\n",
    "print('A room with four people:',  P_shared_birthday(4))\n",
    "print('A room with 40 other people:',  P_shared_birthday(40))\n",
    "print('A room with 80 other people:',  P_shared_birthday(80))\n",
    "print('A room with 400 other people:',  P_shared_birthday(400))"
   ]
  },
  {
   "cell_type": "markdown",
   "metadata": {},
   "source": [
    "### 🔬 Test Case Checkpoint 🔬"
   ]
  },
  {
   "cell_type": "code",
   "execution_count": 23,
   "metadata": {
    "nbgrader": {
     "grade": true,
     "grade_id": "cell-5a323ce5fab0c281",
     "locked": true,
     "points": 0,
     "schema_version": 3,
     "solution": false,
     "task": false
    }
   },
   "outputs": [
    {
     "name": "stdout",
     "output_type": "stream",
     "text": [
      "🎉 All tests passed! 🎉\n"
     ]
    }
   ],
   "source": [
    "## == TEST CASES for Example Function ==\n",
    "# - This read-only cell contains test cases for the function we've provided you.\n",
    "# - Please see a TA/CA if these test cases do not pass. You should not have to change the code we've provided above. \n",
    "\n",
    "import math\n",
    "assert( math.isclose(P_shared_birthday(3), 0.008204165884781456) ), \"The P_shared_birthday function is incorrect for n = 3.\"\n",
    "assert( math.isclose(P_shared_birthday(4), 0.016355912466550326) ), \"The P_shared_birthday function is incorrect for n = 4.\"\n",
    "assert( math.isclose(P_shared_birthday(40), 0.891231809817949) ), \"The P_shared_birthday function is incorrect for n = 40.\"\n",
    "assert( math.isclose(P_shared_birthday(400), 1.0) ), \"The P_shared_birthday function is incorrect for n = 400.\"\n",
    "\n",
    "## == SUCCESS MESSAGE ==\n",
    "# You will only see this message (with the emoji showing) if you passed all test cases:\n",
    "tada = \"\\N{PARTY POPPER}\"\n",
    "print(f\"{tada} All tests passed! {tada}\")"
   ]
  },
  {
   "attachments": {},
   "cell_type": "markdown",
   "metadata": {},
   "source": [
    "### Puzzle 2.3: Plotting P_shared_birthday\n",
    "\n",
    "Now generate a plot showing the growth of `P_shared_birthday` over changes to `n`. For now, use **n = 2000 people**. This plot will display how the **probability of at least two people** sharing a birthday in a room changes as the **number of people grows**.\n",
    "\n",
    "Your code should be **very similar** to simulation techniques learning in lecture, where the real world events are `n` and  `P_shared_birthday`.  If you get stuck, **look back** at how we generated the function plot in **Part 1** of this lab. \n",
    "\n"
   ]
  },
  {
   "cell_type": "code",
   "execution_count": 39,
   "metadata": {
    "nbgrader": {
     "grade": false,
     "grade_id": "cell-c46ee253ad4a8777",
     "locked": false,
     "schema_version": 3,
     "solution": true,
     "task": false
    }
   },
   "outputs": [],
   "source": [
    "# Create the DataFrame:\n",
    "import pandas as pd\n",
    "data = []\n",
    "for i in range(2000):\n",
    "    d = { '# People': i+1, 'P_shared_birthday': p_shared_birthday(i+1) }\n",
    "    data.append(d)\n",
    "\n",
    "df = pd.DataFrame(data)"
   ]
  },
  {
   "cell_type": "code",
   "execution_count": 42,
   "metadata": {},
   "outputs": [
    {
     "data": {
      "image/png": "[encoded data removed]",
      "text/plain": [
       "<Figure size 1000x600 with 1 Axes>"
      ]
     },
     "metadata": {},
     "output_type": "display_data"
    }
   ],
   "source": [
    "# Plot the DataFrame:\n",
    "plot = df.plot.line(y='P_shared_birthday', x='# People', grid=True, figsize=(10, 6), title=\"Probability of Shared Birthday vs Number of People\")"
   ]
  },
  {
   "cell_type": "markdown",
   "metadata": {},
   "source": [
    "Notice how most of the graph is redundant after a certain point and only a small portion of the graph captures a change in probability as the number of people grows.\n",
    "\n",
    "Copy and paste your code above into the boxes below, **adjusting the number of people** you record (range of the `for` loop) to focus only on the **interesting part** of this plot (when the probability is changing the most)."
   ]
  },
  {
   "cell_type": "code",
   "execution_count": 51,
   "metadata": {},
   "outputs": [],
   "source": [
    "# Create the new DataFrame:\n",
    "import pandas as pd\n",
    "data = []\n",
    "for i in range(60):\n",
    "    d = { '# People': i+1, 'P_shared_birthday': p_shared_birthday(i+1) }\n",
    "    data.append(d)\n",
    "\n",
    "df = pd.DataFrame(data)"
   ]
  },
  {
   "cell_type": "code",
   "execution_count": 52,
   "metadata": {},
   "outputs": [
    {
     "data": {
      "image/png": "[encoded data removed]",
      "text/plain": [
       "<Figure size 1000x600 with 1 Axes>"
      ]
     },
     "metadata": {},
     "output_type": "display_data"
    }
   ],
   "source": [
    "# Plot the new DataFrame:\n",
    "plot = df.plot.line(y='P_shared_birthday', x='# People', grid=True, figsize=(10, 6), title=\"Probability of Shared Birthday vs Number of People\")"
   ]
  },
  {
   "attachments": {},
   "cell_type": "markdown",
   "metadata": {},
   "source": [
    "### Analysis: Birthday Problem Plot\n",
    "\n",
    "**Q2: Observe the plots you've generated above. What does the shape of the plots tell you about the probability of at least two people sharing birthdays in a room of `n` people as opposed to them sharing a specific birthday with you? At what value for `n` does it become more likely than not for two people to share a birthday?**"
   ]
  },
  {
   "cell_type": "markdown",
   "metadata": {},
   "source": [
    "*(as the number of people in the room increases, the probability of at least two people sharing a birthday rises quickly, surpassing 50% around 23 people.)*"
   ]
  },
  {
   "cell_type": "markdown",
   "metadata": {},
   "source": [
    "<hr style=\"color: #DD3403;\">"
   ]
  },
  {
   "attachments": {},
   "cell_type": "markdown",
   "metadata": {},
   "source": [
    "# Part 3: Taylor's Birthday Problem\n",
    "\n",
    "We've made some great progress answering the classic Birthday Problem, but now Taylor Swift is coming to perform at UIUC and wants more. Specifically,  Taylor Swift wants **every day to be someone's birthday**!  \n",
    "\n",
    "In this portion of the lab, we will discover:\n",
    "> Given a massive concert of `n` people, what is the probability that **all 365 days have at least one person with a birthday that day**?\n",
    "\n",
    "Since Wade, Karle, and many of the course staff love Taylor, we wrote a **function** to do this simulation for Taylor!  You can check out the code below, but all you need to know is that:\n",
    "\n",
    "> The `simulation_for_taylor` function returns **one simulation** of the **number of people** needed to **satisfy Taylor's wish** for there to be someone with a birthday for **every day of the year** at her concert!\n",
    "\n",
    "...you will need to **use this function** to help us calculate probabilities!\n",
    "\n",
    "**Do not change** anything in the following cell, just **read through it and run the cell**. "
   ]
  },
  {
   "cell_type": "code",
   "execution_count": 30,
   "metadata": {},
   "outputs": [],
   "source": [
    "# The `simulation_for_taylor` function returns one simulation of the number of people needed\n",
    "# to satisfy Taylor's wish for there to be someone with a birthday for every day of the year\n",
    "# at her concert!\n",
    "#\n",
    "# @return: One simulation of the number of people needed at the concert.\n",
    "#   Examples: 2056, 2520, 2868, 3033, 2022, 1743, ...\n",
    "import random\n",
    "\n",
    "def simulation_for_taylor():\n",
    "    ct = 0   #< Count the number of people needed\n",
    "    day = 0  #< Count the current unique days found\n",
    "    \n",
    "    # While all 365 unique days have not been seen:\n",
    "    while day < 365:\n",
    "        # Add a person:\n",
    "        ct = ct + 1\n",
    "        \n",
    "        # Check if a random number is a new, unique day.\n",
    "        # - When day == 0, we've seen no unique days so P(unique day) == 1 as randint(0, 364) will always be `>= 0` (100%)\n",
    "        # - When day == 1, P(unique day) == (364/365) and we check if we get a number `>= 1` (any number but 0)\n",
    "        # - When day == 2, P(unique day) == (363/365) and we check if we get a number `>= 2` (anything but 0 or 1)\n",
    "        # - ...\n",
    "        # - When day == 364, P(unique day) == (1/365) so we need get randint(0, 364) to be exactly 364.\n",
    "        if random.randint(0, 364) >= day:\n",
    "            day = day + 1\n",
    "            \n",
    "    # Return the number of people needed\n",
    "    return ct    "
   ]
  },
  {
   "attachments": {},
   "cell_type": "markdown",
   "metadata": {},
   "source": [
    "### Running the Simulation\n",
    "\n",
    "**Run** the following cell **several times**.  It's calling our `simulation_for_taylor()` function once and outputting a **number**. \n",
    "\n",
    "This **number** is the number of people in **one simulated instance** of Taylor's concert **needed** for **every day of the year** to be someone's birthday:"
   ]
  },
  {
   "cell_type": "code",
   "execution_count": 31,
   "metadata": {
    "nbgrader": {
     "grade": false,
     "grade_id": "cell-a60a84fa1d64c87d",
     "locked": false,
     "schema_version": 3,
     "solution": true,
     "task": false
    }
   },
   "outputs": [
    {
     "data": {
      "text/plain": [
       "2560"
      ]
     },
     "execution_count": 31,
     "metadata": {},
     "output_type": "execute_result"
    }
   ],
   "source": [
    "simulation_for_taylor()"
   ]
  },
  {
   "attachments": {},
   "cell_type": "markdown",
   "metadata": {},
   "source": [
    "### Puzzle 3.1: Collecting Simulation Results\n",
    "\n",
    "Using `simulation_for_taylor()`, collect the results of running this simulation at least **1,000** times and store the result in `df_taylor`. \n",
    "\n",
    "Store your results in the DataFrame `df_taylor` under any column name that fits the context. For context, we are populating `df_taylor` with 1,000 simulations that contains the number of people needed to **satisfy Taylor's birthday problem**. \n",
    "\n",
    "If you're feeling stuck, remember how we wrote **simulation code** in lecture and **Parts 1 and 2** of this lab.\n",
    "\n",
    "*(Note: This may take a few seconds or up to a minute to run on a slower laptop.  You may want to try running the simulation 10 times to make sure your code works before changing your `for` loop range to 1,000)*"
   ]
  },
  {
   "cell_type": "code",
   "execution_count": 65,
   "metadata": {
    "nbgrader": {
     "grade": false,
     "grade_id": "cell-6a44b9f35daf8325",
     "locked": false,
     "schema_version": 3,
     "solution": true,
     "task": false
    }
   },
   "outputs": [
    {
     "data": {
      "text/html": [
       "<div>\n",
       "<style scoped>\n",
       "    .dataframe tbody tr th:only-of-type {\n",
       "        vertical-align: middle;\n",
       "    }\n",
       "\n",
       "    .dataframe tbody tr th {\n",
       "        vertical-align: top;\n",
       "    }\n",
       "\n",
       "    .dataframe thead th {\n",
       "        text-align: right;\n",
       "    }\n",
       "</style>\n",
       "<table border=\"1\" class=\"dataframe\">\n",
       "  <thead>\n",
       "    <tr style=\"text-align: right;\">\n",
       "      <th></th>\n",
       "      <th>people needed</th>\n",
       "    </tr>\n",
       "  </thead>\n",
       "  <tbody>\n",
       "    <tr>\n",
       "      <th>0</th>\n",
       "      <td>2895</td>\n",
       "    </tr>\n",
       "    <tr>\n",
       "      <th>1</th>\n",
       "      <td>1731</td>\n",
       "    </tr>\n",
       "    <tr>\n",
       "      <th>2</th>\n",
       "      <td>1913</td>\n",
       "    </tr>\n",
       "    <tr>\n",
       "      <th>3</th>\n",
       "      <td>2503</td>\n",
       "    </tr>\n",
       "    <tr>\n",
       "      <th>4</th>\n",
       "      <td>2528</td>\n",
       "    </tr>\n",
       "    <tr>\n",
       "      <th>...</th>\n",
       "      <td>...</td>\n",
       "    </tr>\n",
       "    <tr>\n",
       "      <th>995</th>\n",
       "      <td>1910</td>\n",
       "    </tr>\n",
       "    <tr>\n",
       "      <th>996</th>\n",
       "      <td>2139</td>\n",
       "    </tr>\n",
       "    <tr>\n",
       "      <th>997</th>\n",
       "      <td>2641</td>\n",
       "    </tr>\n",
       "    <tr>\n",
       "      <th>998</th>\n",
       "      <td>3318</td>\n",
       "    </tr>\n",
       "    <tr>\n",
       "      <th>999</th>\n",
       "      <td>1883</td>\n",
       "    </tr>\n",
       "  </tbody>\n",
       "</table>\n",
       "<p>1000 rows × 1 columns</p>\n",
       "</div>"
      ],
      "text/plain": [
       "     people needed\n",
       "0             2895\n",
       "1             1731\n",
       "2             1913\n",
       "3             2503\n",
       "4             2528\n",
       "..             ...\n",
       "995           1910\n",
       "996           2139\n",
       "997           2641\n",
       "998           3318\n",
       "999           1883\n",
       "\n",
       "[1000 rows x 1 columns]"
      ]
     },
     "execution_count": 65,
     "metadata": {},
     "output_type": "execute_result"
    }
   ],
   "source": [
    "# Simulation code using the `simulation_for_taylor` function to run 1,000 times:\n",
    "data = []\n",
    "for i in range(1000):\n",
    "    people_needed = simulation_for_taylor()\n",
    "    d = {\"people needed\":people_needed}\n",
    "    data.append(d)\n",
    "\n",
    "# Finally, create a DataFrame of simulation results:\n",
    "df_taylor = pd.DataFrame(data)\n",
    "df_taylor"
   ]
  },
  {
   "attachments": {},
   "cell_type": "markdown",
   "metadata": {},
   "source": [
    "## Puzzle 3.2: Finding the Probability for Taylor\n",
    "\n",
    "The concert is being held and we have **exactly 2,000 people packed onto the main quad for Taylor Swift!**  \n",
    "\n",
    "Using your simulation results, we are going to find an **estimate for the probability** that Taylor will be happy to know **every day of the year** is someone’s birthday.\n",
    "\n",
    "First, using **conditional logic**, find the rows of our `df_taylor` where the **simulation was a success**, storing the results in a DataFrame `df_success`.\n",
    "\n",
    "*Hint: The simulation is a success if <= 2000 people was enough for Taylor's request.*"
   ]
  },
  {
   "cell_type": "code",
   "execution_count": 66,
   "metadata": {
    "nbgrader": {
     "grade": false,
     "grade_id": "cell-0b48a78d683ce577",
     "locked": false,
     "schema_version": 3,
     "solution": true,
     "task": false
    }
   },
   "outputs": [
    {
     "data": {
      "text/html": [
       "<div>\n",
       "<style scoped>\n",
       "    .dataframe tbody tr th:only-of-type {\n",
       "        vertical-align: middle;\n",
       "    }\n",
       "\n",
       "    .dataframe tbody tr th {\n",
       "        vertical-align: top;\n",
       "    }\n",
       "\n",
       "    .dataframe thead th {\n",
       "        text-align: right;\n",
       "    }\n",
       "</style>\n",
       "<table border=\"1\" class=\"dataframe\">\n",
       "  <thead>\n",
       "    <tr style=\"text-align: right;\">\n",
       "      <th></th>\n",
       "      <th>people needed</th>\n",
       "    </tr>\n",
       "  </thead>\n",
       "  <tbody>\n",
       "    <tr>\n",
       "      <th>1</th>\n",
       "      <td>1731</td>\n",
       "    </tr>\n",
       "    <tr>\n",
       "      <th>2</th>\n",
       "      <td>1913</td>\n",
       "    </tr>\n",
       "    <tr>\n",
       "      <th>6</th>\n",
       "      <td>1851</td>\n",
       "    </tr>\n",
       "    <tr>\n",
       "      <th>25</th>\n",
       "      <td>1992</td>\n",
       "    </tr>\n",
       "    <tr>\n",
       "      <th>32</th>\n",
       "      <td>1977</td>\n",
       "    </tr>\n",
       "    <tr>\n",
       "      <th>...</th>\n",
       "      <td>...</td>\n",
       "    </tr>\n",
       "    <tr>\n",
       "      <th>971</th>\n",
       "      <td>1581</td>\n",
       "    </tr>\n",
       "    <tr>\n",
       "      <th>976</th>\n",
       "      <td>1822</td>\n",
       "    </tr>\n",
       "    <tr>\n",
       "      <th>990</th>\n",
       "      <td>1985</td>\n",
       "    </tr>\n",
       "    <tr>\n",
       "      <th>995</th>\n",
       "      <td>1910</td>\n",
       "    </tr>\n",
       "    <tr>\n",
       "      <th>999</th>\n",
       "      <td>1883</td>\n",
       "    </tr>\n",
       "  </tbody>\n",
       "</table>\n",
       "<p>210 rows × 1 columns</p>\n",
       "</div>"
      ],
      "text/plain": [
       "     people needed\n",
       "1             1731\n",
       "2             1913\n",
       "6             1851\n",
       "25            1992\n",
       "32            1977\n",
       "..             ...\n",
       "971           1581\n",
       "976           1822\n",
       "990           1985\n",
       "995           1910\n",
       "999           1883\n",
       "\n",
       "[210 rows x 1 columns]"
      ]
     },
     "execution_count": 66,
     "metadata": {},
     "output_type": "execute_result"
    }
   ],
   "source": [
    "df_success = df_taylor[df_taylor['people needed'] <= 2000]\n",
    "df_success"
   ]
  },
  {
   "attachments": {},
   "cell_type": "markdown",
   "metadata": {},
   "source": [
    "Now, using your `df_success` DataFrame, find the **probability of success** given all the simulated concerts in our `df_taylor`.\n",
    "\n",
    "Store this numerical result in the variable `P_every_birthday`. "
   ]
  },
  {
   "cell_type": "code",
   "execution_count": 67,
   "metadata": {
    "nbgrader": {
     "grade": false,
     "grade_id": "cell-3cd0d620430a89ba",
     "locked": false,
     "schema_version": 3,
     "solution": true,
     "task": false
    }
   },
   "outputs": [
    {
     "data": {
      "text/plain": [
       "0.21"
      ]
     },
     "execution_count": 67,
     "metadata": {},
     "output_type": "execute_result"
    }
   ],
   "source": [
    "P_every_birthday = len(df_success)/len(df_taylor)\n",
    "P_every_birthday"
   ]
  },
  {
   "attachments": {},
   "cell_type": "markdown",
   "metadata": {},
   "source": [
    "### Puzzle 3.3: Visualizing Results\n",
    "\n",
    "With the cell below, generate a **histogram with 50 bins** of your `df_taylor` results, showing the distribution of people needed in our simulation to account for every birthday."
   ]
  },
  {
   "cell_type": "code",
   "execution_count": 71,
   "metadata": {
    "nbgrader": {
     "grade": false,
     "grade_id": "cell-62147f75639a94d3",
     "locked": false,
     "schema_version": 3,
     "solution": true,
     "task": false
    }
   },
   "outputs": [
    {
     "data": {
      "image/png": "[encoded data removed]",
      "text/plain": [
       "<Figure size 1000x600 with 1 Axes>"
      ]
     },
     "metadata": {},
     "output_type": "display_data"
    }
   ],
   "source": [
    "plot = df_taylor['people needed'].plot.hist(bins=50, grid=True, figsize=(10, 6), title=\"people needed\")"
   ]
  },
  {
   "cell_type": "markdown",
   "metadata": {},
   "source": [
    "### 🔬 Test Case Checkpoint 🔬"
   ]
  },
  {
   "cell_type": "code",
   "execution_count": 72,
   "metadata": {
    "nbgrader": {
     "grade": true,
     "grade_id": "cell-1bae19913f8df080",
     "locked": true,
     "points": 0,
     "schema_version": 3,
     "solution": false,
     "task": false
    }
   },
   "outputs": [
    {
     "name": "stdout",
     "output_type": "stream",
     "text": [
      "🎉 All automatic tests passed! 🎉\n",
      "⚠️ Make sure your histogram has 50 bins! (This cannot be automatically checked!) ⚠️\n"
     ]
    }
   ],
   "source": [
    "## == TEST CASES for Part 3 ==\n",
    "# - This read-only cell contains test cases for your previous cell.\n",
    "# - If this cell runs without any error our output, you PASSED all test cases!\n",
    "# - If this cell results in any errors, check you previous cell, make changes, and RE-RUN your code and then this cell.\n",
    "\n",
    "assert( len(df_taylor) >= 1000 ), \"Ensure you have done at least 1,000 simulations.\"\n",
    "assert( len(df_success) > 0 ), \"Ensure your success includes all simulations with 2,000 or fewer people.\"\n",
    "assert( len(df_success) < len(df_taylor) ), \"Ensure your success includes all simulations with 2,000 or fewer people.\"\n",
    "assert( P_every_birthday > 0.1 and P_every_birthday < 0.4 ), \"Double check your `P_every_birthday` is a reasonable probability.\"\n",
    "\n",
    "## == SUCCESS MESSAGE ==\n",
    "# You will only see this message (with the emoji showing) if you passed all test cases:\n",
    "tada = \"\\N{PARTY POPPER}\"\n",
    "print(f\"{tada} All automatic tests passed! {tada}\")\n",
    "print(f\"⚠️ Make sure your histogram has 50 bins! (This cannot be automatically checked!) ⚠️\")"
   ]
  },
  {
   "cell_type": "code",
   "execution_count": null,
   "metadata": {},
   "outputs": [],
   "source": []
  },
  {
   "attachments": {},
   "cell_type": "markdown",
   "metadata": {},
   "source": [
    "### Analysis: Taylor's Birthday Problem\n",
    "\n",
    "**Q3: Looking back at your calculations and histogram of simulation results, comment on whether you think it's likely that Taylor will have her birthday request fulfilled at the UIUC Quad Concert of 2,000 people?  Explain why or why not using specific data from the analysis you did above.**"
   ]
  },
  {
   "cell_type": "markdown",
   "metadata": {},
   "source": [
    "*(I think it's very possible, as you can see in the image, with two thousand people the FREQUENCY is around 43)*"
   ]
  },
  {
   "cell_type": "markdown",
   "metadata": {},
   "source": [
    "<hr style=\"color: #DD3403;\">"
   ]
  },
  {
   "cell_type": "markdown",
   "metadata": {},
   "source": [
    "# Submission\n",
    "\n",
    "You're almost done!  All you need to do is to commit your lab to GitHub:\n",
    "\n",
    "1.  ⚠️ **Make certain to save your work.** ⚠️ To do this, go to **File => Save All**\n",
    "\n",
    "2.  After you have saved, exit this notebook and follow the Canvas instructions to commit this lab to your Git repository!\n",
    "\n",
    "3. Your TA will grade your submission and provide you feedback after the lab is due. :)"
   ]
  }
 ],
 "metadata": {
  "celltoolbar": "Create Assignment",
  "kernelspec": {
   "display_name": "Python 3",
   "language": "python",
   "name": "python3"
  },
  "language_info": {
   "codemirror_mode": {
    "name": "ipython",
    "version": 3
   },
   "file_extension": ".py",
   "mimetype": "text/x-python",
   "name": "python",
   "nbconvert_exporter": "python",
   "pygments_lexer": "ipython3",
   "version": "3.12.5"
  },
  "vscode": {
   "interpreter": {
    "hash": "369f2c481f4da34e4445cda3fffd2e751bd1c4d706f27375911949ba6bb62e1c"
   }
  }
 },
 "nbformat": 4,
 "nbformat_minor": 2
}
