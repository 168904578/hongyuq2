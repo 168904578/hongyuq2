{
 "cells": [
  {
   "attachments": {},
   "cell_type": "markdown",
   "execution_count": 0,
   "metadata": {},
   "outputs": [],
   "source": [
    "# Welcome to lab_regression! 🏠\n",
    "\n",
    "One of the coolest parts of data science is **prediction** with **machine learning**. Up until now, we have done a myriad of data analysis given existing data. We have even generated our own data in simulations! Today, using some foundational concepts of machine learning, we will be making predictions based on data!\n",
    "\n",
    "As you learned in lecture, **linear regression** is a powerful tool that can be used to quantify trends in data. We can use our Python skills to perform **simple linear regression** in this lab! \n",
    "\n",
    "\n",
    "A few tips to remember:\n",
    "\n",
    "- **You are not alone on your journey in learning programming!** You have your lab TA, your CAs, your lab group, and the professors (Prof. Wade and Prof. Karle), who are all here to help you out!\n",
    "- If you find yourself stuck for more than a few minutes, ask a neighbor or course staff for help! When you are giving help to your neighbor, explain the **idea and approach** to the problem without sharing the answer itself so they can have the same ***ah-hah*** moment!\n",
    "- We are here to help you! Don't feel embarrassed or shy to ask us for help!\n",
    "\n",
    "Let's get started!"
   ]
  },
  {
   "cell_type": "code",
   "execution_count": 0,
   "metadata": {},
   "outputs": [],
   "source": [
    "# Meet your CAs and TA if you haven't already!\n",
    "# ...first name is enough, we'll know who they are! :)\n",
    "ta_name = \"\"\n",
    "ca1_name = \"\"\n",
    "ca2_name = \"\"\n",
    "ca3_name = \"\"\n",
    "\n",
    "\n",
    "# Say hello to each other!\n",
    "# - Groups of 3 are ideal :)\n",
    "# - However, groups of 2 or 4 are fine too!\n",
    "#\n",
    "# Question of the Day (QOTD) to Ask Your Group: \"What was your favorite thing about DISCOVERY this semester?\"\n",
    "partner1_name = \"\"\n",
    "partner1_netid = \"\"\n",
    "partner1_DISCOVERYfave = \"\"\n",
    "\n",
    "partner2_name = \"\"\n",
    "partner2_netid = \"\"\n",
    "partner2_DISCOVERYfave = \"\"\n",
    "\n",
    "partner3_name = \"\"\n",
    "partner3_netid = \"\"\n",
    "partner3_DISCOVERYfave = \"\""
   ]
  },
  {
   "cell_type": "markdown",
   "execution_count": 0,
   "metadata": {},
   "outputs": [],
   "source": [
    "<hr style=\"color: #DD3403;\">"
   ]
  },
  {
   "attachments": {},
   "cell_type": "markdown",
   "execution_count": 0,
   "metadata": {},
   "outputs": [],
   "source": [
    "# Part 1: Housing Data EDA\n",
    "\n",
    "Today, we'll be working with a **housing prices** dataset. This data has the price of many houses/properties alongside various descriptive qualities of those properties (the total square feet, number of bathrooms, number of bedrooms, etc.).\n",
    "\n",
    "We will use basic **machine learning** techniques in this lab to **predict house prices** with a **linear regression** model.\n",
    "\n",
    "But before we approach this implementation of **simple linear regression**, let's **familiarize ourselves with the data** by doing some **EDA (Exploratory Data Analysis)**. This will include:\n",
    "- Viewing a correlation matrix of our data\n",
    "- Plotting visualizations to visually see relationships in the data"
   ]
  },
  {
   "attachments": {},
   "cell_type": "markdown",
   "execution_count": 0,
   "metadata": {},
   "outputs": [],
   "source": [
    "## Puzzle 1.1: Loading In\n",
    "We've provided you with a `housing.csv` file containing the Housing Dataset. You know the drill. Let's **import the Housing Dataset** in the cell below. Make sure you name your DataFrame `df`. "
   ]
  },
  {
   "cell_type": "code",
   "execution_count": 0,
   "metadata": {},
   "outputs": [],
   "source": [
    "df = ...\n",
    "df"
   ]
  },
  {
   "cell_type": "markdown",
   "execution_count": 0,
   "metadata": {},
   "outputs": [],
   "source": [
    "### 🔬 Test Case Checkpoint 🔬"
   ]
  },
  {
   "cell_type": "code",
   "execution_count": 0,
   "metadata": {},
   "outputs": [],
   "source": [
    "## == TEST CASES for Puzzle 1.1 ==\n",
    "# - This read-only cell contains test cases for your previous cell.\n",
    "# - If this cell runs without any error our output, you PASSED all test cases!\n",
    "# - If this cell results in any errors, check you previous cell, make changes, and RE-RUN your code and then this cell.\n",
    "assert ( 'df' in vars() ), \"Your DataFrame should be named df.\"\n",
    "assert( len(df) == 545 ), \"This is not the Housing Dataset we are looking for...\"\n",
    "assert( 'price' in df.columns.to_list() ), \"This is not the Housing Dataset we are looking for...\" \n",
    "\n",
    "## == SUCCESS MESSAGE ==\n",
    "# You will only see this message (with the emoji showing) if you passed all test cases:\n",
    "tada = \"\\N{PARTY POPPER}\"\n",
    "print(f\"{tada} All tests passed! {tada}\")"
   ]
  },
  {
   "attachments": {},
   "cell_type": "markdown",
   "execution_count": 0,
   "metadata": {},
   "outputs": [],
   "source": [
    "## Puzzle 1.2: Correlation Matrix\n",
    "In lecture, you learned about the correlation coefficient $r$ which measures the **strength of linear association** between two variables ($X$ and $y$).  Find the correlation coefficient matrix for the numerical columns in `df`:\n",
    "\n",
    "*(If you're not sure how to do this, you can check page 122 of your DISCOVERY notebook.)*"
   ]
  },
  {
   "cell_type": "code",
   "execution_count": 0,
   "metadata": {},
   "outputs": [],
   "source": [
    "..."
   ]
  },
  {
   "cell_type": "markdown",
   "execution_count": 0,
   "metadata": {},
   "outputs": [],
   "source": [
    "### ML Vocabulary: Features and Labels\n",
    "\n",
    "Quick vocabulary lesson! In machine learning, we often organize **instances** in our dataset into **features** and **labels** (in this lab, an **instance** is one row of our DataFrame). \n",
    "\n",
    "**Features** are characteristics that describe each **instance** in our dataset. These **features** are the **inputs** fed into machine learning models that will make **predictions**. They are our **independent variables**, or $X$. \n",
    "\n",
    "**Labels** are the output or **target** variables we are **trying to predict**. They are our **dependent variables**, or $y$. \n",
    "\n",
    "In the context of our housing dataset, the single **label** we are trying to predict is the **price** of a housing property. "
   ]
  },
  {
   "attachments": {},
   "cell_type": "markdown",
   "execution_count": 0,
   "metadata": {},
   "outputs": [],
   "source": [
    "### Analysis: Potential Features\n",
    "\n",
    "**Q1: Given that our label (what we want to predict) is `price`, what are some *meaningful features* we could use to make a prediction? Use numbers from the correlation matrix to support your answer.**"
   ]
  },
  {
   "cell_type": "markdown",
   "execution_count": 0,
   "metadata": {},
   "outputs": [],
   "source": [
    "*(✏️ Edit this cell to replace this text with your answer. ✏️)*"
   ]
  },
  {
   "attachments": {},
   "cell_type": "markdown",
   "execution_count": 0,
   "metadata": {},
   "outputs": [],
   "source": [
    "## Puzzle 1.3: Scatter Plot in Predicting Price\n",
    "\n",
    "The highest $r$ value in the entire dataset is the correlation between `area` and `price` ($r=0.535997$).\n",
    "\n",
    "Generate a scatter plot from `df` where the dependent variable ($y$) is `price` and independent variable ($X$) is `area`:"
   ]
  },
  {
   "cell_type": "code",
   "execution_count": 0,
   "metadata": {},
   "outputs": [],
   "source": [
    "..."
   ]
  },
  {
   "cell_type": "markdown",
   "execution_count": 0,
   "metadata": {},
   "outputs": [],
   "source": [
    "<hr style=\"color: #DD3403;\">"
   ]
  },
  {
   "attachments": {},
   "cell_type": "markdown",
   "execution_count": 0,
   "metadata": {},
   "outputs": [],
   "source": [
    "# Part 2: Simple Linear Regression\n",
    "\n",
    "From both the $r$ value and the scatter plot above, you found that **area** and **price** have significant **linear correlation**. \n",
    "\n",
    "In lecture, we learned that **linear regression** allows us to predict values based on a \"line of best fit\". The equation for simple linear regression is:\n",
    "\n",
    "$$y = (\\text{slope}) * X + \\text{intercept}$$\n",
    "\n",
    "For this portion of the lab, we will be using **linear regression** to explore the relationship between **area** (in square feet) and **price** (in dollars) of housing properties in our `df`. \n",
    "\n",
    "We can apply formulas we have learned in lecture alongside Python to create a **linear regression model** to predict **housing price** ($y$) given **area** ($X$)."
   ]
  },
  {
   "attachments": {},
   "cell_type": "markdown",
   "execution_count": 0,
   "metadata": {},
   "outputs": [],
   "source": [
    "## Puzzle 2.1: Calculating Slope of the Regression Line\n",
    "In lecture, you learned how to **calculate the slope** of the regression line given your $X$ and $y$ columns of data. The formula is as follows:\n",
    "\n",
    "$$\\text{slope} = r * \\frac{SD(y)}{SD(x)}$$\n",
    "\n",
    "Where $r$ is the correlation coefficient between $X$ and $y$, and $SD$ stands for standard deviation. \n",
    "\n",
    "With this, find the slope of the regression line where the dependent variable ($y$) is `price` and the independent variable ($X$) is `area`, storing your answer in the **numeric variable** `slope` below:\n",
    "\n",
    "*Hint: to select a single cell value from a DataFrame, you can use the `.loc` or `.iloc` functions. Take a look at our guide on the functions to learn how to use them: https://discovery.cs.illinois.edu/guides/DataFrame-Fundamentals/dataframe-loc-vs-iloc/. There are also several other ways of selecting a cell value beside this.* "
   ]
  },
  {
   "cell_type": "code",
   "execution_count": 0,
   "metadata": {},
   "outputs": [],
   "source": [
    "slope = ...\n",
    "slope"
   ]
  },
  {
   "attachments": {},
   "cell_type": "markdown",
   "execution_count": 0,
   "metadata": {},
   "outputs": [],
   "source": [
    "**Q2: How do you interpret your slope?  What does it mean in terms of the actual units in this problem: `area` (square feet) and `price` (dollars)?**"
   ]
  },
  {
   "cell_type": "markdown",
   "execution_count": 0,
   "metadata": {},
   "outputs": [],
   "source": [
    "*(✏️ Edit this cell to replace this text with your answer. ✏️)*"
   ]
  },
  {
   "attachments": {},
   "cell_type": "markdown",
   "execution_count": 0,
   "metadata": {},
   "outputs": [],
   "source": [
    "## Puzzle 2.2: Calculating Intercept of the Regression Line\n",
    "You also learned how to calculate the **y-intercept** of the regression line in lecture. The formula is as follows:\n",
    "\n",
    "$$\\text{intercept} = \\text{avg}(y) - \\text{slope} * \\text{avg}(X)$$\n",
    "\n",
    "Find the **y-intercept** of the regression line between `price` ($y$) and `area` ($X$), storing your result in the numeric variable `intercept` below: "
   ]
  },
  {
   "cell_type": "code",
   "execution_count": 0,
   "metadata": {},
   "outputs": [],
   "source": [
    "intercept = ... \n",
    "intercept"
   ]
  },
  {
   "attachments": {},
   "cell_type": "markdown",
   "execution_count": 0,
   "metadata": {},
   "outputs": [],
   "source": [
    "**Q3: How do you interpret your intercept?  What does it mean in terms of the actual units in this problem: `area` (square feet) and `price` (dollars)?  Does it even make sense in the context of this problem?**"
   ]
  },
  {
   "cell_type": "markdown",
   "execution_count": 0,
   "metadata": {},
   "outputs": [],
   "source": [
    "*(✏️ Edit this cell to replace this text with your answer. ✏️)*"
   ]
  },
  {
   "cell_type": "markdown",
   "execution_count": 0,
   "metadata": {},
   "outputs": [],
   "source": [
    "### 🔬 Test Case Checkpoint 🔬"
   ]
  },
  {
   "cell_type": "code",
   "execution_count": 0,
   "metadata": {},
   "outputs": [],
   "source": [
    "## == TEST CASES for Puzzle 2.1, 2.2 ==\n",
    "# - This read-only cell contains test cases for your previous cell.\n",
    "# - If this cell runs without any error our output, you PASSED all test cases!\n",
    "# - If this cell results in any errors,/ check you previous cell, make changes, and RE-RUN your code and then this cell.\n",
    "from math import isclose\n",
    "assert( isclose(slope, 461.9748942727831) ), \"The slope doesn't seem correct.\"\n",
    "assert( isclose(intercept, 2387308.4823964317) ), \"The intercept doesn't seem correct.\"\n",
    "\n",
    "## == SUCCESS MESSAGE ==\n",
    "# You will only see this message (with the emoji showing) if you passed all test cases:\n",
    "tada = \"\\N{PARTY POPPER}\"\n",
    "print(f\"{tada} All tests passed! {tada}\")"
   ]
  },
  {
   "attachments": {},
   "cell_type": "markdown",
   "execution_count": 0,
   "metadata": {},
   "outputs": [],
   "source": [
    "### Visualizing Your Work: Seaborn \n",
    "Now that you have calculated the **slope** and **y-intercept** of your regression line, let's **visualize** it. Run the following code that uses the `seaborn` library to **plot a regression line** on top of a scatter plot of between `area` and `price` - your regression line will be **red**. \n",
    "\n",
    "*(See the cell below this Python code if you get an error and need to install seaborn!*)"
   ]
  },
  {
   "cell_type": "code",
   "execution_count": 0,
   "metadata": {},
   "outputs": [],
   "source": [
    "# Run the following code to see the regression line you made!!! :)\n",
    "import seaborn as sns\n",
    "\n",
    "# Create scatter plot with regression line:\n",
    "sns.regplot(data=df, x=\"area\", y=\"price\", ci=None, line_kws={'color':'red'})"
   ]
  },
  {
   "attachments": {},
   "cell_type": "markdown",
   "execution_count": 0,
   "metadata": {},
   "outputs": [],
   "source": [
    "If you **do not** have the `seaborn` library installed, try running any one of following commands in your **terminal** until successful installation:\n",
    "- `python3 -m pip install seaborn`\n",
    "- `py -m pip install seaborn`\n",
    "- `pip install seaborn`\n",
    "- `pip3 install seaborn`\n",
    "\n",
    "If you are still having import errors trying these commands, **let your lab CAs and TAs know**! They will help you through the installation process. "
   ]
  },
  {
   "attachments": {},
   "cell_type": "markdown",
   "execution_count": 0,
   "metadata": {},
   "outputs": [],
   "source": [
    "### Analysis: Regression Plot\n",
    "\n",
    "**Q4: Based on the regression line plotted above, would you say it is a \"great model\", \"okay model\", or \"terrible model\" for predicting the housing price? Explain why.**"
   ]
  },
  {
   "cell_type": "markdown",
   "execution_count": 0,
   "metadata": {},
   "outputs": [],
   "source": [
    "*(✏️ Edit this cell to replace this text with your answer. ✏️)*"
   ]
  },
  {
   "cell_type": "markdown",
   "execution_count": 0,
   "metadata": {},
   "outputs": [],
   "source": [
    "**Q5: For what range of `area` would you be confident predicting price given this model? Explain why.**"
   ]
  },
  {
   "cell_type": "markdown",
   "execution_count": 0,
   "metadata": {},
   "outputs": [],
   "source": [
    "*(✏️ Edit this cell to replace this text with your answer. ✏️)*"
   ]
  },
  {
   "cell_type": "markdown",
   "execution_count": 0,
   "metadata": {},
   "outputs": [],
   "source": [
    "<hr style=\"color: #DD3403;\">"
   ]
  },
  {
   "attachments": {},
   "cell_type": "markdown",
   "execution_count": 0,
   "metadata": {},
   "outputs": [],
   "source": [
    "# Part 3: Simple Linear Regression with Python\n",
    "Up until this point of the lab, you have calculated a **simple linear regression model** using your knowledge from **lecture** and **algebra**, but let's take it **one step further and do it with Python**.  We will use Python's `sklearn` library to create a **simple linear regression model** to predict `price` for a given `area`."
   ]
  },
  {
   "attachments": {},
   "cell_type": "markdown",
   "execution_count": 0,
   "metadata": {},
   "outputs": [],
   "source": [
    "## Puzzle 3.1: Build a Linear Regression Model\n",
    "\n",
    "Create a list named `ind` that contains your independent variable as a string and then create a variable named `dep` that stores your dependent variable as a string:"
   ]
  },
  {
   "cell_type": "code",
   "execution_count": 0,
   "metadata": {},
   "outputs": [],
   "source": [
    "ind = [...]\n",
    "dep = ..."
   ]
  },
  {
   "cell_type": "markdown",
   "execution_count": 0,
   "metadata": {},
   "outputs": [],
   "source": [
    "### 🔬 Test Case Checkpoint 🔬"
   ]
  },
  {
   "cell_type": "code",
   "execution_count": 0,
   "metadata": {},
   "outputs": [],
   "source": [
    "## == TEST CASES for Puzzle 3.1 ==\n",
    "# - This read-only cell contains test cases for your previous cell.\n",
    "# - If this cell runs without any error our output, you PASSED all test cases!\n",
    "# - If this cell results in any errors, check you previous cell, make changes, and RE-RUN your code and then this cell.\n",
    "assert( 'ind' in vars() and 'dep' in vars() )\n",
    "\n",
    "assert( dep not in ind ), \"Your dependent variable must NOT be an independent variable.\"\n",
    "assert( dep in df ), f\"{dep} (`dep`) must be a column in df.\"\n",
    "\n",
    "assert( len(ind) == 1 ), \"There should be one independent variables.\"\n",
    "for var in ind:\n",
    "  assert( var in df ), f\"{var} (in `independent_variables`) must be a column in df.\"\n",
    "\n",
    "## == SUCCESS MESSAGE ==\n",
    "# You will only see this message (with the emoji showing) if you passed all test cases:\n",
    "tada = \"\\N{PARTY POPPER}\"\n",
    "print(f\"{tada} All tests passed! {tada}\")"
   ]
  },
  {
   "attachments": {},
   "cell_type": "markdown",
   "execution_count": 0,
   "metadata": {},
   "outputs": [],
   "source": [
    "## Part 3.2: Running and Evaluating a Model\n",
    "\n",
    "Create a linear regression model:"
   ]
  },
  {
   "cell_type": "code",
   "execution_count": 0,
   "metadata": {},
   "outputs": [],
   "source": [
    "from sklearn.linear_model import LinearRegression\n",
    "model = LinearRegression()\n",
    "\n",
    "# Train (fit) the model with your data:\n",
    "..."
   ]
  },
  {
   "cell_type": "markdown",
   "execution_count": 0,
   "metadata": {},
   "outputs": [],
   "source": [
    "## Part 3.3: Predict the Price of a 2,000 sq. ft House\n",
    "\n",
    "Finally, predict the price of a 2,000 square foot house:"
   ]
  },
  {
   "cell_type": "code",
   "execution_count": 0,
   "metadata": {},
   "outputs": [],
   "source": [
    "..."
   ]
  },
  {
   "attachments": {},
   "cell_type": "markdown",
   "execution_count": 0,
   "metadata": {},
   "outputs": [],
   "source": [
    "### Reflection: House Price\n",
    "\n",
    "**Q6: What is the predicted price of your 2,000 sq. ft house?  Does this match your scatter plot?** (There is no test case for this result, so make sure it makes sense in the context of this data!)"
   ]
  },
  {
   "cell_type": "markdown",
   "execution_count": 0,
   "metadata": {},
   "outputs": [],
   "source": [
    "*(✏️ Edit this cell to replace this text with your answer. ✏️)*"
   ]
  },
  {
   "cell_type": "markdown",
   "execution_count": 0,
   "metadata": {},
   "outputs": [],
   "source": [
    "<hr style=\"color: #DD3403;\">"
   ]
  },
  {
   "cell_type": "markdown",
   "execution_count": 0,
   "metadata": {},
   "outputs": [],
   "source": [
    "# Submission\n",
    "\n",
    "You're almost done!  All you need to do is to commit your lab to GitHub:\n",
    "\n",
    "1.  ⚠️ **Make certain to save your work.** ⚠️ To do this, go to **File => Save All**\n",
    "\n",
    "2.  After you have saved, exit this notebook and follow the Canvas instructions to commit this lab to your Git repository!\n",
    "\n",
    "3. Your TA will grade your submission and provide you feedback after the lab is due. :)"
   ]
  }
 ],
 "metadata": {
  "kernelspec": {
   "display_name": "Python 3",
   "language": "python",
   "name": "python3"
  },
  "language_info": {
   "codemirror_mode": {
    "name": "ipython",
    "version": 3
   },
   "file_extension": ".py",
   "mimetype": "text/x-python",
   "name": "python",
   "nbconvert_exporter": "python",
   "pygments_lexer": "ipython3",
   "version": "3.11.3"
  }
 },
 "nbformat": 4,
 "nbformat_minor": 2
}
