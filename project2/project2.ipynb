{
 "cells": [
  {
   "cell_type": "markdown",
   "metadata": {},
   "source": [
    "# Part I"
   ]
  },
  {
   "cell_type": "markdown",
   "metadata": {},
   "source": [
    "# Section 1: Dataset\n",
    "\n",
    "For this analysis, I have selected the \"Foreign Students by Country\" dataset from the UIUC Division of Management Information (DMI) Student Enrollment Data. As an international student at UIUC, I am particularly interested in exploring the number of international students at our university, which is known for its diverse student body. This dataset will provide insights into the distribution of international students from different countries, as well as their proportions within the overall student population.\n",
    "\n",
    "The data, which I obtained from the most recent 2024 UIUC DMI Student Enrollment Data, can be found at the following link: [UIUC DMI Student Enrollment Data](https://www.dmi.illinois.edu/stuenr/). By analyzing this dataset, I aim to gain a more concrete and intuitive understanding of the international student community at UIUC and better appreciate the diversity that our university fosters.\n",
    "\n",
    "This dataset serves as an important tool for me to examine the demographics of international students at UIUC, and it offers a fascinating opportunity to analyze trends and proportions across different countries.\n"
   ]
  },
  {
   "cell_type": "code",
   "execution_count": 3,
   "metadata": {},
   "outputs": [
    {
     "data": {
      "text/html": [
       "<div>\n",
       "<style scoped>\n",
       "    .dataframe tbody tr th:only-of-type {\n",
       "        vertical-align: middle;\n",
       "    }\n",
       "\n",
       "    .dataframe tbody tr th {\n",
       "        vertical-align: top;\n",
       "    }\n",
       "\n",
       "    .dataframe thead th {\n",
       "        text-align: right;\n",
       "    }\n",
       "</style>\n",
       "<table border=\"1\" class=\"dataframe\">\n",
       "  <thead>\n",
       "    <tr style=\"text-align: right;\">\n",
       "      <th></th>\n",
       "      <th>UIUC International Students by Country and Gender</th>\n",
       "      <th>Unnamed: 1</th>\n",
       "      <th>Unnamed: 2</th>\n",
       "      <th>Unnamed: 3</th>\n",
       "      <th>Unnamed: 4</th>\n",
       "      <th>Unnamed: 5</th>\n",
       "      <th>Unnamed: 6</th>\n",
       "      <th>Unnamed: 7</th>\n",
       "      <th>Unnamed: 8</th>\n",
       "      <th>Unnamed: 9</th>\n",
       "      <th>...</th>\n",
       "      <th>Unnamed: 11</th>\n",
       "      <th>Unnamed: 12</th>\n",
       "      <th>Unnamed: 13</th>\n",
       "      <th>Unnamed: 14</th>\n",
       "      <th>Unnamed: 15</th>\n",
       "      <th>Unnamed: 16</th>\n",
       "      <th>Unnamed: 17</th>\n",
       "      <th>Unnamed: 18</th>\n",
       "      <th>Unnamed: 19</th>\n",
       "      <th>Unnamed: 20</th>\n",
       "    </tr>\n",
       "  </thead>\n",
       "  <tbody>\n",
       "    <tr>\n",
       "      <th>0</th>\n",
       "      <td>Fall 2024</td>\n",
       "      <td>NaN</td>\n",
       "      <td>NaN</td>\n",
       "      <td>NaN</td>\n",
       "      <td>NaN</td>\n",
       "      <td>NaN</td>\n",
       "      <td>NaN</td>\n",
       "      <td>NaN</td>\n",
       "      <td>PUBLICATION DATE: September 10, 2024</td>\n",
       "      <td>NaN</td>\n",
       "      <td>...</td>\n",
       "      <td>NaN</td>\n",
       "      <td>NaN</td>\n",
       "      <td>NaN</td>\n",
       "      <td>NaN</td>\n",
       "      <td>NaN</td>\n",
       "      <td>NaN</td>\n",
       "      <td>NaN</td>\n",
       "      <td>NaN</td>\n",
       "      <td>NaN</td>\n",
       "      <td>NaN</td>\n",
       "    </tr>\n",
       "    <tr>\n",
       "      <th>1</th>\n",
       "      <td>Division of Management Information</td>\n",
       "      <td>NaN</td>\n",
       "      <td>NaN</td>\n",
       "      <td>*** This report is based on the SEVIS file of ...</td>\n",
       "      <td>NaN</td>\n",
       "      <td>NaN</td>\n",
       "      <td>NaN</td>\n",
       "      <td>NaN</td>\n",
       "      <td>NaN</td>\n",
       "      <td>NaN</td>\n",
       "      <td>...</td>\n",
       "      <td>NaN</td>\n",
       "      <td>NaN</td>\n",
       "      <td>NaN</td>\n",
       "      <td>NaN</td>\n",
       "      <td>NaN</td>\n",
       "      <td>NaN</td>\n",
       "      <td>NaN</td>\n",
       "      <td>NaN</td>\n",
       "      <td>NaN</td>\n",
       "      <td>NaN</td>\n",
       "    </tr>\n",
       "    <tr>\n",
       "      <th>2</th>\n",
       "      <td>NaN</td>\n",
       "      <td>NaN</td>\n",
       "      <td>NaN</td>\n",
       "      <td>NaN</td>\n",
       "      <td>NaN</td>\n",
       "      <td>NaN</td>\n",
       "      <td>NaN</td>\n",
       "      <td>NaN</td>\n",
       "      <td>NaN</td>\n",
       "      <td>NaN</td>\n",
       "      <td>...</td>\n",
       "      <td>NaN</td>\n",
       "      <td>NaN</td>\n",
       "      <td>NaN</td>\n",
       "      <td>NaN</td>\n",
       "      <td>NaN</td>\n",
       "      <td>NaN</td>\n",
       "      <td>NaN</td>\n",
       "      <td>NaN</td>\n",
       "      <td>NaN</td>\n",
       "      <td>NaN</td>\n",
       "    </tr>\n",
       "    <tr>\n",
       "      <th>3</th>\n",
       "      <td>COUNTRY</td>\n",
       "      <td>UNDERGRADUATE</td>\n",
       "      <td>NaN</td>\n",
       "      <td>NaN</td>\n",
       "      <td>GRADUATE</td>\n",
       "      <td>NaN</td>\n",
       "      <td>NaN</td>\n",
       "      <td>PROFESSIONAL</td>\n",
       "      <td>NaN</td>\n",
       "      <td>NaN</td>\n",
       "      <td>...</td>\n",
       "      <td>NaN</td>\n",
       "      <td>NaN</td>\n",
       "      <td>NaN</td>\n",
       "      <td>NaN</td>\n",
       "      <td>NaN</td>\n",
       "      <td>NaN</td>\n",
       "      <td>NaN</td>\n",
       "      <td>NaN</td>\n",
       "      <td>NaN</td>\n",
       "      <td>NaN</td>\n",
       "    </tr>\n",
       "    <tr>\n",
       "      <th>4</th>\n",
       "      <td>NaN</td>\n",
       "      <td>F</td>\n",
       "      <td>M</td>\n",
       "      <td>UNK</td>\n",
       "      <td>F</td>\n",
       "      <td>M</td>\n",
       "      <td>UNK</td>\n",
       "      <td>F</td>\n",
       "      <td>M</td>\n",
       "      <td>UNK</td>\n",
       "      <td>...</td>\n",
       "      <td>NaN</td>\n",
       "      <td>NaN</td>\n",
       "      <td>NaN</td>\n",
       "      <td>NaN</td>\n",
       "      <td>NaN</td>\n",
       "      <td>NaN</td>\n",
       "      <td>NaN</td>\n",
       "      <td>NaN</td>\n",
       "      <td>NaN</td>\n",
       "      <td>NaN</td>\n",
       "    </tr>\n",
       "    <tr>\n",
       "      <th>...</th>\n",
       "      <td>...</td>\n",
       "      <td>...</td>\n",
       "      <td>...</td>\n",
       "      <td>...</td>\n",
       "      <td>...</td>\n",
       "      <td>...</td>\n",
       "      <td>...</td>\n",
       "      <td>...</td>\n",
       "      <td>...</td>\n",
       "      <td>...</td>\n",
       "      <td>...</td>\n",
       "      <td>...</td>\n",
       "      <td>...</td>\n",
       "      <td>...</td>\n",
       "      <td>...</td>\n",
       "      <td>...</td>\n",
       "      <td>...</td>\n",
       "      <td>...</td>\n",
       "      <td>...</td>\n",
       "      <td>...</td>\n",
       "      <td>...</td>\n",
       "    </tr>\n",
       "    <tr>\n",
       "      <th>132</th>\n",
       "      <td>Vietnam</td>\n",
       "      <td>18</td>\n",
       "      <td>33</td>\n",
       "      <td>0</td>\n",
       "      <td>17</td>\n",
       "      <td>36</td>\n",
       "      <td>0</td>\n",
       "      <td>1</td>\n",
       "      <td>0</td>\n",
       "      <td>0</td>\n",
       "      <td>...</td>\n",
       "      <td>NaN</td>\n",
       "      <td>NaN</td>\n",
       "      <td>NaN</td>\n",
       "      <td>NaN</td>\n",
       "      <td>NaN</td>\n",
       "      <td>NaN</td>\n",
       "      <td>NaN</td>\n",
       "      <td>NaN</td>\n",
       "      <td>NaN</td>\n",
       "      <td>NaN</td>\n",
       "    </tr>\n",
       "    <tr>\n",
       "      <th>133</th>\n",
       "      <td>Zambia</td>\n",
       "      <td>0</td>\n",
       "      <td>0</td>\n",
       "      <td>0</td>\n",
       "      <td>1</td>\n",
       "      <td>3</td>\n",
       "      <td>0</td>\n",
       "      <td>0</td>\n",
       "      <td>0</td>\n",
       "      <td>0</td>\n",
       "      <td>...</td>\n",
       "      <td>NaN</td>\n",
       "      <td>NaN</td>\n",
       "      <td>NaN</td>\n",
       "      <td>NaN</td>\n",
       "      <td>NaN</td>\n",
       "      <td>NaN</td>\n",
       "      <td>NaN</td>\n",
       "      <td>NaN</td>\n",
       "      <td>NaN</td>\n",
       "      <td>NaN</td>\n",
       "    </tr>\n",
       "    <tr>\n",
       "      <th>134</th>\n",
       "      <td>Zimbabwe</td>\n",
       "      <td>0</td>\n",
       "      <td>1</td>\n",
       "      <td>0</td>\n",
       "      <td>4</td>\n",
       "      <td>2</td>\n",
       "      <td>0</td>\n",
       "      <td>0</td>\n",
       "      <td>0</td>\n",
       "      <td>0</td>\n",
       "      <td>...</td>\n",
       "      <td>NaN</td>\n",
       "      <td>NaN</td>\n",
       "      <td>NaN</td>\n",
       "      <td>NaN</td>\n",
       "      <td>NaN</td>\n",
       "      <td>NaN</td>\n",
       "      <td>NaN</td>\n",
       "      <td>NaN</td>\n",
       "      <td>NaN</td>\n",
       "      <td>NaN</td>\n",
       "    </tr>\n",
       "    <tr>\n",
       "      <th>135</th>\n",
       "      <td>Unknown</td>\n",
       "      <td>9</td>\n",
       "      <td>9</td>\n",
       "      <td>0</td>\n",
       "      <td>10</td>\n",
       "      <td>21</td>\n",
       "      <td>0</td>\n",
       "      <td>0</td>\n",
       "      <td>0</td>\n",
       "      <td>0</td>\n",
       "      <td>...</td>\n",
       "      <td>NaN</td>\n",
       "      <td>NaN</td>\n",
       "      <td>NaN</td>\n",
       "      <td>NaN</td>\n",
       "      <td>NaN</td>\n",
       "      <td>NaN</td>\n",
       "      <td>NaN</td>\n",
       "      <td>NaN</td>\n",
       "      <td>NaN</td>\n",
       "      <td>NaN</td>\n",
       "    </tr>\n",
       "    <tr>\n",
       "      <th>136</th>\n",
       "      <td>All</td>\n",
       "      <td>1822</td>\n",
       "      <td>3711</td>\n",
       "      <td>0</td>\n",
       "      <td>2964</td>\n",
       "      <td>4759</td>\n",
       "      <td>13</td>\n",
       "      <td>46</td>\n",
       "      <td>34</td>\n",
       "      <td>1</td>\n",
       "      <td>...</td>\n",
       "      <td>NaN</td>\n",
       "      <td>NaN</td>\n",
       "      <td>NaN</td>\n",
       "      <td>NaN</td>\n",
       "      <td>NaN</td>\n",
       "      <td>NaN</td>\n",
       "      <td>NaN</td>\n",
       "      <td>NaN</td>\n",
       "      <td>NaN</td>\n",
       "      <td>NaN</td>\n",
       "    </tr>\n",
       "  </tbody>\n",
       "</table>\n",
       "<p>137 rows × 21 columns</p>\n",
       "</div>"
      ],
      "text/plain": [
       "    UIUC International Students by Country and Gender     Unnamed: 1  \\\n",
       "0                                           Fall 2024            NaN   \n",
       "1                  Division of Management Information            NaN   \n",
       "2                                                 NaN            NaN   \n",
       "3                                             COUNTRY  UNDERGRADUATE   \n",
       "4                                                 NaN              F   \n",
       "..                                                ...            ...   \n",
       "132                                          Vietnam              18   \n",
       "133                                           Zambia               0   \n",
       "134                                         Zimbabwe               0   \n",
       "135                                          Unknown               9   \n",
       "136                                              All            1822   \n",
       "\n",
       "    Unnamed: 2                                         Unnamed: 3 Unnamed: 4  \\\n",
       "0          NaN                                                NaN        NaN   \n",
       "1          NaN  *** This report is based on the SEVIS file of ...        NaN   \n",
       "2          NaN                                                NaN        NaN   \n",
       "3          NaN                                                NaN   GRADUATE   \n",
       "4            M                                                UNK          F   \n",
       "..         ...                                                ...        ...   \n",
       "132         33                                                  0         17   \n",
       "133          0                                                  0          1   \n",
       "134          1                                                  0          4   \n",
       "135          9                                                  0         10   \n",
       "136       3711                                                  0       2964   \n",
       "\n",
       "    Unnamed: 5 Unnamed: 6    Unnamed: 7                            Unnamed: 8  \\\n",
       "0          NaN        NaN           NaN  PUBLICATION DATE: September 10, 2024   \n",
       "1          NaN        NaN           NaN                                   NaN   \n",
       "2          NaN        NaN           NaN                                   NaN   \n",
       "3          NaN        NaN  PROFESSIONAL                                   NaN   \n",
       "4            M        UNK             F                                     M   \n",
       "..         ...        ...           ...                                   ...   \n",
       "132         36          0             1                                     0   \n",
       "133          3          0             0                                     0   \n",
       "134          2          0             0                                     0   \n",
       "135         21          0             0                                     0   \n",
       "136       4759         13            46                                    34   \n",
       "\n",
       "    Unnamed: 9  ... Unnamed: 11  Unnamed: 12  Unnamed: 13  Unnamed: 14  \\\n",
       "0          NaN  ...         NaN          NaN          NaN          NaN   \n",
       "1          NaN  ...         NaN          NaN          NaN          NaN   \n",
       "2          NaN  ...         NaN          NaN          NaN          NaN   \n",
       "3          NaN  ...         NaN          NaN          NaN          NaN   \n",
       "4          UNK  ...         NaN          NaN          NaN          NaN   \n",
       "..         ...  ...         ...          ...          ...          ...   \n",
       "132          0  ...         NaN          NaN          NaN          NaN   \n",
       "133          0  ...         NaN          NaN          NaN          NaN   \n",
       "134          0  ...         NaN          NaN          NaN          NaN   \n",
       "135          0  ...         NaN          NaN          NaN          NaN   \n",
       "136          1  ...         NaN          NaN          NaN          NaN   \n",
       "\n",
       "     Unnamed: 15  Unnamed: 16  Unnamed: 17  Unnamed: 18  Unnamed: 19  \\\n",
       "0            NaN          NaN          NaN          NaN          NaN   \n",
       "1            NaN          NaN          NaN          NaN          NaN   \n",
       "2            NaN          NaN          NaN          NaN          NaN   \n",
       "3            NaN          NaN          NaN          NaN          NaN   \n",
       "4            NaN          NaN          NaN          NaN          NaN   \n",
       "..           ...          ...          ...          ...          ...   \n",
       "132          NaN          NaN          NaN          NaN          NaN   \n",
       "133          NaN          NaN          NaN          NaN          NaN   \n",
       "134          NaN          NaN          NaN          NaN          NaN   \n",
       "135          NaN          NaN          NaN          NaN          NaN   \n",
       "136          NaN          NaN          NaN          NaN          NaN   \n",
       "\n",
       "     Unnamed: 20  \n",
       "0            NaN  \n",
       "1            NaN  \n",
       "2            NaN  \n",
       "3            NaN  \n",
       "4            NaN  \n",
       "..           ...  \n",
       "132          NaN  \n",
       "133          NaN  \n",
       "134          NaN  \n",
       "135          NaN  \n",
       "136          NaN  \n",
       "\n",
       "[137 rows x 21 columns]"
      ]
     },
     "execution_count": 3,
     "metadata": {},
     "output_type": "execute_result"
    }
   ],
   "source": [
    "import pandas as pd\n",
    "df = pd.read_csv(\"countryfa24.csv\")\n",
    "df"
   ]
  },
  {
   "cell_type": "code",
   "execution_count": 4,
   "metadata": {},
   "outputs": [
    {
     "data": {
      "text/plain": [
       "Index(['UIUC International Students by Country and Gender', 'Unnamed: 1',\n",
       "       'Unnamed: 2', 'Unnamed: 3', 'Unnamed: 4', 'Unnamed: 5', 'Unnamed: 6',\n",
       "       'Unnamed: 7', 'Unnamed: 8', 'Unnamed: 9', 'Unnamed: 10', 'Unnamed: 11',\n",
       "       'Unnamed: 12', 'Unnamed: 13', 'Unnamed: 14', 'Unnamed: 15',\n",
       "       'Unnamed: 16', 'Unnamed: 17', 'Unnamed: 18', 'Unnamed: 19',\n",
       "       'Unnamed: 20'],\n",
       "      dtype='object')"
      ]
     },
     "execution_count": 4,
     "metadata": {},
     "output_type": "execute_result"
    }
   ],
   "source": [
    "df.columns"
   ]
  },
  {
   "cell_type": "markdown",
   "metadata": {},
   "source": [
    "Here we can see that the asymmetry of excel table format will cause some problems in the columns of the generated data. In order to solve this problem, I deleted 1-3 lines from the original excel table and generated a new cvs, which was imported again"
   ]
  },
  {
   "cell_type": "code",
   "execution_count": 54,
   "metadata": {},
   "outputs": [
    {
     "data": {
      "text/html": [
       "<div>\n",
       "<style scoped>\n",
       "    .dataframe tbody tr th:only-of-type {\n",
       "        vertical-align: middle;\n",
       "    }\n",
       "\n",
       "    .dataframe tbody tr th {\n",
       "        vertical-align: top;\n",
       "    }\n",
       "\n",
       "    .dataframe thead th {\n",
       "        text-align: right;\n",
       "    }\n",
       "</style>\n",
       "<table border=\"1\" class=\"dataframe\">\n",
       "  <thead>\n",
       "    <tr style=\"text-align: right;\">\n",
       "      <th></th>\n",
       "      <th>COUNTRY</th>\n",
       "      <th>Undergraduate Female</th>\n",
       "      <th>Undergraduate Male</th>\n",
       "      <th>Undergraduate Unknown</th>\n",
       "      <th>Graduate Female</th>\n",
       "      <th>Graduate Male</th>\n",
       "      <th>Graduate Unknown</th>\n",
       "      <th>Professional Female</th>\n",
       "      <th>Professional Male</th>\n",
       "      <th>Professional Unknown</th>\n",
       "      <th>ALL</th>\n",
       "    </tr>\n",
       "  </thead>\n",
       "  <tbody>\n",
       "    <tr>\n",
       "      <th>0</th>\n",
       "      <td>Afghanistan</td>\n",
       "      <td>0</td>\n",
       "      <td>0</td>\n",
       "      <td>0</td>\n",
       "      <td>3</td>\n",
       "      <td>2</td>\n",
       "      <td>0</td>\n",
       "      <td>0</td>\n",
       "      <td>0</td>\n",
       "      <td>0</td>\n",
       "      <td>5</td>\n",
       "    </tr>\n",
       "    <tr>\n",
       "      <th>1</th>\n",
       "      <td>Albania</td>\n",
       "      <td>1</td>\n",
       "      <td>0</td>\n",
       "      <td>0</td>\n",
       "      <td>0</td>\n",
       "      <td>3</td>\n",
       "      <td>0</td>\n",
       "      <td>0</td>\n",
       "      <td>0</td>\n",
       "      <td>0</td>\n",
       "      <td>4</td>\n",
       "    </tr>\n",
       "    <tr>\n",
       "      <th>2</th>\n",
       "      <td>Argentina</td>\n",
       "      <td>0</td>\n",
       "      <td>1</td>\n",
       "      <td>0</td>\n",
       "      <td>9</td>\n",
       "      <td>6</td>\n",
       "      <td>0</td>\n",
       "      <td>0</td>\n",
       "      <td>0</td>\n",
       "      <td>0</td>\n",
       "      <td>16</td>\n",
       "    </tr>\n",
       "    <tr>\n",
       "      <th>3</th>\n",
       "      <td>Armenia</td>\n",
       "      <td>0</td>\n",
       "      <td>1</td>\n",
       "      <td>0</td>\n",
       "      <td>2</td>\n",
       "      <td>1</td>\n",
       "      <td>0</td>\n",
       "      <td>0</td>\n",
       "      <td>0</td>\n",
       "      <td>0</td>\n",
       "      <td>4</td>\n",
       "    </tr>\n",
       "    <tr>\n",
       "      <th>4</th>\n",
       "      <td>Australia</td>\n",
       "      <td>4</td>\n",
       "      <td>13</td>\n",
       "      <td>0</td>\n",
       "      <td>2</td>\n",
       "      <td>6</td>\n",
       "      <td>0</td>\n",
       "      <td>0</td>\n",
       "      <td>0</td>\n",
       "      <td>0</td>\n",
       "      <td>25</td>\n",
       "    </tr>\n",
       "    <tr>\n",
       "      <th>...</th>\n",
       "      <td>...</td>\n",
       "      <td>...</td>\n",
       "      <td>...</td>\n",
       "      <td>...</td>\n",
       "      <td>...</td>\n",
       "      <td>...</td>\n",
       "      <td>...</td>\n",
       "      <td>...</td>\n",
       "      <td>...</td>\n",
       "      <td>...</td>\n",
       "      <td>...</td>\n",
       "    </tr>\n",
       "    <tr>\n",
       "      <th>126</th>\n",
       "      <td>Vietnam</td>\n",
       "      <td>18</td>\n",
       "      <td>33</td>\n",
       "      <td>0</td>\n",
       "      <td>17</td>\n",
       "      <td>36</td>\n",
       "      <td>0</td>\n",
       "      <td>1</td>\n",
       "      <td>0</td>\n",
       "      <td>0</td>\n",
       "      <td>105</td>\n",
       "    </tr>\n",
       "    <tr>\n",
       "      <th>127</th>\n",
       "      <td>Zambia</td>\n",
       "      <td>0</td>\n",
       "      <td>0</td>\n",
       "      <td>0</td>\n",
       "      <td>1</td>\n",
       "      <td>3</td>\n",
       "      <td>0</td>\n",
       "      <td>0</td>\n",
       "      <td>0</td>\n",
       "      <td>0</td>\n",
       "      <td>4</td>\n",
       "    </tr>\n",
       "    <tr>\n",
       "      <th>128</th>\n",
       "      <td>Zimbabwe</td>\n",
       "      <td>0</td>\n",
       "      <td>1</td>\n",
       "      <td>0</td>\n",
       "      <td>4</td>\n",
       "      <td>2</td>\n",
       "      <td>0</td>\n",
       "      <td>0</td>\n",
       "      <td>0</td>\n",
       "      <td>0</td>\n",
       "      <td>7</td>\n",
       "    </tr>\n",
       "    <tr>\n",
       "      <th>129</th>\n",
       "      <td>Unknown</td>\n",
       "      <td>9</td>\n",
       "      <td>9</td>\n",
       "      <td>0</td>\n",
       "      <td>10</td>\n",
       "      <td>21</td>\n",
       "      <td>0</td>\n",
       "      <td>0</td>\n",
       "      <td>0</td>\n",
       "      <td>0</td>\n",
       "      <td>49</td>\n",
       "    </tr>\n",
       "    <tr>\n",
       "      <th>130</th>\n",
       "      <td>All</td>\n",
       "      <td>1822</td>\n",
       "      <td>3711</td>\n",
       "      <td>0</td>\n",
       "      <td>2964</td>\n",
       "      <td>4759</td>\n",
       "      <td>13</td>\n",
       "      <td>46</td>\n",
       "      <td>34</td>\n",
       "      <td>1</td>\n",
       "      <td>13350</td>\n",
       "    </tr>\n",
       "  </tbody>\n",
       "</table>\n",
       "<p>131 rows × 11 columns</p>\n",
       "</div>"
      ],
      "text/plain": [
       "          COUNTRY  Undergraduate Female  Undergraduate Male  \\\n",
       "0    Afghanistan                      0                   0   \n",
       "1        Albania                      1                   0   \n",
       "2      Argentina                      0                   1   \n",
       "3        Armenia                      0                   1   \n",
       "4      Australia                      4                  13   \n",
       "..            ...                   ...                 ...   \n",
       "126      Vietnam                     18                  33   \n",
       "127       Zambia                      0                   0   \n",
       "128     Zimbabwe                      0                   1   \n",
       "129      Unknown                      9                   9   \n",
       "130          All                   1822                3711   \n",
       "\n",
       "     Undergraduate Unknown  Graduate Female  Graduate Male  Graduate Unknown  \\\n",
       "0                        0                3              2                 0   \n",
       "1                        0                0              3                 0   \n",
       "2                        0                9              6                 0   \n",
       "3                        0                2              1                 0   \n",
       "4                        0                2              6                 0   \n",
       "..                     ...              ...            ...               ...   \n",
       "126                      0               17             36                 0   \n",
       "127                      0                1              3                 0   \n",
       "128                      0                4              2                 0   \n",
       "129                      0               10             21                 0   \n",
       "130                      0             2964           4759                13   \n",
       "\n",
       "     Professional Female  Professional Male  Professional Unknown    ALL  \n",
       "0                      0                  0                     0      5  \n",
       "1                      0                  0                     0      4  \n",
       "2                      0                  0                     0     16  \n",
       "3                      0                  0                     0      4  \n",
       "4                      0                  0                     0     25  \n",
       "..                   ...                ...                   ...    ...  \n",
       "126                    1                  0                     0    105  \n",
       "127                    0                  0                     0      4  \n",
       "128                    0                  0                     0      7  \n",
       "129                    0                  0                     0     49  \n",
       "130                   46                 34                     1  13350  \n",
       "\n",
       "[131 rows x 11 columns]"
      ]
     },
     "execution_count": 54,
     "metadata": {},
     "output_type": "execute_result"
    }
   ],
   "source": [
    "df = pd.read_csv(\"countryfa24 new.csv\")\n",
    "df"
   ]
  },
  {
   "cell_type": "code",
   "execution_count": 55,
   "metadata": {},
   "outputs": [
    {
     "data": {
      "text/plain": [
       "Index(['COUNTRY', 'Undergraduate Female', 'Undergraduate Male',\n",
       "       'Undergraduate Unknown', 'Graduate Female', 'Graduate Male',\n",
       "       'Graduate Unknown', 'Professional Female', 'Professional Male',\n",
       "       'Professional Unknown', 'ALL'],\n",
       "      dtype='object')"
      ]
     },
     "execution_count": 55,
     "metadata": {},
     "output_type": "execute_result"
    }
   ],
   "source": [
    "df.columns"
   ]
  },
  {
   "cell_type": "markdown",
   "metadata": {},
   "source": [
    "# Section 2: Exploratory Data Analysis\n",
    "\n",
    "In this section, the goal is to conduct an exploratory data analysis (EDA) of the international student data, with a specific focus on three countries: China, India, and South Korea. These countries are of particular interest to me, as they represent some of the largest sources of international students at UIUC.\n",
    "\n",
    "Additionally, we will identify which countries have the largest number of international students by examining the \"ALL\" column, which aggregates the total number of international students from each country. To gain a deeper understanding of the data, we will also calculate and analyze various descriptive statistics, such as measures of central tendency (mean, median) and measures of spread (standard deviation). These statistics will help provide a clearer picture of the distribution and variability of international student numbers across different countries."
   ]
  },
  {
   "cell_type": "code",
   "execution_count": 56,
   "metadata": {},
   "outputs": [
    {
     "data": {
      "text/html": [
       "<div>\n",
       "<style scoped>\n",
       "    .dataframe tbody tr th:only-of-type {\n",
       "        vertical-align: middle;\n",
       "    }\n",
       "\n",
       "    .dataframe tbody tr th {\n",
       "        vertical-align: top;\n",
       "    }\n",
       "\n",
       "    .dataframe thead th {\n",
       "        text-align: right;\n",
       "    }\n",
       "</style>\n",
       "<table border=\"1\" class=\"dataframe\">\n",
       "  <thead>\n",
       "    <tr style=\"text-align: right;\">\n",
       "      <th></th>\n",
       "      <th>COUNTRY</th>\n",
       "      <th>Undergraduate Female</th>\n",
       "      <th>Undergraduate Male</th>\n",
       "      <th>Undergraduate Unknown</th>\n",
       "      <th>Graduate Female</th>\n",
       "      <th>Graduate Male</th>\n",
       "      <th>Graduate Unknown</th>\n",
       "      <th>Professional Female</th>\n",
       "      <th>Professional Male</th>\n",
       "      <th>Professional Unknown</th>\n",
       "      <th>ALL</th>\n",
       "    </tr>\n",
       "  </thead>\n",
       "  <tbody>\n",
       "    <tr>\n",
       "      <th>23</th>\n",
       "      <td>China</td>\n",
       "      <td>1009</td>\n",
       "      <td>2043</td>\n",
       "      <td>0</td>\n",
       "      <td>1267</td>\n",
       "      <td>1882</td>\n",
       "      <td>5</td>\n",
       "      <td>10</td>\n",
       "      <td>10</td>\n",
       "      <td>0</td>\n",
       "      <td>6226</td>\n",
       "    </tr>\n",
       "  </tbody>\n",
       "</table>\n",
       "</div>"
      ],
      "text/plain": [
       "   COUNTRY  Undergraduate Female  Undergraduate Male  Undergraduate Unknown  \\\n",
       "23  China                   1009                2043                      0   \n",
       "\n",
       "    Graduate Female  Graduate Male  Graduate Unknown  Professional Female  \\\n",
       "23             1267           1882                 5                   10   \n",
       "\n",
       "    Professional Male  Professional Unknown   ALL  \n",
       "23                 10                     0  6226  "
      ]
     },
     "execution_count": 56,
     "metadata": {},
     "output_type": "execute_result"
    }
   ],
   "source": [
    "# China analysis\n",
    "china_data = df[df[\"COUNTRY\"]==\"China \"]\n",
    "china_data"
   ]
  },
  {
   "cell_type": "code",
   "execution_count": 57,
   "metadata": {},
   "outputs": [
    {
     "data": {
      "text/html": [
       "<div>\n",
       "<style scoped>\n",
       "    .dataframe tbody tr th:only-of-type {\n",
       "        vertical-align: middle;\n",
       "    }\n",
       "\n",
       "    .dataframe tbody tr th {\n",
       "        vertical-align: top;\n",
       "    }\n",
       "\n",
       "    .dataframe thead th {\n",
       "        text-align: right;\n",
       "    }\n",
       "</style>\n",
       "<table border=\"1\" class=\"dataframe\">\n",
       "  <thead>\n",
       "    <tr style=\"text-align: right;\">\n",
       "      <th></th>\n",
       "      <th>COUNTRY</th>\n",
       "      <th>Undergraduate Female</th>\n",
       "      <th>Undergraduate Male</th>\n",
       "      <th>Undergraduate Unknown</th>\n",
       "      <th>Graduate Female</th>\n",
       "      <th>Graduate Male</th>\n",
       "      <th>Graduate Unknown</th>\n",
       "      <th>Professional Female</th>\n",
       "      <th>Professional Male</th>\n",
       "      <th>Professional Unknown</th>\n",
       "      <th>ALL</th>\n",
       "    </tr>\n",
       "  </thead>\n",
       "  <tbody>\n",
       "    <tr>\n",
       "      <th>51</th>\n",
       "      <td>India</td>\n",
       "      <td>301</td>\n",
       "      <td>676</td>\n",
       "      <td>0</td>\n",
       "      <td>626</td>\n",
       "      <td>1270</td>\n",
       "      <td>2</td>\n",
       "      <td>5</td>\n",
       "      <td>2</td>\n",
       "      <td>0</td>\n",
       "      <td>2882</td>\n",
       "    </tr>\n",
       "  </tbody>\n",
       "</table>\n",
       "</div>"
      ],
      "text/plain": [
       "   COUNTRY  Undergraduate Female  Undergraduate Male  Undergraduate Unknown  \\\n",
       "51  India                    301                 676                      0   \n",
       "\n",
       "    Graduate Female  Graduate Male  Graduate Unknown  Professional Female  \\\n",
       "51              626           1270                 2                    5   \n",
       "\n",
       "    Professional Male  Professional Unknown   ALL  \n",
       "51                  2                     0  2882  "
      ]
     },
     "execution_count": 57,
     "metadata": {},
     "output_type": "execute_result"
    }
   ],
   "source": [
    "# Inida analysis\n",
    "india_data = df[df[\"COUNTRY\"]==\"India \"]\n",
    "india_data"
   ]
  },
  {
   "cell_type": "code",
   "execution_count": 58,
   "metadata": {},
   "outputs": [
    {
     "data": {
      "text/html": [
       "<div>\n",
       "<style scoped>\n",
       "    .dataframe tbody tr th:only-of-type {\n",
       "        vertical-align: middle;\n",
       "    }\n",
       "\n",
       "    .dataframe tbody tr th {\n",
       "        vertical-align: top;\n",
       "    }\n",
       "\n",
       "    .dataframe thead th {\n",
       "        text-align: right;\n",
       "    }\n",
       "</style>\n",
       "<table border=\"1\" class=\"dataframe\">\n",
       "  <thead>\n",
       "    <tr style=\"text-align: right;\">\n",
       "      <th></th>\n",
       "      <th>COUNTRY</th>\n",
       "      <th>Undergraduate Female</th>\n",
       "      <th>Undergraduate Male</th>\n",
       "      <th>Undergraduate Unknown</th>\n",
       "      <th>Graduate Female</th>\n",
       "      <th>Graduate Male</th>\n",
       "      <th>Graduate Unknown</th>\n",
       "      <th>Professional Female</th>\n",
       "      <th>Professional Male</th>\n",
       "      <th>Professional Unknown</th>\n",
       "      <th>ALL</th>\n",
       "    </tr>\n",
       "  </thead>\n",
       "  <tbody>\n",
       "    <tr>\n",
       "      <th>106</th>\n",
       "      <td>South Korea</td>\n",
       "      <td>145</td>\n",
       "      <td>253</td>\n",
       "      <td>0</td>\n",
       "      <td>208</td>\n",
       "      <td>276</td>\n",
       "      <td>0</td>\n",
       "      <td>9</td>\n",
       "      <td>8</td>\n",
       "      <td>1</td>\n",
       "      <td>900</td>\n",
       "    </tr>\n",
       "  </tbody>\n",
       "</table>\n",
       "</div>"
      ],
      "text/plain": [
       "          COUNTRY  Undergraduate Female  Undergraduate Male  \\\n",
       "106  South Korea                    145                 253   \n",
       "\n",
       "     Undergraduate Unknown  Graduate Female  Graduate Male  Graduate Unknown  \\\n",
       "106                      0              208            276                 0   \n",
       "\n",
       "     Professional Female  Professional Male  Professional Unknown  ALL  \n",
       "106                    9                  8                     1  900  "
      ]
     },
     "execution_count": 58,
     "metadata": {},
     "output_type": "execute_result"
    }
   ],
   "source": [
    "# South Korea analysis\n",
    "southkorea_data = df[df[\"COUNTRY\"]==\"South Korea \"]\n",
    "southkorea_data"
   ]
  },
  {
   "cell_type": "code",
   "execution_count": 59,
   "metadata": {},
   "outputs": [
    {
     "data": {
      "text/html": [
       "<div>\n",
       "<style scoped>\n",
       "    .dataframe tbody tr th:only-of-type {\n",
       "        vertical-align: middle;\n",
       "    }\n",
       "\n",
       "    .dataframe tbody tr th {\n",
       "        vertical-align: top;\n",
       "    }\n",
       "\n",
       "    .dataframe thead th {\n",
       "        text-align: right;\n",
       "    }\n",
       "</style>\n",
       "<table border=\"1\" class=\"dataframe\">\n",
       "  <thead>\n",
       "    <tr style=\"text-align: right;\">\n",
       "      <th></th>\n",
       "      <th>COUNTRY</th>\n",
       "      <th>ALL</th>\n",
       "    </tr>\n",
       "  </thead>\n",
       "  <tbody>\n",
       "    <tr>\n",
       "      <th>130</th>\n",
       "      <td>All</td>\n",
       "      <td>13350</td>\n",
       "    </tr>\n",
       "    <tr>\n",
       "      <th>23</th>\n",
       "      <td>China</td>\n",
       "      <td>6226</td>\n",
       "    </tr>\n",
       "    <tr>\n",
       "      <th>51</th>\n",
       "      <td>India</td>\n",
       "      <td>2882</td>\n",
       "    </tr>\n",
       "    <tr>\n",
       "      <th>106</th>\n",
       "      <td>South Korea</td>\n",
       "      <td>900</td>\n",
       "    </tr>\n",
       "    <tr>\n",
       "      <th>112</th>\n",
       "      <td>Taiwan</td>\n",
       "      <td>582</td>\n",
       "    </tr>\n",
       "    <tr>\n",
       "      <th>8</th>\n",
       "      <td>Bangladesh</td>\n",
       "      <td>154</td>\n",
       "    </tr>\n",
       "  </tbody>\n",
       "</table>\n",
       "</div>"
      ],
      "text/plain": [
       "          COUNTRY    ALL\n",
       "130          All   13350\n",
       "23         China    6226\n",
       "51         India    2882\n",
       "106  South Korea     900\n",
       "112       Taiwan     582\n",
       "8     Bangladesh     154"
      ]
     },
     "execution_count": 59,
     "metadata": {},
     "output_type": "execute_result"
    }
   ],
   "source": [
    "# Sort by the 'ALL' column and select the top five countries\n",
    "top_5_countries = df[['COUNTRY', 'ALL']].sort_values(by='ALL', ascending=False).head(6)\n",
    "top_5_countries"
   ]
  },
  {
   "cell_type": "markdown",
   "metadata": {},
   "source": [
    "Since \"All\" is not a country, I need to remove this column of data"
   ]
  },
  {
   "cell_type": "code",
   "execution_count": 60,
   "metadata": {},
   "outputs": [
    {
     "data": {
      "text/html": [
       "<div>\n",
       "<style scoped>\n",
       "    .dataframe tbody tr th:only-of-type {\n",
       "        vertical-align: middle;\n",
       "    }\n",
       "\n",
       "    .dataframe tbody tr th {\n",
       "        vertical-align: top;\n",
       "    }\n",
       "\n",
       "    .dataframe thead th {\n",
       "        text-align: right;\n",
       "    }\n",
       "</style>\n",
       "<table border=\"1\" class=\"dataframe\">\n",
       "  <thead>\n",
       "    <tr style=\"text-align: right;\">\n",
       "      <th></th>\n",
       "      <th>COUNTRY</th>\n",
       "      <th>ALL</th>\n",
       "    </tr>\n",
       "  </thead>\n",
       "  <tbody>\n",
       "    <tr>\n",
       "      <th>23</th>\n",
       "      <td>China</td>\n",
       "      <td>6226</td>\n",
       "    </tr>\n",
       "    <tr>\n",
       "      <th>51</th>\n",
       "      <td>India</td>\n",
       "      <td>2882</td>\n",
       "    </tr>\n",
       "    <tr>\n",
       "      <th>106</th>\n",
       "      <td>South Korea</td>\n",
       "      <td>900</td>\n",
       "    </tr>\n",
       "    <tr>\n",
       "      <th>112</th>\n",
       "      <td>Taiwan</td>\n",
       "      <td>582</td>\n",
       "    </tr>\n",
       "    <tr>\n",
       "      <th>8</th>\n",
       "      <td>Bangladesh</td>\n",
       "      <td>154</td>\n",
       "    </tr>\n",
       "  </tbody>\n",
       "</table>\n",
       "</div>"
      ],
      "text/plain": [
       "          COUNTRY   ALL\n",
       "23         China   6226\n",
       "51         India   2882\n",
       "106  South Korea    900\n",
       "112       Taiwan    582\n",
       "8     Bangladesh    154"
      ]
     },
     "execution_count": 60,
     "metadata": {},
     "output_type": "execute_result"
    }
   ],
   "source": [
    "df_no_all = df[df['COUNTRY'] != 'All ']\n",
    "top_5_countries = df_no_all[['COUNTRY', 'ALL']].sort_values(by='ALL', ascending=False).head(5)\n",
    "top_5_countries"
   ]
  },
  {
   "cell_type": "code",
   "execution_count": 61,
   "metadata": {},
   "outputs": [
    {
     "data": {
      "text/plain": [
       "np.float64(2148.8)"
      ]
     },
     "execution_count": 61,
     "metadata": {},
     "output_type": "execute_result"
    }
   ],
   "source": [
    "mean_value = top_5_countries['ALL'].mean()\n",
    "mean_value"
   ]
  },
  {
   "cell_type": "code",
   "execution_count": 62,
   "metadata": {},
   "outputs": [
    {
     "data": {
      "text/plain": [
       "np.float64(900.0)"
      ]
     },
     "execution_count": 62,
     "metadata": {},
     "output_type": "execute_result"
    }
   ],
   "source": [
    "median_value = top_5_countries['ALL'].median()\n",
    "median_value"
   ]
  },
  {
   "cell_type": "code",
   "execution_count": 63,
   "metadata": {},
   "outputs": [
    {
     "data": {
      "text/plain": [
       "np.float64(2507.72470578411)"
      ]
     },
     "execution_count": 63,
     "metadata": {},
     "output_type": "execute_result"
    }
   ],
   "source": [
    "std_dev = top_5_countries['ALL'].std()\n",
    "std_dev"
   ]
  },
  {
   "cell_type": "markdown",
   "metadata": {},
   "source": [
    "# Section 3: Exploratory Data Visualization\n",
    "\n",
    "In this section, I created two visualizations to explore the distribution of international students across countries:\n",
    "\n",
    "#### 1. Bar Chart of the Top 5 Countries with the Most International Students\n",
    "Since there are many countries in the dataset, I focused on the top five countries with the highest number of international students. The bar chart clearly shows the countries with the largest international student populations. It provides a more intuitive and focused view of the countries that contribute the most to the total number of international students.\n",
    "\n",
    "The top five countries include China, India, South Korea, Taiwan, and Bangladesh. The bar chart makes it easy to compare the number of international students from these countries.\n",
    "\n",
    "#### 2. Histogram of the \"ALL\" Column\n",
    "I also created a histogram to show the distribution of the \"ALL\" column, which represents the total number of international students across all countries. The histogram helps us understand the frequency distribution of student numbers. By grouping the data into bins, we can observe whether the distribution is skewed or if most countries have a similar number of international students.\n",
    "\n",
    "These visualizations allow us to gain insights into the concentration of international students across countries and the spread of the data.\n"
   ]
  },
  {
   "cell_type": "code",
   "execution_count": 64,
   "metadata": {},
   "outputs": [
    {
     "data": {
      "text/plain": [
       "<Axes: title={'center': 'Top 5 Countries with Most International Students'}, xlabel='Country', ylabel='Number of International Students'>"
      ]
     },
     "execution_count": 64,
     "metadata": {},
     "output_type": "execute_result"
    },
    {
     "data": {
      "image/png": "[encoded data removed]",
      "text/plain": [
       "<Figure size 1000x600 with 1 Axes>"
      ]
     },
     "metadata": {},
     "output_type": "display_data"
    }
   ],
   "source": [
    "# Create a bar chart showing the top five countries with the highest number of international students\n",
    "top_5_countries.plot.bar(x='COUNTRY', y='ALL', title=\"Top 5 Countries with Most International Students\", xlabel=\"Country\", ylabel=\"Number of International Students\", figsize=(10, 6))"
   ]
  },
  {
   "cell_type": "code",
   "execution_count": 65,
   "metadata": {},
   "outputs": [
    {
     "data": {
      "text/plain": [
       "<Axes: title={'center': 'Histogram of International Students (ALL)'}, xlabel='Number of International Students', ylabel='Frequency'>"
      ]
     },
     "execution_count": 65,
     "metadata": {},
     "output_type": "execute_result"
    },
    {
     "data": {
      "image/png": "[encoded data removed]",
      "text/plain": [
       "<Figure size 800x500 with 1 Axes>"
      ]
     },
     "metadata": {},
     "output_type": "display_data"
    }
   ],
   "source": [
    "# Create a histogram showing the distribution of the “ALL” columns.\n",
    "df['ALL'].plot.hist(bins=10, title=\"Histogram of International Students (ALL)\", xlabel=\"Number of International Students\", ylabel=\"Frequency\", figsize=(8, 5))"
   ]
  },
  {
   "cell_type": "markdown",
   "metadata": {},
   "source": [
    "# Section 4: Planning for Part II\n",
    "\n",
    "Throughout the exploratory data analysis, I observed that the number of international students from China is notably higher than other countries. This insight raises interesting questions about the distribution of international students at UIUC, especially in comparison to other nations. \n",
    "\n",
    "In Part II of the project, I plan to integrate the concepts I’ve learned in class, particularly those covered in Module 5: Polling, Confidence Intervals, and the Normal Distribution. By applying tools like expectation and inference, I can make more accurate predictions about the data under uncertainty. I am especially interested in examining how the data aligns with the Central Limit Theorem and using Confidence Intervals to assess the reliability of the findings. I might also explore Hypothesis Testing to evaluate whether the observed differences in international student numbers are statistically significant."
   ]
  },
  {
   "cell_type": "markdown",
   "metadata": {},
   "source": [
    "# Part II"
   ]
  },
  {
   "cell_type": "markdown",
   "metadata": {},
   "source": [
    "# Section 5: Data Science\n",
    "In this section, I aim to explore the question:  \n",
    "**\"Is the proportion of international students from China significantly higher than other countries at UIUC, and can we construct a confidence interval for this proportion to assess its reliability?\"**\n",
    "\n",
    "This question builds on the insights from Section 4, where I observed that the number of Chinese international students is notably higher. Understanding the statistical significance of this observation can provide deeper insights into enrollment patterns and the distribution of international students.  \n",
    "\n",
    "To address this question, I will use Python to:  \n",
    "1. Calculate the proportion of international students from China relative to the other 5 counteries' international students.  \n",
    "2. Construct a confidence interval for this proportion using methods from hypothesis testing and the Central Limit Theorem.  \n",
    "3. Compare this proportion to the distribution of students from other countries to assess the statistical significance.\n",
    "\n",
    "## Data Science Techniques\n",
    "\n",
    "I will employ the following methods:  \n",
    "1. **Confidence Intervals:** Using the normal approximation method, I will construct a confidence interval for the proportion of Chinese international students.  \n",
    "2. **Hypothesis Testing:** I will test the null hypothesis that the proportion of Chinese students is not significantly different from other major contributing countries."
   ]
  },
  {
   "cell_type": "code",
   "execution_count": 93,
   "metadata": {},
   "outputs": [
    {
     "data": {
      "text/html": [
       "<div>\n",
       "<style scoped>\n",
       "    .dataframe tbody tr th:only-of-type {\n",
       "        vertical-align: middle;\n",
       "    }\n",
       "\n",
       "    .dataframe tbody tr th {\n",
       "        vertical-align: top;\n",
       "    }\n",
       "\n",
       "    .dataframe thead th {\n",
       "        text-align: right;\n",
       "    }\n",
       "</style>\n",
       "<table border=\"1\" class=\"dataframe\">\n",
       "  <thead>\n",
       "    <tr style=\"text-align: right;\">\n",
       "      <th></th>\n",
       "      <th>COUNTRY</th>\n",
       "      <th>ALL</th>\n",
       "    </tr>\n",
       "  </thead>\n",
       "  <tbody>\n",
       "    <tr>\n",
       "      <th>0</th>\n",
       "      <td>China</td>\n",
       "      <td>6226</td>\n",
       "    </tr>\n",
       "    <tr>\n",
       "      <th>1</th>\n",
       "      <td>India</td>\n",
       "      <td>2882</td>\n",
       "    </tr>\n",
       "    <tr>\n",
       "      <th>2</th>\n",
       "      <td>South Korea</td>\n",
       "      <td>900</td>\n",
       "    </tr>\n",
       "    <tr>\n",
       "      <th>3</th>\n",
       "      <td>Taiwan</td>\n",
       "      <td>582</td>\n",
       "    </tr>\n",
       "    <tr>\n",
       "      <th>4</th>\n",
       "      <td>Bangladesh</td>\n",
       "      <td>154</td>\n",
       "    </tr>\n",
       "  </tbody>\n",
       "</table>\n",
       "</div>"
      ],
      "text/plain": [
       "       COUNTRY   ALL\n",
       "0        China  6226\n",
       "1        India  2882\n",
       "2  South Korea   900\n",
       "3       Taiwan   582\n",
       "4   Bangladesh   154"
      ]
     },
     "execution_count": 93,
     "metadata": {},
     "output_type": "execute_result"
    }
   ],
   "source": [
    "# First filter out the data for the top five countries\n",
    "data = {\n",
    "    \"COUNTRY\": [\"China\", \"India\", \"South Korea\", \"Taiwan\", \"Bangladesh\"],\n",
    "    \"ALL\": [6226, 2882, 900, 582, 154],\n",
    "}\n",
    "df = pd. DataFrame(data)\n",
    "df"
   ]
  },
  {
   "cell_type": "code",
   "execution_count": 97,
   "metadata": {},
   "outputs": [
    {
     "data": {
      "text/plain": [
       "np.float64(0.5794862248696947)"
      ]
     },
     "execution_count": 97,
     "metadata": {},
     "output_type": "execute_result"
    }
   ],
   "source": [
    "total_students = df[\"ALL\"].sum()\n",
    "total_students\n",
    "china_students = df.loc[df[\"COUNTRY\"] == \"China\", \"ALL\"].values[0]\n",
    "china_ratio = china_students / total_students\n",
    "china_ratio"
   ]
  },
  {
   "cell_type": "markdown",
   "metadata": {},
   "source": [
    "From the total percentage, it can be seen that the number of Chinese students accounted for about 57.9% of the total of the five countries, which shows that the number of people is very large. \n",
    "\n",
    "Next, we'll do Hypothesis Testing.\n",
    "\n",
    "Define the original hypothesis \n",
    "𝐻0: There is no significant difference between the percentage of international students in China and the percentage of international students in other countries.\n",
    "\n",
    "Define the alternative hypothesis \n",
    "𝐻1: The proportion of international students in China is significantly higher than the proportion of international students in other countries."
   ]
  },
  {
   "cell_type": "code",
   "execution_count": 101,
   "metadata": {},
   "outputs": [
    {
     "data": {
      "text/plain": [
       "np.float64(98.3374685724724)"
      ]
     },
     "execution_count": 101,
     "metadata": {},
     "output_type": "execute_result"
    }
   ],
   "source": [
    "overall_ratio = df[\"ALL\"].mean() / total_students\n",
    "overall_ratio\n",
    "n = total_students\n",
    "z_score = (china_ratio - overall_ratio) / (stats.binom.std(n, overall_ratio) / n)\n",
    "z_score"
   ]
  },
  {
   "cell_type": "code",
   "execution_count": 103,
   "metadata": {},
   "outputs": [
    {
     "data": {
      "text/plain": [
       "np.float64(0.0)"
      ]
     },
     "execution_count": 103,
     "metadata": {},
     "output_type": "execute_result"
    }
   ],
   "source": [
    "p_value = stats.norm.sf(z_score)\n",
    "p_value"
   ]
  },
  {
   "cell_type": "markdown",
   "metadata": {},
   "source": [
    "The p_value shows that the result is <0.05, which proves that the result is significant and the percentage of Chinese students is significantly higher than the average. Next we verify the confidence interval"
   ]
  },
  {
   "cell_type": "code",
   "execution_count": 105,
   "metadata": {},
   "outputs": [
    {
     "data": {
      "text/plain": [
       "np.float64(0.009334192711786838)"
      ]
     },
     "execution_count": 105,
     "metadata": {},
     "output_type": "execute_result"
    }
   ],
   "source": [
    "confidence_level = 0.95\n",
    "z_critical = stats.norm.ppf((1 + confidence_level) / 2)\n",
    "margin_of_error = z_critical * (stats.binom.std(n, china_ratio) / n)\n",
    "margin_of_error"
   ]
  },
  {
   "cell_type": "code",
   "execution_count": 108,
   "metadata": {},
   "outputs": [
    {
     "data": {
      "text/plain": [
       "np.float64(0.5701520321579079)"
      ]
     },
     "execution_count": 108,
     "metadata": {},
     "output_type": "execute_result"
    }
   ],
   "source": [
    "lower_bound = china_ratio - margin_of_error\n",
    "lower_bound"
   ]
  },
  {
   "cell_type": "code",
   "execution_count": 109,
   "metadata": {},
   "outputs": [
    {
     "data": {
      "text/plain": [
       "np.float64(0.5888204175814815)"
      ]
     },
     "execution_count": 109,
     "metadata": {},
     "output_type": "execute_result"
    }
   ],
   "source": [
    "upper_bound= china_ratio + margin_of_error\n",
    "upper_bound"
   ]
  },
  {
   "cell_type": "markdown",
   "metadata": {},
   "source": [
    "Finally we get a 95% probability for the confidence interval 0.57-0.58.This suggests that the estimate of this proportion is very centralized and has a small margin of error, indicating some stability and reliability of the data."
   ]
  },
  {
   "cell_type": "markdown",
   "metadata": {},
   "source": [
    "# Section 6: A Different Data Visualization\n",
    "\n",
    "For this section, we are focusing on visualizing data related to gender representation across various levels of education in five countries: China, India, South Korea, Taiwan, and Bangladesh. I will use the provided table, which contains counts of undergraduate, graduate by gender for each country."
   ]
  },
  {
   "cell_type": "code",
   "execution_count": 119,
   "metadata": {},
   "outputs": [
    {
     "data": {
      "text/plain": [
       "<module 'matplotlib.pyplot' from '/Library/Frameworks/Python.framework/Versions/3.12/lib/python3.12/site-packages/matplotlib/pyplot.py'>"
      ]
     },
     "execution_count": 119,
     "metadata": {},
     "output_type": "execute_result"
    },
    {
     "data": {
      "image/png": "[encoded data removed]",
      "text/plain": [
       "<Figure size 1000x600 with 1 Axes>"
      ]
     },
     "metadata": {},
     "output_type": "display_data"
    }
   ],
   "source": [
    "import matplotlib.pyplot as plt\n",
    "gender_data = {\n",
    "    \"COUNTRY\": [\"China\", \"India\", \"South Korea\", \"Taiwan\", \"Bangladesh\"],\n",
    "    \"Undergraduate Female\": [1009, 301, 0, 0, 5],\n",
    "    \"Undergraduate Male\": [2043, 676, 1, 2, 1],\n",
    "    \"Graduate Female\": [1267, 626, 5, 3, 58],\n",
    "    \"Graduate Male\": [1882, 1270, 17, 11, 89],\n",
    "}\n",
    "gender_df = pd.DataFrame(gender_data)\n",
    "gender_df.set_index('COUNTRY').plot(kind='bar', stacked=False, figsize=(10,6))\n",
    "plt.title('Gender Distribution Across Education Levels in Five Countries')\n",
    "plt.xlabel('Country')\n",
    "plt.ylabel('Number of Students')\n",
    "plt.xticks(rotation=45)\n",
    "plt.legend(title='Education Level and Gender')\n",
    "plt\n"
   ]
  },
  {
   "cell_type": "markdown",
   "metadata": {},
   "source": [
    "### summary\n",
    "Due to the high number of people in China and India it is not very obvious in other countries, but we can also analyze in this image that there are always more men than women in both undergraduate and graduate. This is because the red bars are all higher than the green ones and the yellow ones are all higher than the blue ones, and this is true in every country. I think this is an interesting and noteworthy phenomenon."
   ]
  },
  {
   "cell_type": "markdown",
   "metadata": {},
   "source": [
    "# Section 7: Overall Summary\n",
    "I conducted an analysis of the University of Illinois at Urbana-Champaign's (UIUC) \"Foreign Students by Country\" dataset for this project. Since they make up the largest groupings of international students at the University of Illinois, I concentrated especially on top 5 countries: China, India,South Korea. Taiwan and Bangladesh. This dataset shows the number of international students from various nations. China regularly has the most overseas students, followed by South Korea and India, according to my exploratory data analysis (EDA). Additionally, I displayed these results in bar charts that display the distribution of international students across all nations as well as the top five countries.\n",
    "\n",
    "\n",
    "In order to determine whether the proportion of Chinese students in UIUC is significantly larger than that of students from other countries, in addition to standard descriptive statistics, I also used statistical techniques including confidence intervals and hypothesis testing. The findings show that a significant proportion of overseas students are Chinese, and there are significant differences between the two groups. In addition, through the study of the chart, I also found an interesting point that the number of male students is generally higher than that of female students. This research improved my understanding of how to evaluate and interpret trends and distributions in data, and helped me apply ideas such as the central limit theorem and confidence intervals to real-world Settings."
   ]
  },
  {
   "cell_type": "markdown",
   "metadata": {},
   "source": []
  }
 ],
 "metadata": {
  "kernelspec": {
   "display_name": "Python 3",
   "language": "python",
   "name": "python3"
  },
  "language_info": {
   "codemirror_mode": {
    "name": "ipython",
    "version": 3
   },
   "file_extension": ".py",
   "mimetype": "text/x-python",
   "name": "python",
   "nbconvert_exporter": "python",
   "pygments_lexer": "ipython3",
   "version": "3.12.5"
  }
 },
 "nbformat": 4,
 "nbformat_minor": 2
}
